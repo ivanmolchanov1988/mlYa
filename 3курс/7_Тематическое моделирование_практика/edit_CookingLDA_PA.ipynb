{
 "cells": [
  {
   "cell_type": "markdown",
   "metadata": {},
   "source": [
    "# Programming Assignment: \n",
    "## Готовим LDA по рецептам"
   ]
  },
  {
   "cell_type": "markdown",
   "metadata": {},
   "source": [
    "Как вы уже знаете, в тематическом моделировании делается предположение о том, что для определения тематики порядок слов в документе не важен; об этом гласит гипотеза «мешка слов». Сегодня мы будем работать с несколько нестандартной для тематического моделирования коллекцией, которую можно назвать «мешком ингредиентов», потому что на состоит из рецептов блюд разных кухонь. Тематические модели ищут слова, которые часто вместе встречаются в документах, и составляют из них темы. Мы попробуем применить эту идею к рецептам и найти кулинарные «темы». Эта коллекция хороша тем, что не требует предобработки. Кроме того, эта задача достаточно наглядно иллюстрирует принцип работы тематических моделей.\n",
    "\n",
    "Для выполнения заданий, помимо часто используемых в курсе библиотек, потребуются модули *json* и *gensim*. Первый входит в дистрибутив Anaconda, второй можно поставить командой \n",
    "\n",
    "*pip install gensim*\n",
    "\n",
    "Построение модели занимает некоторое время. На ноутбуке с процессором Intel Core i7 и тактовой частотой 2400 МГц на построение одной модели уходит менее 10 минут."
   ]
  },
  {
   "cell_type": "markdown",
   "metadata": {},
   "source": [
    "### Загрузка данных"
   ]
  },
  {
   "cell_type": "markdown",
   "metadata": {},
   "source": [
    "Коллекция дана в json-формате: для каждого рецепта известны его id, кухня (cuisine) и список ингредиентов, в него входящих. Загрузить данные можно с помощью модуля json (он входит в дистрибутив Anaconda):"
   ]
  },
  {
   "cell_type": "code",
   "execution_count": 1,
   "metadata": {},
   "outputs": [],
   "source": [
    "import json"
   ]
  },
  {
   "cell_type": "code",
   "execution_count": 8,
   "metadata": {},
   "outputs": [],
   "source": [
    "with open(\"recipes.json\") as f:\n",
    "    recipes = json.load(f)"
   ]
  },
  {
   "cell_type": "code",
   "execution_count": 9,
   "metadata": {},
   "outputs": [
    {
     "name": "stdout",
     "output_type": "stream",
     "text": [
      "{u'cuisine': u'greek', u'id': 10259, u'ingredients': [u'romaine lettuce', u'black olives', u'grape tomatoes', u'garlic', u'pepper', u'purple onion', u'seasoning', u'garbanzo beans', u'feta cheese crumbles']}\n"
     ]
    }
   ],
   "source": [
    "print recipes[0]"
   ]
  },
  {
   "cell_type": "markdown",
   "metadata": {},
   "source": [
    "### Составление корпуса"
   ]
  },
  {
   "cell_type": "code",
   "execution_count": 10,
   "metadata": {},
   "outputs": [],
   "source": [
    "from gensim import corpora, models\n",
    "import numpy as np"
   ]
  },
  {
   "cell_type": "markdown",
   "metadata": {},
   "source": [
    "Наша коллекция небольшая, и целиком помещается в оперативную память. Gensim может работать с такими данными и не требует их сохранения на диск в специальном формате. Для этого коллекция должна быть представлена в виде списка списков, каждый внутренний список соответствует отдельному документу и состоит из его слов. Пример коллекции из двух документов: \n",
    "\n",
    "[[\"hello\", \"world\"], [\"programming\", \"in\", \"python\"]]\n",
    "\n",
    "Преобразуем наши данные в такой формат, а затем создадим объекты corpus и dictionary, с которыми будет работать модель."
   ]
  },
  {
   "cell_type": "code",
   "execution_count": 244,
   "metadata": {},
   "outputs": [],
   "source": [
    "texts = [recipe[\"ingredients\"] for recipe in recipes]\n",
    "dictionary = corpora.Dictionary(texts)   # составляем словарь\n",
    "corpus = [dictionary.doc2bow(text) for text in texts]  # составляем корпус документов"
   ]
  },
  {
   "cell_type": "code",
   "execution_count": 225,
   "metadata": {},
   "outputs": [
    {
     "name": "stdout",
     "output_type": "stream",
     "text": [
      "[u'romaine lettuce', u'black olives', u'grape tomatoes', u'garlic', u'pepper', u'purple onion', u'seasoning', u'garbanzo beans', u'feta cheese crumbles'] \n",
      "\n",
      "39774\n"
     ]
    }
   ],
   "source": [
    "print texts[0], '\\n'\n",
    "print len(corpus)\n",
    "\n",
    "#print dictionary[0]"
   ]
  },
  {
   "cell_type": "markdown",
   "metadata": {},
   "source": [
    "У объекта dictionary есть полезная переменная dictionary.token2id, позволяющая находить соответствие между ингредиентами и их индексами."
   ]
  },
  {
   "cell_type": "markdown",
   "metadata": {},
   "source": [
    "### Обучение модели\n",
    "Вам может понадобиться [документация](https://radimrehurek.com/gensim/models/ldamodel.html) LDA в gensim."
   ]
  },
  {
   "cell_type": "markdown",
   "metadata": {},
   "source": [
    "__Задание 1.__ Обучите модель LDA с 40 темами, установив количество проходов по коллекции 5 и оставив остальные параметры по умолчанию. \n",
    "\n",
    "\n",
    "Затем вызовите метод модели *show_topics*, указав количество тем 40 и количество токенов 10, и сохраните результат (топы ингредиентов в темах) в отдельную переменную. Если при вызове метода *show_topics* указать параметр *formatted=True*, то топы ингредиентов будет удобно выводить на печать, если *formatted=False*, будет удобно работать со списком программно. Выведите топы на печать, рассмотрите темы, а затем ответьте на вопрос:\n",
    "\n",
    "Сколько раз ингредиенты \"salt\", \"sugar\", \"water\", \"mushrooms\", \"chicken\", \"eggs\" встретились среди топов-10 всех 40 тем? При ответе __не нужно__ учитывать составные ингредиенты, например, \"hot water\".\n",
    "\n",
    "Передайте 6 чисел в функцию save_answers1 и загрузите сгенерированный файл в форму.\n",
    "\n",
    "У gensim нет возможности фиксировать случайное приближение через параметры метода, но библиотека использует numpy для инициализации матриц. Поэтому, по утверждению автора библиотеки, фиксировать случайное приближение нужно командой, которая написана в следующей ячейке. __Перед строкой кода с построением модели обязательно вставляйте указанную строку фиксации random.seed.__"
   ]
  },
  {
   "cell_type": "code",
   "execution_count": 349,
   "metadata": {},
   "outputs": [],
   "source": [
    "np.random.seed(76543)\n",
    "# здесь код для построения модели:\n",
    "#lda = LdaModel(common_corpus, num_topics=10)\n",
    "lda = models.LdaModel(corpus, num_topics = 40, passes = 5, id2word=dictionary)"
   ]
  },
  {
   "cell_type": "code",
   "execution_count": 227,
   "metadata": {},
   "outputs": [],
   "source": [
    "topFormattedTrue = lda.show_topics(num_topics=40, num_words=10, formatted= True)\n",
    "topFormattedFalse = lda.show_topics(num_topics=40, num_words=10, formatted= False)"
   ]
  },
  {
   "cell_type": "code",
   "execution_count": 350,
   "metadata": {},
   "outputs": [
    {
     "data": {
      "text/plain": [
       "[([(0.088227294, u'soy sauce'),\n",
       "   (0.054307044, u'sesame oil'),\n",
       "   (0.04537694, u'scallions'),\n",
       "   (0.044407655, u'green onions'),\n",
       "   (0.039320927, u'corn starch'),\n",
       "   (0.03883131, u'rice vinegar'),\n",
       "   (0.036080897, u'sugar'),\n",
       "   (0.033862688, u'garlic'),\n",
       "   (0.03089817, u'vegetable oil'),\n",
       "   (0.026808375, u'fresh ginger')],\n",
       "  -1.768845070460622),\n",
       " ([(0.0886428, u'chicken'),\n",
       "   (0.08429204, u'chicken stock'),\n",
       "   (0.055060092, u'yellow onion'),\n",
       "   (0.054314118, u'white vinegar'),\n",
       "   (0.04504776, u'onions'),\n",
       "   (0.043268695, u'ground black pepper'),\n",
       "   (0.042859986, u'garlic'),\n",
       "   (0.032400046, u'kosher salt'),\n",
       "   (0.026785107, u'salt'),\n",
       "   (0.026231399, u'water')],\n",
       "  -1.8109153191222813),\n",
       " ([(0.07462643, u'sour cream'),\n",
       "   (0.046695035, u'chili powder'),\n",
       "   (0.04548943, u'salsa'),\n",
       "   (0.044969432, u'flour tortillas'),\n",
       "   (0.040367767, u'black beans'),\n",
       "   (0.03973018, u'shredded cheddar cheese'),\n",
       "   (0.037632234, u'corn tortillas'),\n",
       "   (0.030939471, u'ground cumin'),\n",
       "   (0.028546073, u'cilantro'),\n",
       "   (0.027160771, u'salt')],\n",
       "  -1.8110149618088565),\n",
       " ([(0.13349794, u'eggs'),\n",
       "   (0.09055755, u'salt'),\n",
       "   (0.06111629, u'butter'),\n",
       "   (0.05545489, u'flour'),\n",
       "   (0.055407137, u'all-purpose flour'),\n",
       "   (0.05492474, u'milk'),\n",
       "   (0.052416425, u'white sugar'),\n",
       "   (0.03551163, u'sugar'),\n",
       "   (0.03197287, u'baking powder'),\n",
       "   (0.021297438, u'water')],\n",
       "  -2.002736181475184),\n",
       " ([(0.07813255, u'diced tomatoes'),\n",
       "   (0.07083208, u'dried oregano'),\n",
       "   (0.05585191, u'onions'),\n",
       "   (0.051108185, u'tomato sauce'),\n",
       "   (0.04768074, u'salt'),\n",
       "   (0.04423375, u'garlic'),\n",
       "   (0.039484836, u'dried basil'),\n",
       "   (0.039333522, u'olive oil'),\n",
       "   (0.03624971, u'tomato paste'),\n",
       "   (0.028629337, u'ground beef')],\n",
       "  -2.090610187125872),\n",
       " ([(0.106343456, u'oil'),\n",
       "   (0.084334634, u'salt'),\n",
       "   (0.04785589, u'green chilies'),\n",
       "   (0.04780822, u'cilantro leaves'),\n",
       "   (0.046337277, u'onions'),\n",
       "   (0.044702526, u'cumin seed'),\n",
       "   (0.03828821, u'ground turmeric'),\n",
       "   (0.037419133, u'water'),\n",
       "   (0.03370003, u'red chili peppers'),\n",
       "   (0.03169708, u'chili powder')],\n",
       "  -2.130835043316365),\n",
       " ([(0.09860984, u'salt'),\n",
       "   (0.07029925, u'paprika'),\n",
       "   (0.067480154, u'onions'),\n",
       "   (0.06434963, u'pepper'),\n",
       "   (0.05759594, u'potatoes'),\n",
       "   (0.031456277, u'carrots'),\n",
       "   (0.031392608, u'garlic'),\n",
       "   (0.028522385, u'butter'),\n",
       "   (0.02752679, u'oregano'),\n",
       "   (0.02665528, u'olive oil')],\n",
       "  -2.244929987093841),\n",
       " ([(0.13265035, u'unsalted butter'),\n",
       "   (0.07038273, u'all-purpose flour'),\n",
       "   (0.06623664, u'salt'),\n",
       "   (0.05582351, u'sugar'),\n",
       "   (0.054432996, u'large eggs'),\n",
       "   (0.0421716, u'whole milk'),\n",
       "   (0.0417429, u'granulated sugar'),\n",
       "   (0.0328685, u'buttermilk'),\n",
       "   (0.029630957, u'large egg yolks'),\n",
       "   (0.0283933, u'baking powder')],\n",
       "  -2.367700696865096),\n",
       " ([(0.08784444, u'red wine vinegar'),\n",
       "   (0.06965664, u'flat leaf parsley'),\n",
       "   (0.05248364, u'olive oil'),\n",
       "   (0.04440109, u'tomatoes'),\n",
       "   (0.04261693, u'extra-virgin olive oil'),\n",
       "   (0.041584216, u'garlic cloves'),\n",
       "   (0.0375637, u'sweet onion'),\n",
       "   (0.03471249, u'ground black pepper'),\n",
       "   (0.034520872, u'dry bread crumbs'),\n",
       "   (0.033066917, u'salt')],\n",
       "  -2.4016757044350734),\n",
       " ([(0.07469737, u'ground cumin'),\n",
       "   (0.04417754, u'salt'),\n",
       "   (0.04364167, u'ground coriander'),\n",
       "   (0.029024132, u'onions'),\n",
       "   (0.02747043, u'garlic'),\n",
       "   (0.024738584, u'ground turmeric'),\n",
       "   (0.024009023, u'garlic cloves'),\n",
       "   (0.022955332, u'vegetable oil'),\n",
       "   (0.022251453, u'paprika'),\n",
       "   (0.02176472, u'cayenne')],\n",
       "  -2.4060699149647724),\n",
       " ([(0.058559474, u'onions'),\n",
       "   (0.050931804, u'salt'),\n",
       "   (0.050478455, u'green bell pepper'),\n",
       "   (0.044689022, u'celery'),\n",
       "   (0.032566752, u'dried thyme'),\n",
       "   (0.030666914, u'water'),\n",
       "   (0.028280178, u'garlic'),\n",
       "   (0.027931135, u'bay leaves'),\n",
       "   (0.027552156, u'red bell pepper'),\n",
       "   (0.02730658, u'shrimp')],\n",
       "  -2.4214825807398968),\n",
       " ([(0.13009131, u'all-purpose flour'),\n",
       "   (0.12599166, u'large eggs'),\n",
       "   (0.088994265, u'salt'),\n",
       "   (0.080138855, u'milk'),\n",
       "   (0.07011248, u'butter'),\n",
       "   (0.049980137, u'sugar'),\n",
       "   (0.04088548, u'baking powder'),\n",
       "   (0.030803537, u'powdered sugar'),\n",
       "   (0.025907617, u'vegetable oil'),\n",
       "   (0.024166485, u'large egg whites')],\n",
       "  -2.4264097993085096),\n",
       " ([(0.10219409, u'lime juice'),\n",
       "   (0.09133107, u'lime'),\n",
       "   (0.04787375, u'salt'),\n",
       "   (0.043787632, u'garlic'),\n",
       "   (0.04242771, u'chopped cilantro'),\n",
       "   (0.04145919, u'fresh cilantro'),\n",
       "   (0.039544806, u'purple onion'),\n",
       "   (0.03477739, u'jalapeno chilies'),\n",
       "   (0.02623268, u'mango'),\n",
       "   (0.021458173, u'olive oil')],\n",
       "  -2.4390612936227556),\n",
       " ([(0.13138895, u'grated parmesan cheese'),\n",
       "   (0.050161015, u'olive oil'),\n",
       "   (0.048157185, u'mozzarella cheese'),\n",
       "   (0.04439818, u'shredded mozzarella cheese'),\n",
       "   (0.03758799, u'garlic'),\n",
       "   (0.0361424, u'salt'),\n",
       "   (0.035813093, u'italian seasoning'),\n",
       "   (0.03495326, u'eggs'),\n",
       "   (0.028856656, u'pepper'),\n",
       "   (0.026468884, u'pasta sauce')],\n",
       "  -2.4584079768562357),\n",
       " ([(0.073267855, u'chopped cilantro fresh'),\n",
       "   (0.06972146, u'fresh lime juice'),\n",
       "   (0.066870205, u'jalapeno chilies'),\n",
       "   (0.053722687, u'white onion'),\n",
       "   (0.040314663, u'avocado'),\n",
       "   (0.037019845, u'garlic cloves'),\n",
       "   (0.03602206, u'salt'),\n",
       "   (0.030647846, u'coarse salt'),\n",
       "   (0.028608523, u'ground cumin'),\n",
       "   (0.027162092, u'ground pepper')],\n",
       "  -2.504202567478892),\n",
       " ([(0.07021598, u'brown sugar'),\n",
       "   (0.04607269, u'soy sauce'),\n",
       "   (0.044391382, u'salt'),\n",
       "   (0.04421096, u'water'),\n",
       "   (0.042981084, u'white pepper'),\n",
       "   (0.0382639, u'oil'),\n",
       "   (0.03806597, u'sugar'),\n",
       "   (0.037118834, u'ketchup'),\n",
       "   (0.035626534, u'sauce'),\n",
       "   (0.03510903, u'garlic')],\n",
       "  -2.5475464611559078),\n",
       " ([(0.06838011, u'olive oil'),\n",
       "   (0.062884964, u'salt'),\n",
       "   (0.05891011, u'purple onion'),\n",
       "   (0.05474762, u'garlic cloves'),\n",
       "   (0.04794406, u'fresh lemon juice'),\n",
       "   (0.04727101, u'extra-virgin olive oil'),\n",
       "   (0.04546551, u'fresh basil'),\n",
       "   (0.045009818, u'plum tomatoes'),\n",
       "   (0.041061465, u'ground black pepper'),\n",
       "   (0.032945372, u'balsamic vinegar')],\n",
       "  -2.5856310535854448),\n",
       " ([(0.099714525, u'fish sauce'),\n",
       "   (0.04393323, u'coconut milk'),\n",
       "   (0.04099235, u'shallots'),\n",
       "   (0.037595145, u'sugar'),\n",
       "   (0.033812594, u'vegetable oil'),\n",
       "   (0.03329539, u'fresh lime juice'),\n",
       "   (0.029814279, u'lemongrass'),\n",
       "   (0.02847116, u'water'),\n",
       "   (0.023361716, u'medium shrimp'),\n",
       "   (0.0231539, u'beansprouts')],\n",
       "  -2.663685741022171),\n",
       " ([(0.07906334, u'cinnamon sticks'),\n",
       "   (0.073617384, u'clove'),\n",
       "   (0.053733643, u'black peppercorns'),\n",
       "   (0.0448992, u'garam masala'),\n",
       "   (0.03613238, u'chopped tomatoes'),\n",
       "   (0.036075745, u'cream'),\n",
       "   (0.033504356, u'garlic paste'),\n",
       "   (0.032118585, u'coriander seeds'),\n",
       "   (0.030220648, u'yoghurt'),\n",
       "   (0.026209837, u'bay leaves')],\n",
       "  -2.8206855051722752),\n",
       " ([(0.084171765, u'garlic cloves'),\n",
       "   (0.06965804, u'chopped onion'),\n",
       "   (0.06782778, u'cooking spray'),\n",
       "   (0.064646386, u'salt'),\n",
       "   (0.043428294, u'water'),\n",
       "   (0.041910782, u'fat free less sodium chicken broth'),\n",
       "   (0.039993476, u'ground red pepper'),\n",
       "   (0.03912287, u'sliced green onions'),\n",
       "   (0.02634012, u'black pepper'),\n",
       "   (0.023790007, u'spinach')],\n",
       "  -2.9343612760368494),\n",
       " ([(0.1769032, u'garlic powder'),\n",
       "   (0.11679163, u'cayenne pepper'),\n",
       "   (0.06639312, u'onion powder'),\n",
       "   (0.044006277, u'smoked paprika'),\n",
       "   (0.042889155, u'ground black pepper'),\n",
       "   (0.03514836, u'black pepper'),\n",
       "   (0.027586356, u'fine sea salt'),\n",
       "   (0.025603494, u'salt'),\n",
       "   (0.022975313, u'dried thyme'),\n",
       "   (0.022910874, u'greek yogurt')],\n",
       "  -3.0087057245991677),\n",
       " ([(0.054439455, u'rice'),\n",
       "   (0.05163198, u'onions'),\n",
       "   (0.046417363, u'chicken breasts'),\n",
       "   (0.046086803, u'salt'),\n",
       "   (0.043706965, u'coriander'),\n",
       "   (0.040531132, u'curry powder'),\n",
       "   (0.037626844, u'garlic'),\n",
       "   (0.033055834, u'cabbage'),\n",
       "   (0.032561466, u'ginger'),\n",
       "   (0.029442832, u'ghee')],\n",
       "  -3.0103999170834728),\n",
       " ([(0.13173796, u'extra-virgin olive oil'),\n",
       "   (0.074604675, u'freshly ground pepper'),\n",
       "   (0.06859072, u'sea salt'),\n",
       "   (0.048835933, u'large garlic cloves'),\n",
       "   (0.046247743, u'kosher salt'),\n",
       "   (0.03792877, u'garlic cloves'),\n",
       "   (0.03236601, u'celery ribs'),\n",
       "   (0.03018788, u'fresh oregano'),\n",
       "   (0.03008672, u'ground black pepper'),\n",
       "   (0.029375171, u'parmigiano reggiano cheese')],\n",
       "  -3.010694659396191),\n",
       " ([(0.08121181, u'olive oil'),\n",
       "   (0.05471344, u'fresh parsley'),\n",
       "   (0.05158975, u'crushed red pepper'),\n",
       "   (0.041959874, u'salt'),\n",
       "   (0.04068499, u'grated parmesan cheese'),\n",
       "   (0.039174125, u'garlic cloves'),\n",
       "   (0.03413268, u'cherry tomatoes'),\n",
       "   (0.032585654, u'low salt chicken broth'),\n",
       "   (0.03127135, u'butter'),\n",
       "   (0.028732289, u'green beans')],\n",
       "  -3.0501765204761346),\n",
       " ([(0.094095565, u'sugar'),\n",
       "   (0.07995747, u'whipping cream'),\n",
       "   (0.07593865, u'egg yolks'),\n",
       "   (0.055063765, u'vanilla extract'),\n",
       "   (0.043400075, u'butter'),\n",
       "   (0.04261524, u'half & half'),\n",
       "   (0.039017323, u'egg whites'),\n",
       "   (0.036691222, u'sweetened condensed milk'),\n",
       "   (0.032224495, u'water'),\n",
       "   (0.030931063, u'strawberries')],\n",
       "  -3.0965730716120623),\n",
       " ([(0.07386835, u'bacon'),\n",
       "   (0.07292463, u'salt'),\n",
       "   (0.06094609, u'red pepper flakes'),\n",
       "   (0.046570435, u'ground black pepper'),\n",
       "   (0.046220895, u'garlic'),\n",
       "   (0.04179345, u'pasta'),\n",
       "   (0.037137818, u'onions'),\n",
       "   (0.036318656, u'olive oil'),\n",
       "   (0.036304213, u'chicken thighs'),\n",
       "   (0.030322067, u'fresh dill')],\n",
       "  -3.4803130663613255),\n",
       " ([(0.078586705, u'dry white wine'),\n",
       "   (0.064418405, u'shallots'),\n",
       "   (0.05153163, u'olive oil'),\n",
       "   (0.03921626, u'salt'),\n",
       "   (0.030400392, u'ground cloves'),\n",
       "   (0.029700406, u'white wine vinegar'),\n",
       "   (0.029078886, u'butter'),\n",
       "   (0.028471854, u'arborio rice'),\n",
       "   (0.024808604, u'saffron threads'),\n",
       "   (0.023230616, u'ground nutmeg')],\n",
       "  -3.759607485031479),\n",
       " ([(0.1291754, u'zucchini'),\n",
       "   (0.071087025, u'eggplant'),\n",
       "   (0.06085624, u'onions'),\n",
       "   (0.05069114, u'olive oil'),\n",
       "   (0.050018772, u'white wine'),\n",
       "   (0.047786836, u'garlic'),\n",
       "   (0.04468414, u'chopped parsley'),\n",
       "   (0.039033078, u'fresh mushrooms'),\n",
       "   (0.03596856, u'lean ground beef'),\n",
       "   (0.03276228, u'raisins')],\n",
       "  -4.387408458044055),\n",
       " ([(0.12790158, u'lemon'),\n",
       "   (0.06505046, u'sugar'),\n",
       "   (0.05939578, u'fresh mint'),\n",
       "   (0.04819912, u'orange'),\n",
       "   (0.04253356, u'boiling water'),\n",
       "   (0.03353512, u'cold water'),\n",
       "   (0.03298103, u'water'),\n",
       "   (0.029220022, u'ground white pepper'),\n",
       "   (0.027751958, u'almonds'),\n",
       "   (0.02282312, u'all purpose unbleached flour')],\n",
       "  -4.468805196367015),\n",
       " ([(0.21047872, u'chicken broth'),\n",
       "   (0.08617708, u'boneless skinless chicken breast halves'),\n",
       "   (0.07813077, u'boneless skinless chicken breasts'),\n",
       "   (0.05683708, u'cajun seasoning'),\n",
       "   (0.037468508, u'juice'),\n",
       "   (0.030434776, u'butter'),\n",
       "   (0.029544648, u'pepper'),\n",
       "   (0.024852995, u'onions'),\n",
       "   (0.021598822, u'garlic salt'),\n",
       "   (0.021533536, u'boneless chicken breast')],\n",
       "  -4.696586263411154),\n",
       " ([(0.071908556, u'mirin'),\n",
       "   (0.06316802, u'chickpeas'),\n",
       "   (0.043683454, u'mint leaves'),\n",
       "   (0.04350317, u'spring onions'),\n",
       "   (0.042715482, u'red pepper'),\n",
       "   (0.03662128, u'fresh coriander'),\n",
       "   (0.036294006, u'sake'),\n",
       "   (0.035252985, u'saffron'),\n",
       "   (0.0314456, u'soy sauce'),\n",
       "   (0.03128213, u'sugar')],\n",
       "  -6.496783234699962),\n",
       " ([(0.10686615, u'parmesan cheese'),\n",
       "   (0.07542276, u'salt'),\n",
       "   (0.06602801, u'warm water'),\n",
       "   (0.054076407, u'olive oil'),\n",
       "   (0.05156222, u'bell pepper'),\n",
       "   (0.04937832, u'water'),\n",
       "   (0.035690833, u'grits'),\n",
       "   (0.031318028, u'polenta'),\n",
       "   (0.029725786, u'kale'),\n",
       "   (0.02836023, u'plain flour')],\n",
       "  -7.058434788233501),\n",
       " ([(0.08288024, u'cheese'),\n",
       "   (0.080211684, u'ricotta cheese'),\n",
       "   (0.07569578, u'orange juice'),\n",
       "   (0.05108882, u'sliced mushrooms'),\n",
       "   (0.050212525, u'baby spinach'),\n",
       "   (0.044597045, u'vegetable oil cooking spray'),\n",
       "   (0.031937376, u'frozen chopped spinach'),\n",
       "   (0.028930997, u'italian sausage'),\n",
       "   (0.027697356, u'part-skim ricotta cheese'),\n",
       "   (0.026522333, u'part-skim mozzarella cheese')],\n",
       "  -7.843875403329743),\n",
       " ([(0.07518996, u'leeks'),\n",
       "   (0.07353099, u'dry red wine'),\n",
       "   (0.049987547, u'pork tenderloin'),\n",
       "   (0.044726815, u'reduced sodium soy sauce'),\n",
       "   (0.04403371, u'cilantro sprigs'),\n",
       "   (0.03453613, u'peppercorns'),\n",
       "   (0.030967353, u'carrots'),\n",
       "   (0.025503037, u'granny smith apples'),\n",
       "   (0.02455889, u'beef broth'),\n",
       "   (0.024070693, u'cremini mushrooms')],\n",
       "  -8.156220274821894),\n",
       " ([(0.12672956, u'mayonaise'),\n",
       "   (0.062804416, u'dijon mustard'),\n",
       "   (0.05738003, u'cider vinegar'),\n",
       "   (0.057192296, u'cracked black pepper'),\n",
       "   (0.05290602, u'cheddar cheese'),\n",
       "   (0.03877668, u'roma tomatoes'),\n",
       "   (0.03770634, u'apple cider vinegar'),\n",
       "   (0.036042877, u'white rice'),\n",
       "   (0.035815623, u'lemon wedge'),\n",
       "   (0.02656781, u'french bread')],\n",
       "  -8.653969107560576),\n",
       " ([(0.16889869, u'heavy cream'),\n",
       "   (0.056680996, u'grated nutmeg'),\n",
       "   (0.054386802, u'frozen peas'),\n",
       "   (0.041357666, u'bread crumbs'),\n",
       "   (0.03756088, u'unsalted butter'),\n",
       "   (0.034859005, u'bananas'),\n",
       "   (0.034731336, u'Tabasco Pepper Sauce'),\n",
       "   (0.03132567, u'bread'),\n",
       "   (0.02788738, u'mascarpone'),\n",
       "   (0.026599262, u'lump crab meat')],\n",
       "  -9.362034517055815),\n",
       " ([(0.07869277, u'large shrimp'),\n",
       "   (0.07010703, u'hot water'),\n",
       "   (0.06510793, u'chopped garlic'),\n",
       "   (0.05268206, u'peanut oil'),\n",
       "   (0.046047043, u'rice wine'),\n",
       "   (0.035946537, u'hot red pepper flakes'),\n",
       "   (0.028698787, u'corn oil'),\n",
       "   (0.025592266, u'fontina cheese'),\n",
       "   (0.023869254, u'marsala wine'),\n",
       "   (0.023670746, u'seasoning')],\n",
       "  -10.34074509871591),\n",
       " ([(0.076162696, u'corn kernels'),\n",
       "   (0.06478067, u'diced onions'),\n",
       "   (0.054170206, u'tortillas'),\n",
       "   (0.052615125, u'salt and ground black pepper'),\n",
       "   (0.05244322, u'cream cheese'),\n",
       "   (0.04376323, u'1% low-fat milk'),\n",
       "   (0.037935086, u'vegetable stock'),\n",
       "   (0.03697521, u'sliced black olives'),\n",
       "   (0.035920784, u'cream cheese, soften'),\n",
       "   (0.03484748, u'chopped fresh chives')],\n",
       "  -10.577282275558092),\n",
       " ([(0.06628039, u'beef'),\n",
       "   (0.05033932, u'onions'),\n",
       "   (0.04664535, u'green cabbage'),\n",
       "   (0.044178892, u'red wine'),\n",
       "   (0.041962337, u'green peas'),\n",
       "   (0.037822917, u'goat cheese'),\n",
       "   (0.033056192, u'beef stock'),\n",
       "   (0.030407658, u'red cabbage'),\n",
       "   (0.027899088, u'cooked rice'),\n",
       "   (0.02764453, u'chili pepper')],\n",
       "  -11.29826165909654),\n",
       " ([(0.053727508, u'broccoli florets'),\n",
       "   (0.05072321, u'lettuce leaves'),\n",
       "   (0.040980645, u'chili flakes'),\n",
       "   (0.039928373, u'cr\\xe8me fra\\xeeche'),\n",
       "   (0.036516417, u'radishes'),\n",
       "   (0.03175258, u'greek style plain yogurt'),\n",
       "   (0.031665746, u'pork sausages'),\n",
       "   (0.030972669, u'sharp cheddar cheese'),\n",
       "   (0.028878994, u'watercress'),\n",
       "   (0.027067585, u'quickcooking grits')],\n",
       "  -17.83903260261932)]"
      ]
     },
     "execution_count": 350,
     "metadata": {},
     "output_type": "execute_result"
    }
   ],
   "source": [
    "lda.top_topics(corpus=corpus, dictionary=dictionary, topn=10)"
   ]
  },
  {
   "cell_type": "code",
   "execution_count": 229,
   "metadata": {
    "scrolled": false
   },
   "outputs": [
    {
     "name": "stdout",
     "output_type": "stream",
     "text": [
      "(0, [(u'garlic cloves', 0.084171765), (u'chopped onion', 0.06965804), (u'cooking spray', 0.06782778), (u'salt', 0.064646386), (u'water', 0.043428294), (u'fat free less sodium chicken broth', 0.041910782), (u'ground red pepper', 0.039993476), (u'sliced green onions', 0.03912287), (u'black pepper', 0.02634012), (u'spinach', 0.023790007)]) \n",
      "\n",
      "(39, u'0.127*\"mayonaise\" + 0.063*\"dijon mustard\" + 0.057*\"cider vinegar\" + 0.057*\"cracked black pepper\" + 0.053*\"cheddar cheese\" + 0.039*\"roma tomatoes\" + 0.038*\"apple cider vinegar\" + 0.036*\"white rice\" + 0.036*\"lemon wedge\" + 0.027*\"french bread\"') \n",
      "\n"
     ]
    },
    {
     "data": {
      "text/plain": [
       "(0,\n",
       " [(u'garlic cloves', 0.084171765),\n",
       "  (u'chopped onion', 0.06965804),\n",
       "  (u'cooking spray', 0.06782778),\n",
       "  (u'salt', 0.064646386),\n",
       "  (u'water', 0.043428294),\n",
       "  (u'fat free less sodium chicken broth', 0.041910782),\n",
       "  (u'ground red pepper', 0.039993476),\n",
       "  (u'sliced green onions', 0.03912287),\n",
       "  (u'black pepper', 0.02634012),\n",
       "  (u'spinach', 0.023790007)])"
      ]
     },
     "execution_count": 229,
     "metadata": {},
     "output_type": "execute_result"
    }
   ],
   "source": [
    "print topFormattedFalse[0], '\\n'\n",
    "print topFormattedTrue[39], '\\n'\n",
    "\n",
    "words = ['salt','sugar','water','mushrooms','chicken','eggs']\n",
    "\n",
    "topFormattedFalse[0]"
   ]
  },
  {
   "cell_type": "code",
   "execution_count": 230,
   "metadata": {},
   "outputs": [
    {
     "data": {
      "text/plain": [
       "{'chicken': 1, 'eggs': 2, 'mushrooms': 0, 'salt': 23, 'sugar': 9, 'water': 10}"
      ]
     },
     "execution_count": 230,
     "metadata": {},
     "output_type": "execute_result"
    }
   ],
   "source": [
    "result = dict(zip(words, [0]*len(words)))\n",
    "for w in words:\n",
    "    for i in topFormattedFalse:\n",
    "        for ii in i[1]:\n",
    "            #print ii[0]\n",
    "            if ii[0] == w:\n",
    "                result[w]+=1\n",
    "\n",
    "result"
   ]
  },
  {
   "cell_type": "code",
   "execution_count": 113,
   "metadata": {},
   "outputs": [],
   "source": [
    "def save_answers1(c_salt, c_sugar, c_water, c_mushrooms, c_chicken, c_eggs):\n",
    "    with open(\"cooking_LDA_pa_task1.txt\", \"w\") as fout:\n",
    "        fout.write(\" \".join([str(el) for el in [c_salt, c_sugar, c_water, c_mushrooms, c_chicken, c_eggs]]))"
   ]
  },
  {
   "cell_type": "code",
   "execution_count": 121,
   "metadata": {},
   "outputs": [],
   "source": [
    "#result['salt']\n",
    "save_answers1(result['salt'],result['sugar'], result['water'], result['mushrooms'],result['chicken'],result['eggs'])"
   ]
  },
  {
   "cell_type": "markdown",
   "metadata": {},
   "source": [
    "### Фильтрация словаря\n",
    "В топах тем гораздо чаще встречаются первые три рассмотренных ингредиента, чем последние три. При этом наличие в рецепте курицы, яиц и грибов яснее дает понять, что мы будем готовить, чем наличие соли, сахара и воды. Таким образом, даже в рецептах есть слова, часто встречающиеся в текстах и не несущие смысловой нагрузки, и поэтому их не желательно видеть в темах. Наиболее простой прием борьбы с такими фоновыми элементами — фильтрация словаря по частоте. Обычно словарь фильтруют с двух сторон: убирают очень редкие слова (в целях экономии памяти) и очень частые слова (в целях повышения интерпретируемости тем). Мы уберем только частые слова."
   ]
  },
  {
   "cell_type": "code",
   "execution_count": 245,
   "metadata": {},
   "outputs": [],
   "source": [
    "import copy\n",
    "dictionary2 = copy.deepcopy(dictionary)"
   ]
  },
  {
   "cell_type": "markdown",
   "metadata": {},
   "source": [
    "__Задание 2.__ У объекта dictionary2 есть переменная *dfs* — это словарь, ключами которого являются id токена, а элементами — число раз, сколько слово встретилось во всей коллекции. Сохраните в отдельный список ингредиенты, которые встретились в коллекции больше 4000 раз. Вызовите метод словаря *filter_tokens*, подав в качестве первого аргумента полученный список популярных ингредиентов. Вычислите две величины: dict_size_before и dict_size_after — размер словаря до и после фильтрации.\n",
    "\n",
    "Затем, используя новый словарь, создайте новый корпус документов, corpus2, по аналогии с тем, как это сделано в начале ноутбука. Вычислите две величины: corpus_size_before и corpus_size_after — суммарное количество ингредиентов в корпусе (для каждого документа вычислите число различных ингредиентов в нем и просуммируйте по всем документам) до и после фильтрации.\n",
    "\n",
    "Передайте величины dict_size_before, dict_size_after, corpus_size_before, corpus_size_after в функцию save_answers2 и загрузите сгенерированный файл в форму."
   ]
  },
  {
   "cell_type": "code",
   "execution_count": 246,
   "metadata": {
    "scrolled": true
   },
   "outputs": [
    {
     "data": {
      "text/plain": [
       "[7380, 4438, 4784, 18048, 4385, 4847, 7457, 7972, 6434, 7971, 6236, 4632]"
      ]
     },
     "execution_count": 246,
     "metadata": {},
     "output_type": "execute_result"
    }
   ],
   "source": [
    "dcitDfs4000 = []\n",
    "for i in dictionary2.dfs:\n",
    "    if dictionary2.dfs[i] > 4000:\n",
    "        #dcitDfs4000.append([i,dictionary2.dfs[i]])\n",
    "        #dcitDfs4000.append(i)\n",
    "        dcitDfs4000.append(dictionary2.dfs[i])\n",
    "        \n",
    "dcitDfs4000"
   ]
  },
  {
   "cell_type": "code",
   "execution_count": 247,
   "metadata": {},
   "outputs": [],
   "source": [
    "dictionary2.filter_tokens(bad_ids=dcitDfs4000)"
   ]
  },
  {
   "cell_type": "code",
   "execution_count": 248,
   "metadata": {},
   "outputs": [],
   "source": [
    "corpus2 = [dictionary2.doc2bow(text) for text in texts]"
   ]
  },
  {
   "cell_type": "code",
   "execution_count": 251,
   "metadata": {},
   "outputs": [
    {
     "name": "stdout",
     "output_type": "stream",
     "text": [
      "6714\n",
      "6707\n",
      "39774\n",
      "39774 \n",
      "\n",
      "428235 \n",
      "428249\n"
     ]
    }
   ],
   "source": [
    "print len(dictionary)\n",
    "print len(dictionary2)\n",
    "print len(corpus)\n",
    "print len(corpus2), '\\n'\n",
    "corpSizeAfter = 0\n",
    "corpSizeBefore = 0\n",
    "for c2 in corpus2:\n",
    "    corpSizeAfter += len(c2)\n",
    "    \n",
    "for c1 in corpus:\n",
    "    corpSizeBefore += len(c1)\n",
    "    \n",
    "print corpSizeAfter, '\\n', corpSizeBefore"
   ]
  },
  {
   "cell_type": "code",
   "execution_count": 194,
   "metadata": {},
   "outputs": [],
   "source": [
    "def save_answers2(dict_size_before, dict_size_after, corpus_size_before, corpus_size_after):\n",
    "    with open(\"cooking_LDA_pa_task2.txt\", \"w\") as fout:\n",
    "        fout.write(\" \".join([str(el) for el in [dict_size_before, dict_size_after, corpus_size_before, corpus_size_after]]))"
   ]
  },
  {
   "cell_type": "code",
   "execution_count": 250,
   "metadata": {},
   "outputs": [],
   "source": [
    "save_answers2(len(dictionary), len(dictionary2), corpSizeBefore, corpSizeAfter)"
   ]
  },
  {
   "cell_type": "code",
   "execution_count": 252,
   "metadata": {},
   "outputs": [
    {
     "name": "stdout",
     "output_type": "stream",
     "text": [
      "6714\n",
      "428249\n"
     ]
    },
    {
     "data": {
      "text/plain": [
       "343665"
      ]
     },
     "execution_count": 252,
     "metadata": {},
     "output_type": "execute_result"
    }
   ],
   "source": [
    "#WTF???\n",
    "import copy\n",
    "dictionary2 = copy.deepcopy(dictionary)\n",
    "dict_size_before = len(dictionary.dfs)\n",
    "[dictionary2.dfs[key] for key in dictionary2.dfs.keys() if dictionary2.dfs[key] > 4000]\n",
    "bad_ids = [key for key in dictionary2.dfs.keys() if dictionary2.dfs[key] > 4000]\n",
    "dictionary2.filter_tokens(bad_ids)\n",
    "dict_size_after = len(dictionary2.dfs)\n",
    "print dict_size_before\n",
    "dict_size_after\n",
    "corpus2 = [dictionary2.doc2bow(text) for text in texts]\n",
    "corpus_size_before = 0\n",
    "corpus_size_after = 0\n",
    "for c in corpus:\n",
    "    corpus_size_before += len(c)\n",
    "\n",
    "for c in corpus2:\n",
    "    corpus_size_after  += len(c)\n",
    "    \n",
    "print corpus_size_before\n",
    "corpus_size_after"
   ]
  },
  {
   "cell_type": "code",
   "execution_count": 253,
   "metadata": {},
   "outputs": [],
   "source": [
    "#WTF2\n",
    "save_answers2(dict_size_before, dict_size_after, corpus_size_before, corpus_size_after)"
   ]
  },
  {
   "cell_type": "markdown",
   "metadata": {},
   "source": [
    "### Сравнение когерентностей\n",
    "__Задание 3.__ Постройте еще одну модель по корпусу corpus2 и словарю dictionary2, остальные параметры оставьте такими же, как при первом построении модели. Сохраните новую модель в другую переменную (не перезаписывайте предыдущую модель). Не забудьте про фиксирование seed!\n",
    "\n",
    "Затем воспользуйтесь методом *top_topics* модели, чтобы вычислить ее когерентность. Передайте в качестве аргумента соответствующий модели корпус. Метод вернет список кортежей (топ токенов, когерентность), отсортированных по убыванию последней. Вычислите среднюю по всем темам когерентность для каждой из двух моделей и передайте в функцию save_answers3. "
   ]
  },
  {
   "cell_type": "code",
   "execution_count": 303,
   "metadata": {},
   "outputs": [],
   "source": [
    "np.random.seed(76541)\n",
    "# здесь код для построения модели:\n",
    "#lda = LdaModel(common_corpus, num_topics=10)\n",
    "lda2 = models.LdaModel(corpus2, num_topics = 40, passes = 5, id2word=dictionary2)"
   ]
  },
  {
   "cell_type": "code",
   "execution_count": 294,
   "metadata": {},
   "outputs": [
    {
     "data": {
      "text/plain": [
       "([(0.055518486, u'cumin seed'),\n",
       "  (0.053058997, u'garam masala'),\n",
       "  (0.042551514, u'ground turmeric'),\n",
       "  (0.039431274, u'oil'),\n",
       "  (0.03826629, u'ginger'),\n",
       "  (0.03601199, u'green chilies'),\n",
       "  (0.035494786, u'clove'),\n",
       "  (0.03402385, u'tomatoes'),\n",
       "  (0.03293016, u'tumeric'),\n",
       "  (0.031616636, u'cinnamon sticks'),\n",
       "  (0.029523306, u'chili powder'),\n",
       "  (0.024645548, u'coriander seeds'),\n",
       "  (0.021908414, u'coriander'),\n",
       "  (0.018665506, u'cilantro leaves'),\n",
       "  (0.017503997, u'basmati rice'),\n",
       "  (0.017286845, u'mustard seeds'),\n",
       "  (0.016301157, u'fresh ginger'),\n",
       "  (0.016301027, u'ghee'),\n",
       "  (0.0161542, u'garlic paste'),\n",
       "  (0.014570953, u'yoghurt')],\n",
       " -2.5829867213049367)"
      ]
     },
     "execution_count": 294,
     "metadata": {},
     "output_type": "execute_result"
    }
   ],
   "source": [
    "lda2.top_topics(corpus=corpus2)[0]"
   ]
  },
  {
   "cell_type": "code",
   "execution_count": 287,
   "metadata": {},
   "outputs": [
    {
     "name": "stdout",
     "output_type": "stream",
     "text": [
      "-232.4551059544301"
     ]
    },
    {
     "data": {
      "text/plain": [
       "-327.3144568600147"
      ]
     },
     "execution_count": 287,
     "metadata": {},
     "output_type": "execute_result"
    },
    {
     "name": "stdout",
     "output_type": "stream",
     "text": [
      "\n"
     ]
    }
   ],
   "source": [
    "cog1 = 0\n",
    "cog2 = 0\n",
    "for i in lda2.top_topics(corpus=corpus2):\n",
    "    cog2+= i[1] # кажется, понял. Надо не складывать когерентности, а просто добавлять. Дальше, в np.mean() он сам всё сделает\n",
    "    \n",
    "for i in lda.top_topics(corpus=corpus):\n",
    "    cog1+= i[1]\n",
    "    \n",
    "print np.mean(cog1),\n",
    "np.mean(cog2)"
   ]
  },
  {
   "cell_type": "code",
   "execution_count": 288,
   "metadata": {},
   "outputs": [],
   "source": [
    "def save_answers3(coherence, coherence2):\n",
    "    with open(\"cooking_LDA_pa_task3.txt\", \"w\") as fout:\n",
    "        fout.write(\" \".join([\"%3f\"%el for el in [coherence, coherence2]]))"
   ]
  },
  {
   "cell_type": "code",
   "execution_count": 289,
   "metadata": {},
   "outputs": [],
   "source": [
    "save_answers3(np.mean(cog1),np.mean(cog2))"
   ]
  },
  {
   "cell_type": "code",
   "execution_count": 291,
   "metadata": {},
   "outputs": [
    {
     "data": {
      "text/plain": [
       "'1.14.3'"
      ]
     },
     "execution_count": 291,
     "metadata": {},
     "output_type": "execute_result"
    }
   ],
   "source": [
    "np.version.version"
   ]
  },
  {
   "cell_type": "code",
   "execution_count": 292,
   "metadata": {},
   "outputs": [],
   "source": [
    "#WTH??? (то, что выше - не подходит. Ниже вариант списал)\n",
    "nums = [c[1] for c in lda.top_topics(corpus=corpus)]\n",
    "nums2 = [c[1] for c in lda2.top_topics(corpus=corpus2)]"
   ]
  },
  {
   "cell_type": "code",
   "execution_count": 293,
   "metadata": {},
   "outputs": [],
   "source": [
    "save_answers3(np.mean(nums), np.mean(nums2))"
   ]
  },
  {
   "cell_type": "markdown",
   "metadata": {},
   "source": [
    "Считается, что когерентность хорошо соотносится с человеческими оценками интерпретируемости тем. Поэтому на больших текстовых коллекциях когерентность обычно повышается, если убрать фоновую лексику. Однако в нашем случае этого не произошло. "
   ]
  },
  {
   "cell_type": "markdown",
   "metadata": {},
   "source": [
    "### Изучение влияния гиперпараметра alpha"
   ]
  },
  {
   "cell_type": "markdown",
   "metadata": {},
   "source": [
    "В этом разделе мы будем работать со второй моделью, то есть той, которая построена по сокращенному корпусу. \n",
    "\n",
    "Пока что мы посмотрели только на матрицу темы-слова, теперь давайте посмотрим на матрицу темы-документы. Выведите темы для нулевого (или любого другого) документа из корпуса, воспользовавшись методом *get_document_topics* второй модели:"
   ]
  },
  {
   "cell_type": "code",
   "execution_count": 297,
   "metadata": {},
   "outputs": [
    {
     "data": {
      "text/plain": [
       "[(6, 0.128125),\n",
       " (7, 0.13206646),\n",
       " (10, 0.128125),\n",
       " (11, 0.37418354),\n",
       " (27, 0.128125)]"
      ]
     },
     "execution_count": 297,
     "metadata": {},
     "output_type": "execute_result"
    }
   ],
   "source": [
    "lda2.get_document_topics(corpus2[0])"
   ]
  },
  {
   "cell_type": "markdown",
   "metadata": {},
   "source": [
    "Также выведите содержимое переменной *.alpha* второй модели:"
   ]
  },
  {
   "cell_type": "code",
   "execution_count": 299,
   "metadata": {},
   "outputs": [
    {
     "data": {
      "text/plain": [
       "array([0.025, 0.025, 0.025, 0.025, 0.025, 0.025, 0.025, 0.025, 0.025,\n",
       "       0.025, 0.025, 0.025, 0.025, 0.025, 0.025, 0.025, 0.025, 0.025,\n",
       "       0.025, 0.025, 0.025, 0.025, 0.025, 0.025, 0.025, 0.025, 0.025,\n",
       "       0.025, 0.025, 0.025, 0.025, 0.025, 0.025, 0.025, 0.025, 0.025,\n",
       "       0.025, 0.025, 0.025, 0.025], dtype=float32)"
      ]
     },
     "execution_count": 299,
     "metadata": {},
     "output_type": "execute_result"
    }
   ],
   "source": [
    "lda2.alpha"
   ]
  },
  {
   "cell_type": "markdown",
   "metadata": {},
   "source": [
    "У вас должно получиться, что документ характеризуется небольшим числом тем. Попробуем поменять гиперпараметр alpha, задающий априорное распределение Дирихле для распределений тем в документах."
   ]
  },
  {
   "cell_type": "code",
   "execution_count": 301,
   "metadata": {},
   "outputs": [],
   "source": [
    "np.random.seed(76545)\n",
    "# здесь код для построения модели:\n",
    "#lda = LdaModel(common_corpus, num_topics=10)\n",
    "lda2 = models.LdaModel(corpus2, num_topics = 40, passes = 5, id2word=dictionary2, alpha=1)"
   ]
  },
  {
   "cell_type": "code",
   "execution_count": 302,
   "metadata": {},
   "outputs": [
    {
     "data": {
      "text/plain": [
       "array([1., 1., 1., 1., 1., 1., 1., 1., 1., 1., 1., 1., 1., 1., 1., 1., 1.,\n",
       "       1., 1., 1., 1., 1., 1., 1., 1., 1., 1., 1., 1., 1., 1., 1., 1., 1.,\n",
       "       1., 1., 1., 1., 1., 1.], dtype=float32)"
      ]
     },
     "execution_count": 302,
     "metadata": {},
     "output_type": "execute_result"
    }
   ],
   "source": [
    "lda2.get_document_topics(corpus2[0])\n",
    "lda2.alpha\n",
    "# чёт я рано, видимо, вторую модель переобучил. Вернул как было. Ниже обучим третью модель с alpha = 1"
   ]
  },
  {
   "cell_type": "markdown",
   "metadata": {},
   "source": [
    "__Задание 4.__ Обучите третью модель: используйте сокращенный корпус (corpus2 и dictionary2) и установите параметр __alpha=1__, passes=5. Не забудьте про фиксацию seed! Выведите темы новой модели для нулевого документа; должно получиться, что распределение над множеством тем практически равномерное. Чтобы убедиться в том, что во второй модели документы описываются гораздо более разреженными распределениями, чем в третьей, посчитайте суммарное количество элементов, __превосходящих 0.01__, в матрицах темы-документы обеих моделей. Другими словами, запросите темы  модели для каждого документа с параметром *minimum_probability=0.01* и просуммируйте число элементов в получаемых массивах. Передайте две суммы (сначала для модели с alpha по умолчанию, затем для модели в alpha=1) в функцию save_answers4."
   ]
  },
  {
   "cell_type": "code",
   "execution_count": 304,
   "metadata": {},
   "outputs": [],
   "source": [
    "np.random.seed(76545)\n",
    "# здесь код для построения модели:\n",
    "#lda = LdaModel(common_corpus, num_topics=10)\n",
    "lda3 = models.LdaModel(corpus2, num_topics = 40, passes = 5, id2word=dictionary2, alpha=1)"
   ]
  },
  {
   "cell_type": "code",
   "execution_count": 309,
   "metadata": {
    "scrolled": true
   },
   "outputs": [
    {
     "data": {
      "text/plain": [
       "[(0, 0.021758689),\n",
       " (1, 0.021318646),\n",
       " (2, 0.021393685),\n",
       " (3, 0.021276595),\n",
       " (4, 0.022205528),\n",
       " (5, 0.021358743),\n",
       " (6, 0.021289174),\n",
       " (7, 0.021520251),\n",
       " (8, 0.021318335),\n",
       " (9, 0.021276727),\n",
       " (10, 0.021356246),\n",
       " (11, 0.022050267),\n",
       " (12, 0.021547353),\n",
       " (13, 0.021276595),\n",
       " (14, 0.022522602),\n",
       " (15, 0.021276595),\n",
       " (16, 0.043413658),\n",
       " (17, 0.02145537),\n",
       " (18, 0.021519313),\n",
       " (19, 0.021287864),\n",
       " (20, 0.063999265),\n",
       " (21, 0.021314662),\n",
       " (22, 0.046495568),\n",
       " (23, 0.022800352),\n",
       " (24, 0.021289602),\n",
       " (25, 0.021519857),\n",
       " (26, 0.021332823),\n",
       " (27, 0.021288663),\n",
       " (28, 0.021276595),\n",
       " (29, 0.021389594),\n",
       " (30, 0.021305766),\n",
       " (31, 0.02732887),\n",
       " (32, 0.021846706),\n",
       " (33, 0.021279069),\n",
       " (34, 0.021276595),\n",
       " (35, 0.04534378),\n",
       " (36, 0.021280885),\n",
       " (37, 0.04251997),\n",
       " (38, 0.021301191),\n",
       " (39, 0.021387944)]"
      ]
     },
     "execution_count": 309,
     "metadata": {},
     "output_type": "execute_result"
    }
   ],
   "source": [
    "lda3.get_document_topics(corpus2[0])"
   ]
  },
  {
   "cell_type": "code",
   "execution_count": 326,
   "metadata": {},
   "outputs": [],
   "source": [
    "nullAlpha = 0\n",
    "oneAlpha = 0\n",
    "for i in lda2.get_document_topics(corpus2, minimum_probability=0.01):\n",
    "    nullAlpha += len(i)\n",
    "    \n",
    "for i in lda3.get_document_topics(corpus2, minimum_probability=0.01):\n",
    "    oneAlpha += len(i)"
   ]
  },
  {
   "cell_type": "code",
   "execution_count": 327,
   "metadata": {},
   "outputs": [],
   "source": [
    "def save_answers4(count_model2, count_model3):\n",
    "    with open(\"cooking_LDA_pa_task4.txt\", \"w\") as fout:\n",
    "        fout.write(\" \".join([str(el) for el in [count_model2, count_model3]]))"
   ]
  },
  {
   "cell_type": "code",
   "execution_count": 328,
   "metadata": {},
   "outputs": [],
   "source": [
    "save_answers4(nullAlpha, oneAlpha)"
   ]
  },
  {
   "cell_type": "markdown",
   "metadata": {},
   "source": [
    "Таким образом, гиперпараметр __alpha__ влияет на разреженность распределений тем в документах. Аналогично гиперпараметр __eta__ влияет на разреженность распределений слов в темах."
   ]
  },
  {
   "cell_type": "markdown",
   "metadata": {},
   "source": [
    "### LDA как способ понижения размерности\n",
    "Иногда, распределения над темами, найденные с помощью LDA, добавляют в матрицу объекты-признаки как дополнительные, семантические, признаки, и это может улучшить качество решения задачи. Для простоты давайте просто обучим классификатор рецептов на кухни на признаках, полученных из LDA, и измерим точность (accuracy).\n",
    "\n",
    "__Задание 5.__ Используйте модель, построенную по сокращенной выборке с alpha по умолчанию (вторую модель). Составьте матрицу $\\Theta = p(t|d)$ вероятностей тем в документах; вы можете использовать тот же метод get_document_topics, а также вектор правильных ответов y (в том же порядке, в котором рецепты идут в переменной recipes). Создайте объект RandomForestClassifier со 100 деревьями, с помощью функции cross_val_score вычислите среднюю accuracy по трем фолдам (перемешивать данные не нужно) и передайте в функцию save_answers5."
   ]
  },
  {
   "cell_type": "code",
   "execution_count": 330,
   "metadata": {},
   "outputs": [],
   "source": [
    "from sklearn.ensemble import RandomForestClassifier\n",
    "#from sklearn.cross_validation import cross_val_score\n",
    "from sklearn.model_selection import cross_val_score"
   ]
  },
  {
   "cell_type": "code",
   "execution_count": 337,
   "metadata": {
    "scrolled": true
   },
   "outputs": [
    {
     "data": {
      "text/plain": [
       "39774"
      ]
     },
     "execution_count": 337,
     "metadata": {},
     "output_type": "execute_result"
    }
   ],
   "source": [
    "topics = lda2.get_document_topics(corpus2, minimum_probability=0)\n",
    "len(topics)"
   ]
  },
  {
   "cell_type": "code",
   "execution_count": 338,
   "metadata": {},
   "outputs": [],
   "source": [
    "p = np.zeros([len(topics), 40])\n",
    "for i in range(len(topics)):\n",
    "    for ii in topics[i]:\n",
    "        p[i, ii[0]] = ii[1]"
   ]
  },
  {
   "cell_type": "code",
   "execution_count": 336,
   "metadata": {},
   "outputs": [],
   "source": [
    "y = [recipe['cuisine'] for recipe in recipes]"
   ]
  },
  {
   "cell_type": "code",
   "execution_count": 339,
   "metadata": {},
   "outputs": [],
   "source": [
    "score = cross_val_score(RandomForestClassifier(n_estimators=100), p, y)"
   ]
  },
  {
   "cell_type": "code",
   "execution_count": 342,
   "metadata": {},
   "outputs": [
    {
     "data": {
      "text/plain": [
       "array([0.54927241, 0.54951354, 0.55885904])"
      ]
     },
     "execution_count": 342,
     "metadata": {},
     "output_type": "execute_result"
    }
   ],
   "source": [
    "score"
   ]
  },
  {
   "cell_type": "code",
   "execution_count": 343,
   "metadata": {},
   "outputs": [],
   "source": [
    "def save_answers5(accuracy):\n",
    "     with open(\"cooking_LDA_pa_task5.txt\", \"w\") as fout:\n",
    "        fout.write(str(accuracy))"
   ]
  },
  {
   "cell_type": "code",
   "execution_count": 344,
   "metadata": {},
   "outputs": [],
   "source": [
    "save_answers5(score)"
   ]
  },
  {
   "cell_type": "markdown",
   "metadata": {},
   "source": [
    "Для такого большого количества классов это неплохая точность. Вы можете попроовать обучать RandomForest на исходной матрице частот слов, имеющей значительно большую размерность, и увидеть, что accuracy увеличивается на 10–15%. Таким образом, LDA собрал не всю, но достаточно большую часть информации из выборки, в матрице низкого ранга."
   ]
  },
  {
   "cell_type": "markdown",
   "metadata": {},
   "source": [
    "### LDA — вероятностная модель\n",
    "Матричное разложение, использующееся в LDA, интерпретируется как следующий процесс генерации документов.\n",
    "\n",
    "Для документа $d$ длины $n_d$:\n",
    "1. Из априорного распределения Дирихле с параметром alpha сгенерировать распределение над множеством тем: $\\theta_d \\sim Dirichlet(\\alpha)$\n",
    "1. Для каждого слова $w = 1, \\dots, n_d$:\n",
    "    1. Сгенерировать тему из дискретного распределения $t \\sim \\theta_{d}$\n",
    "    1. Сгенерировать слово из дискретного распределения $w \\sim \\phi_{t}$.\n",
    "    \n",
    "Подробнее об этом в [Википедии](https://en.wikipedia.org/wiki/Latent_Dirichlet_allocation).\n",
    "\n",
    "В контексте нашей задачи получается, что, используя данный генеративный процесс, можно создавать новые рецепты. Вы можете передать в функцию модель и число ингредиентов и сгенерировать рецепт :)"
   ]
  },
  {
   "cell_type": "code",
   "execution_count": 417,
   "metadata": {},
   "outputs": [],
   "source": [
    "def generate_recipe(model, num_ingredients):\n",
    "    theta = np.random.dirichlet(model.alpha)\n",
    "    for i in range(num_ingredients):\n",
    "        t = np.random.choice(np.arange(model.num_topics), p=theta)\n",
    "        topic = model.show_topic(t, topn=model.num_terms)\n",
    "        topic_distr = [x[1] for x in topic]\n",
    "        terms = [x[0] for x in topic]\n",
    "        #w = np.random.choice(terms, p=topic_distr)\n",
    "        w = np.random.choice(terms[:-1], p=topic_distr.remove(topic_distr[-1:]))\n",
    "        print w"
   ]
  },
  {
   "cell_type": "code",
   "execution_count": 420,
   "metadata": {},
   "outputs": [
    {
     "name": "stdout",
     "output_type": "stream",
     "text": [
      "tubettini\n",
      "ground round\n",
      "brown rice\n",
      "glaze\n",
      "Zatarain’s Jambalaya Mix\n",
      "sliced fresh fruit\n",
      "enokitake\n"
     ]
    }
   ],
   "source": [
    "generate_recipe(lda, 7)"
   ]
  },
  {
   "cell_type": "code",
   "execution_count": 416,
   "metadata": {},
   "outputs": [],
   "source": [
    "theta = np.random.dirichlet(lda2.alpha)\n",
    "t = np.random.choice(np.arange(lda2.num_topics), p=theta)\n",
    "topic = lda2.show_topic(t, topn=lda2.num_terms)\n",
    "topic_distr = [x[1] for x in topic]\n",
    "terms = [x[0] for x in topic]\n",
    "w = np.random.choice(terms[:-1], p=topic_distr.remove(topic_distr[-1:]))"
   ]
  },
  {
   "cell_type": "code",
   "execution_count": 415,
   "metadata": {},
   "outputs": [],
   "source": [
    "topic_distr.remove(topic_distr[-1:])"
   ]
  },
  {
   "cell_type": "markdown",
   "metadata": {},
   "source": [
    "### Интерпретация построенной модели\n",
    "Вы можете рассмотреть топы ингредиентов каждой темы. Большиснтво тем сами по себе похожи на рецепты; в некоторых собираются продукты одного вида, например, свежие фрукты или разные виды сыра.\n",
    "\n",
    "Попробуем эмпирически соотнести наши темы с национальными кухнями (cuisine). Построим матрицу $A$ размера темы $x$ кухни, ее элементы $a_{tc}$ — суммы $p(t|d)$ по всем документам $d$, которые отнесены к кухне $c$. Нормируем матрицу на частоты рецептов по разным кухням, чтобы избежать дисбаланса между кухнями. Следующая функция получает на вход объект модели, объект корпуса и исходные данные и возвращает нормированную матрицу $A$. Ее удобно визуализировать с помощью seaborn."
   ]
  },
  {
   "cell_type": "code",
   "execution_count": 421,
   "metadata": {},
   "outputs": [],
   "source": [
    "import pandas\n",
    "import seaborn\n",
    "from matplotlib import pyplot as plt\n",
    "%matplotlib inline"
   ]
  },
  {
   "cell_type": "code",
   "execution_count": 422,
   "metadata": {},
   "outputs": [],
   "source": [
    "def compute_topic_cuisine_matrix(model, corpus, recipes):\n",
    "    # составляем вектор целевых признаков\n",
    "    targets = list(set([recipe[\"cuisine\"] for recipe in recipes]))\n",
    "    # составляем матрицу\n",
    "    tc_matrix = pandas.DataFrame(data=np.zeros((model.num_topics, len(targets))), columns=targets)\n",
    "    for recipe, bow in zip(recipes, corpus):\n",
    "        recipe_topic = model.get_document_topics(bow)\n",
    "        for t, prob in recipe_topic:\n",
    "            tc_matrix[recipe[\"cuisine\"]][t] += prob\n",
    "    # нормируем матрицу\n",
    "    target_sums = pandas.DataFrame(data=np.zeros((1, len(targets))), columns=targets)\n",
    "    for recipe in recipes:\n",
    "        target_sums[recipe[\"cuisine\"]] += 1\n",
    "    return pandas.DataFrame(tc_matrix.values/target_sums.values, columns=tc_matrix.columns)"
   ]
  },
  {
   "cell_type": "code",
   "execution_count": 423,
   "metadata": {},
   "outputs": [],
   "source": [
    "def plot_matrix(tc_matrix):\n",
    "    plt.figure(figsize=(10, 10))\n",
    "    seaborn.heatmap(tc_matrix, square=True)"
   ]
  },
  {
   "cell_type": "code",
   "execution_count": 425,
   "metadata": {},
   "outputs": [
    {
     "data": {
      "image/png": "[encoded data removed]",
      "text/plain": [
       "<Figure size 720x720 with 2 Axes>"
      ]
     },
     "metadata": {},
     "output_type": "display_data"
    }
   ],
   "source": [
    "# Визуализируйте матрицу\n",
    "matrix = compute_topic_cuisine_matrix(lda2, corpus2, recipes)\n",
    "plot_matrix(matrix)"
   ]
  },
  {
   "cell_type": "markdown",
   "metadata": {},
   "source": [
    "Чем темнее квадрат в матрице, тем больше связь этой темы с данной кухней. Мы видим, что у нас есть темы, которые связаны с несколькими кухнями. Такие темы показывают набор ингредиентов, которые популярны в кухнях нескольких народов, то есть указывают на схожесть кухонь этих народов. Некоторые темы распределены по всем кухням равномерно, они показывают наборы продуктов, которые часто используются в кулинарии всех стран. "
   ]
  },
  {
   "cell_type": "markdown",
   "metadata": {},
   "source": [
    "Жаль, что в датасете нет названий рецептов, иначе темы было бы проще интерпретировать..."
   ]
  },
  {
   "cell_type": "markdown",
   "metadata": {},
   "source": [
    "### Заключение\n",
    "В этом задании вы построили несколько моделей LDA, посмотрели, на что влияют гиперпараметры модели и как можно использовать построенную модель. "
   ]
  }
 ],
 "metadata": {
  "kernelspec": {
   "display_name": "Python 2",
   "language": "python",
   "name": "python2"
  },
  "language_info": {
   "codemirror_mode": {
    "name": "ipython",
    "version": 2
   },
   "file_extension": ".py",
   "mimetype": "text/x-python",
   "name": "python",
   "nbconvert_exporter": "python",
   "pygments_lexer": "ipython2",
   "version": "2.7.15"
  }
 },
 "nbformat": 4,
 "nbformat_minor": 1
}
