{
 "cells": [
  {
   "cell_type": "markdown",
   "metadata": {},
   "source": [
    "В этом задании вы сможете немного расслабиться после реализации случайного леса и градиентного бустинга по мотивам материалов прошлой недели. Все, что нужно будет делать — запускать методы из sklearn. Вам предлагается выяснить, какое распределение лучше использовать в наивном байесовском классификаторе в зависимости от вида признаков.\n",
    "\n",
    "Загрузите датасеты digits и breast_cancer из sklearn.datasets. Выведите несколько строчек из обучающих выборок и посмотрите на признаки. С помощью sklearn.cross_validation.cross_val_score c настройками по умолчанию и вызова метода mean() у возвращаемого этой функцией numpy.ndarray, сравните качество работы наивных байесовских классификаторов на этих двух датасетах. Для сравнения предлагается использовать BernoulliNB, MultinomialNB и GaussianNB. Насколько полученные результаты согласуются с рекомендациями из лекций?\n",
    "\n",
    "Два датасета, конечно, еще не повод делать далеко идущие выводы, но при желании вы можете продолжить исследование на других выборках (например, из UCI репозитория).\n",
    "\n",
    "Для сдачи задания, ответьте на приведенные ниже вопросы.\n",
    "\n",
    "Вопрос 1\n",
    "\n",
    "Каким получилось максимальное качество классификации на датасете breast_cancer?"
   ]
  },
  {
   "cell_type": "code",
   "execution_count": 89,
   "metadata": {},
   "outputs": [
    {
     "name": "stdout",
     "output_type": "stream",
     "text": [
      "Populating the interactive namespace from numpy and matplotlib\n"
     ]
    }
   ],
   "source": [
    "from sklearn.datasets import load_digits\n",
    "from sklearn.datasets import load_breast_cancer\n",
    "from sklearn.model_selection import cross_val_score\n",
    "from sklearn.naive_bayes import BernoulliNB, MultinomialNB, GaussianNB\n",
    "\n",
    "%pylab inline"
   ]
  },
  {
   "cell_type": "code",
   "execution_count": 90,
   "metadata": {},
   "outputs": [],
   "source": [
    "digits = load_digits()\n",
    "breast_cancer = load_breast_cancer()"
   ]
  },
  {
   "cell_type": "code",
   "execution_count": 91,
   "metadata": {},
   "outputs": [],
   "source": [
    "Xdigits = digits.data\n",
    "Ydigits = digits.target\n",
    "\n",
    "Xbreast_cancer = breast_cancer.data\n",
    "Ybreast_cancer = breast_cancer.target"
   ]
  },
  {
   "cell_type": "code",
   "execution_count": 92,
   "metadata": {},
   "outputs": [
    {
     "name": "stdout",
     "output_type": "stream",
     "text": [
      "(1797, 64)\n"
     ]
    }
   ],
   "source": [
    "#if digits['data'] != Xdigits\n",
    "print(digits['data'].shape)\n"
   ]
  },
  {
   "cell_type": "code",
   "execution_count": 93,
   "metadata": {},
   "outputs": [
    {
     "name": "stdout",
     "output_type": "stream",
     "text": [
      "(1797, 64)\n"
     ]
    }
   ],
   "source": [
    "print(Xdigits.shape)"
   ]
  },
  {
   "cell_type": "code",
   "execution_count": 56,
   "metadata": {},
   "outputs": [],
   "source": [
    "Xdigits_train, Xdigits_test, Ydigits_train, Ydigits_test = (Xdigits[:int(0.75*len(Xdigits))], Xdigits[int(0.75*len(Xdigits)):],\n",
    "                                    Ydigits[:int(0.75*len(Xdigits))], Ydigits[int(0.75*len(Xdigits)):])\n",
    "\n",
    "Xbreast_cancer_train, Xbreast_cancer_test, Ybreast_cancer_train, Ybreast_cancer_test = (Xbreast_cancer[:int(0.75*len(Xbreast_cancer))], Xbreast_cancer[int(0.75*len(Xbreast_cancer)):],\n",
    "                                    Ybreast_cancer[:int(0.75*len(Xbreast_cancer))], Ybreast_cancer[int(0.75*len(Xbreast_cancer)):])"
   ]
  },
  {
   "cell_type": "code",
   "execution_count": 94,
   "metadata": {},
   "outputs": [
    {
     "name": "stdout",
     "output_type": "stream",
     "text": [
      "(1797, 64) (1797,)\n",
      "(569, 30) (569,)\n"
     ]
    }
   ],
   "source": [
    "print(Xdigits.shape, Ydigits.shape)\n",
    "print(Xbreast_cancer.shape, Ybreast_cancer.shape)"
   ]
  },
  {
   "cell_type": "code",
   "execution_count": 95,
   "metadata": {},
   "outputs": [
    {
     "name": "stdout",
     "output_type": "stream",
     "text": [
      "[ 0.  0.  5. 13.  9.  1.  0.  0.  0.  0. 13. 15. 10. 15.  5.  0.  0.  3.\n",
      " 15.  2.  0. 11.  8.  0.  0.  4. 12.  0.  0.  8.  8.  0.  0.  5.  8.  0.\n",
      "  0.  9.  8.  0.  0.  4. 11.  0.  1. 12.  7.  0.  0.  2. 14.  5. 10. 12.\n",
      "  0.  0.  0.  0.  6. 13. 10.  0.  0.  0.]\n"
     ]
    }
   ],
   "source": [
    "print(Xdigits_train[0])"
   ]
  },
  {
   "cell_type": "code",
   "execution_count": 96,
   "metadata": {},
   "outputs": [
    {
     "name": "stdout",
     "output_type": "stream",
     "text": [
      "[1.799e+01 1.038e+01 1.228e+02 1.001e+03 1.184e-01 2.776e-01 3.001e-01\n",
      " 1.471e-01 2.419e-01 7.871e-02 1.095e+00 9.053e-01 8.589e+00 1.534e+02\n",
      " 6.399e-03 4.904e-02 5.373e-02 1.587e-02 3.003e-02 6.193e-03 2.538e+01\n",
      " 1.733e+01 1.846e+02 2.019e+03 1.622e-01 6.656e-01 7.119e-01 2.654e-01\n",
      " 4.601e-01 1.189e-01]\n",
      "\n",
      " 17.99\n"
     ]
    }
   ],
   "source": [
    "print(Xbreast_cancer_train[0])\n",
    "print('\\n',Xbreast_cancer_train[0][0])"
   ]
  },
  {
   "cell_type": "markdown",
   "metadata": {},
   "source": [
    "cross_val_score(estimator, X, y=None, groups=None, scoring=None, cv=’warn’, n_jobs=None, verbose=0, fit_params=None, pre_dispatch=‘2*n_jobs’, error_score=’raise-deprecating’"
   ]
  },
  {
   "cell_type": "markdown",
   "metadata": {},
   "source": [
    "С помощью sklearn.cross_validation.cross_val_score c настройками по умолчанию и вызова метода mean() у возвращаемого этой функцией numpy.ndarray, сравните качество работы наивных байесовских классификаторов на этих двух датасетах. Для сравнения предлагается использовать BernoulliNB, MultinomialNB и GaussianNB. Насколько полученные результаты согласуются с рекомендациями из лекций?"
   ]
  },
  {
   "cell_type": "code",
   "execution_count": 97,
   "metadata": {},
   "outputs": [],
   "source": [
    "bernoulliEstimatorDigits = BernoulliNB()\n",
    "multinomialEstimatorDigits = MultinomialNB()\n",
    "gaussianEstimatorDigits = GaussianNB()\n",
    "\n",
    "bernoulliEstimatorBreast_cancer = BernoulliNB()\n",
    "multinomialEstimatorBreast_cancer = MultinomialNB()\n",
    "gaussianEstimatorBreast_cancer = GaussianNB()"
   ]
  },
  {
   "cell_type": "code",
   "execution_count": 107,
   "metadata": {},
   "outputs": [
    {
     "data": {
      "text/plain": [
       "GaussianNB(priors=None)"
      ]
     },
     "execution_count": 107,
     "metadata": {},
     "output_type": "execute_result"
    }
   ],
   "source": [
    "#1\n",
    "bernoulliEstimatorDigits.fit(Xdigits_train, Ydigits_train)\n",
    "multinomialEstimatorDigits.fit(Xdigits_train, Ydigits_train)\n",
    "gaussianEstimatorDigits.fit(Xdigits_train, Ydigits_train)\n",
    "\n",
    "bernoulliEstimatorBreast_cancer.fit(Xbreast_cancer_train, Ybreast_cancer_train)\n",
    "multinomialEstimatorBreast_cancer.fit(Xbreast_cancer_train, Ybreast_cancer_train)\n",
    "gaussianEstimatorBreast_cancer.fit(Xbreast_cancer_train, Ybreast_cancer_train)"
   ]
  },
  {
   "cell_type": "code",
   "execution_count": 61,
   "metadata": {},
   "outputs": [],
   "source": [
    "#1\n",
    "MeanCrossValBernoulliDigits = mean(cross_val_score(bernoulliEstimatorDigits, Xdigits_test, Ydigits_test))\n",
    "MeanCrossValMultinomialDigits = mean(cross_val_score(bernoulliEstimatorDigits, Xdigits_test, Ydigits_test))\n",
    "MeanCrossValGaussianDigits = mean(cross_val_score(bernoulliEstimatorDigits, Xdigits_test, Ydigits_test))\n",
    "\n",
    "MeanCrossValBernoulliBreast_cancer = mean(cross_val_score(bernoulliEstimatorBreast_cancer, Xbreast_cancer_test, Ybreast_cancer_test))\n",
    "MeanCrossValMultinomialBreast_cancer = mean(cross_val_score(bernoulliEstimatorBreast_cancer, Xbreast_cancer_test, Ybreast_cancer_test))\n",
    "MeanCrossValGaussianBreast_cancer = mean(cross_val_score(bernoulliEstimatorBreast_cancer, Xbreast_cancer_test, Ybreast_cancer_test))"
   ]
  },
  {
   "cell_type": "code",
   "execution_count": 108,
   "metadata": {},
   "outputs": [],
   "source": [
    "#2\n",
    "MeanCrossValBernoulliDigits = mean(cross_val_score(bernoulliEstimatorDigits, Xdigits, Ydigits))\n",
    "MeanCrossValMultinomialDigits = mean(cross_val_score(multinomialEstimatorDigits, Xdigits, Ydigits))\n",
    "MeanCrossValGaussianDigits = mean(cross_val_score(gaussianEstimatorDigits, Xdigits, Ydigits))\n",
    "\n",
    "MeanCrossValBernoulliBreast_cancer = mean(cross_val_score(bernoulliEstimatorBreast_cancer, Xbreast_cancer, Ybreast_cancer))\n",
    "MeanCrossValMultinomialBreast_cancer = mean(cross_val_score(multinomialEstimatorBreast_cancer, Xbreast_cancer, Ybreast_cancer))\n",
    "MeanCrossValGaussianBreast_cancer = mean(cross_val_score(gaussianEstimatorBreast_cancer, Xbreast_cancer, Ybreast_cancer))"
   ]
  },
  {
   "cell_type": "code",
   "execution_count": 62,
   "metadata": {},
   "outputs": [],
   "source": [
    "a = [MeanCrossValBernoulliDigits, MeanCrossValMultinomialDigits, \n",
    "    MeanCrossValGaussianDigits]\n",
    "b = [MeanCrossValBernoulliBreast_cancer, MeanCrossValMultinomialBreast_cancer, \n",
    "    MeanCrossValGaussianBreast_cancer]"
   ]
  },
  {
   "cell_type": "code",
   "execution_count": 109,
   "metadata": {},
   "outputs": [
    {
     "name": "stdout",
     "output_type": "stream",
     "text": [
      "0.8258236507780582\n",
      "0.8708771489735053\n",
      "0.8186003803550138\n"
     ]
    }
   ],
   "source": [
    "print(MeanCrossValBernoulliDigits)\n",
    "print(MeanCrossValMultinomialDigits)\n",
    "print(MeanCrossValGaussianDigits)\n",
    "#целые"
   ]
  },
  {
   "cell_type": "code",
   "execution_count": 110,
   "metadata": {},
   "outputs": [
    {
     "name": "stdout",
     "output_type": "stream",
     "text": [
      "0.6274204028589994\n",
      "0.8945790401930752\n",
      "0.9367492806089297\n"
     ]
    }
   ],
   "source": [
    "print(MeanCrossValBernoulliBreast_cancer)\n",
    "print(MeanCrossValMultinomialBreast_cancer)\n",
    "print(MeanCrossValGaussianBreast_cancer)\n",
    "#вещественные"
   ]
  },
  {
   "cell_type": "code",
   "execution_count": 101,
   "metadata": {},
   "outputs": [],
   "source": [
    "cross_val_score(bernoulliEstimatorDigits, Xdigits_test, Ydigits_test)"
   ]
  },
  {
   "cell_type": "code",
   "execution_count": 102,
   "metadata": {},
   "outputs": [],
   "source": [
    "cross_val_score(bernoulliEstimatorBreast_cancer, Xbreast_cancer_test, Ybreast_cancer_test)"
   ]
  },
  {
   "cell_type": "code",
   "execution_count": 103,
   "metadata": {},
   "outputs": [
    {
     "name": "stdout",
     "output_type": "stream",
     "text": [
      "0.8258236507780582\n"
     ]
    }
   ],
   "source": [
    "multinomialEstimatorDigits = MultinomialNB()\n",
    "MeanCrossValMultinomialDigits = mean(cross_val_score(bernoulliEstimatorDigits, Xdigits, Ydigits))\n",
    "print(MeanCrossValMultinomialDigits)"
   ]
  },
  {
   "cell_type": "markdown",
   "metadata": {},
   "source": [
    "Выберите верные утверждения и запишите их номера через пробел (в порядке возрастания номера):\n",
    "\n",
    "1) На вещественных признаках лучше всего сработал наивный байесовский классификатор с распределением Бернулли\n",
    "\n",
    "2) На вещественных признаках лучше всего сработал наивный байесовский классификатор с мультиномиальным распределением\n",
    "\n",
    "3) Мультиномиальное распределение лучше показало себя на выборке с целыми неотрицательными значениями признаков\n",
    "\n",
    "4) На вещественных признаках лучше всего сработало нормальное распределение"
   ]
  },
  {
   "cell_type": "code",
   "execution_count": null,
   "metadata": {},
   "outputs": [],
   "source": [
    "3 4"
   ]
  }
 ],
 "metadata": {
  "kernelspec": {
   "display_name": "Python 3",
   "language": "python",
   "name": "python3"
  },
  "language_info": {
   "codemirror_mode": {
    "name": "ipython",
    "version": 3
   },
   "file_extension": ".py",
   "mimetype": "text/x-python",
   "name": "python",
   "nbconvert_exporter": "python",
   "pygments_lexer": "ipython3",
   "version": "3.6.5"
  }
 },
 "nbformat": 4,
 "nbformat_minor": 2
}
