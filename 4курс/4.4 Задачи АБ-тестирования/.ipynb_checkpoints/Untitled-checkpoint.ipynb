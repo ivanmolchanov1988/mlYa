{
 "cells": [
  {
   "cell_type": "code",
   "execution_count": 145,
   "metadata": {},
   "outputs": [],
   "source": [
    "import numpy as np\n",
    "import pandas as pd\n",
    "import matplotlib.pyplot as plt\n",
    "from scipy.stats import probplot\n",
    "from scipy import stats\n",
    "\n",
    "from statsmodels.sandbox.stats.multicomp import multipletests "
   ]
  },
  {
   "cell_type": "code",
   "execution_count": null,
   "metadata": {},
   "outputs": [],
   "source": []
  },
  {
   "cell_type": "markdown",
   "metadata": {},
   "source": [
    "Посчитайте, насколько в группе exp больше пользовательских кликов по сравнению с группой control в процентах от числа кликов в контрольной группе.\n",
    "\n",
    "Полученный процент округлите до третьего знака после точки."
   ]
  },
  {
   "cell_type": "code",
   "execution_count": 2,
   "metadata": {},
   "outputs": [],
   "source": [
    "data = pd.read_csv('ab_browser_test.csv', header=0)"
   ]
  },
  {
   "cell_type": "code",
   "execution_count": 4,
   "metadata": {},
   "outputs": [
    {
     "data": {
      "text/html": [
       "<div>\n",
       "<style scoped>\n",
       "    .dataframe tbody tr th:only-of-type {\n",
       "        vertical-align: middle;\n",
       "    }\n",
       "\n",
       "    .dataframe tbody tr th {\n",
       "        vertical-align: top;\n",
       "    }\n",
       "\n",
       "    .dataframe thead th {\n",
       "        text-align: right;\n",
       "    }\n",
       "</style>\n",
       "<table border=\"1\" class=\"dataframe\">\n",
       "  <thead>\n",
       "    <tr style=\"text-align: right;\">\n",
       "      <th></th>\n",
       "      <th>userID</th>\n",
       "      <th>browser</th>\n",
       "      <th>slot</th>\n",
       "      <th>n_clicks</th>\n",
       "      <th>n_queries</th>\n",
       "      <th>n_nonclk_queries</th>\n",
       "    </tr>\n",
       "  </thead>\n",
       "  <tbody>\n",
       "    <tr>\n",
       "      <th>0</th>\n",
       "      <td>1</td>\n",
       "      <td>Browser #2</td>\n",
       "      <td>exp</td>\n",
       "      <td>23</td>\n",
       "      <td>32</td>\n",
       "      <td>19</td>\n",
       "    </tr>\n",
       "    <tr>\n",
       "      <th>1</th>\n",
       "      <td>3</td>\n",
       "      <td>Browser #4</td>\n",
       "      <td>exp</td>\n",
       "      <td>3</td>\n",
       "      <td>4</td>\n",
       "      <td>2</td>\n",
       "    </tr>\n",
       "    <tr>\n",
       "      <th>2</th>\n",
       "      <td>5</td>\n",
       "      <td>Browser #4</td>\n",
       "      <td>exp</td>\n",
       "      <td>29</td>\n",
       "      <td>35</td>\n",
       "      <td>16</td>\n",
       "    </tr>\n",
       "    <tr>\n",
       "      <th>3</th>\n",
       "      <td>6</td>\n",
       "      <td>Browser #4</td>\n",
       "      <td>control</td>\n",
       "      <td>12</td>\n",
       "      <td>6</td>\n",
       "      <td>0</td>\n",
       "    </tr>\n",
       "    <tr>\n",
       "      <th>4</th>\n",
       "      <td>7</td>\n",
       "      <td>Browser #4</td>\n",
       "      <td>exp</td>\n",
       "      <td>54</td>\n",
       "      <td>68</td>\n",
       "      <td>30</td>\n",
       "    </tr>\n",
       "  </tbody>\n",
       "</table>\n",
       "</div>"
      ],
      "text/plain": [
       "   userID     browser     slot  n_clicks  n_queries  n_nonclk_queries\n",
       "0       1  Browser #2      exp        23         32                19\n",
       "1       3  Browser #4      exp         3          4                 2\n",
       "2       5  Browser #4      exp        29         35                16\n",
       "3       6  Browser #4  control        12          6                 0\n",
       "4       7  Browser #4      exp        54         68                30"
      ]
     },
     "execution_count": 4,
     "metadata": {},
     "output_type": "execute_result"
    }
   ],
   "source": [
    "data.head()"
   ]
  },
  {
   "cell_type": "code",
   "execution_count": 7,
   "metadata": {},
   "outputs": [],
   "source": [
    "exp = data[data.slot == 'exp']"
   ]
  },
  {
   "cell_type": "code",
   "execution_count": 8,
   "metadata": {},
   "outputs": [],
   "source": [
    "control = data[data.slot == 'control']"
   ]
  },
  {
   "cell_type": "code",
   "execution_count": 11,
   "metadata": {},
   "outputs": [],
   "source": [
    "sumEXP = sum(exp.n_clicks)"
   ]
  },
  {
   "cell_type": "code",
   "execution_count": 12,
   "metadata": {},
   "outputs": [],
   "source": [
    "sumCONTRL = sum(control.n_clicks)"
   ]
  },
  {
   "cell_type": "code",
   "execution_count": 18,
   "metadata": {},
   "outputs": [
    {
     "data": {
      "text/plain": [
       "101.61356898244158"
      ]
     },
     "execution_count": 18,
     "metadata": {},
     "output_type": "execute_result"
    }
   ],
   "source": [
    "expProc = 100 / (sumCONTRL / sumEXP)\n",
    "expProc"
   ]
  },
  {
   "cell_type": "code",
   "execution_count": 17,
   "metadata": {},
   "outputs": [
    {
     "data": {
      "text/plain": [
       "100.0"
      ]
     },
     "execution_count": 17,
     "metadata": {},
     "output_type": "execute_result"
    }
   ],
   "source": [
    "contrlProc = 100 / (sumCONTRL / sumCONTRL)\n",
    "contrlProc"
   ]
  },
  {
   "cell_type": "code",
   "execution_count": 19,
   "metadata": {},
   "outputs": [
    {
     "data": {
      "text/plain": [
       "1.6135689824415778"
      ]
     },
     "execution_count": 19,
     "metadata": {},
     "output_type": "execute_result"
    }
   ],
   "source": [
    "expProc - contrlProc"
   ]
  },
  {
   "cell_type": "code",
   "execution_count": 24,
   "metadata": {},
   "outputs": [],
   "source": [
    "def getbootstrap_samples(data, n_samples):\n",
    "    indices = np.random.randint(0, len(data), (n_samples, len(data)))\n",
    "    samples = data[indices]\n",
    "    return samples"
   ]
  },
  {
   "cell_type": "code",
   "execution_count": 21,
   "metadata": {},
   "outputs": [],
   "source": [
    "def stat_intervals(stat, alpha):\n",
    "    boundaries = np.percentile(stat, \n",
    "                               [100 * alpha / 2., 100 * \n",
    "                                (1 - alpha / 2.)])\n",
    "    return boundaries"
   ]
  },
  {
   "cell_type": "code",
   "execution_count": 30,
   "metadata": {},
   "outputs": [
    {
     "name": "stdout",
     "output_type": "stream",
     "text": [
      "95% confidence interval for exp median: [5. 5.]\n",
      "95% confidence interval for cntrl median: [4. 4.]\n"
     ]
    }
   ],
   "source": [
    "np.random.seed(0)\n",
    "\n",
    "exp_scores = list(map(np.median, \n",
    "                      getbootstrap_samples(exp.n_clicks.values, 100)))\n",
    "cntrl_scores = list(map(np.median, \n",
    "                        getbootstrap_samples(control.n_clicks.values, 100)))\n",
    "\n",
    "exp_intervals = stat_intervals(exp_scores, 0.05)\n",
    "cntrl_intervals = stat_intervals(cntrl_scores, 0.05)\n",
    "\n",
    "print (\"95% confidence interval for exp median:\", exp_intervals)\n",
    "print (\"95% confidence interval for cntrl median:\",  cntrl_intervals)"
   ]
  },
  {
   "cell_type": "code",
   "execution_count": 31,
   "metadata": {},
   "outputs": [
    {
     "name": "stdout",
     "output_type": "stream",
     "text": [
      "95% confidence interval for exp mean: [11.51336902 11.65797109]\n",
      "95% confidence interval for cntrl mean: [11.21243112 11.3557598 ]\n"
     ]
    }
   ],
   "source": [
    "np.random.seed(1)\n",
    "\n",
    "exp_scores = list(map(np.mean, \n",
    "                      getbootstrap_samples(exp.n_clicks.values, 100)))\n",
    "cntrl_scores = list(map(np.mean, \n",
    "                        getbootstrap_samples(control.n_clicks.values, 100)))\n",
    "\n",
    "exp_intervals = stat_intervals(exp_scores, 0.05)\n",
    "cntrl_intervals = stat_intervals(cntrl_scores, 0.05)\n",
    "\n",
    "print (\"95% confidence interval for exp mean:\", exp_intervals)\n",
    "print (\"95% confidence interval for cntrl mean:\",  cntrl_intervals)"
   ]
  },
  {
   "cell_type": "code",
   "execution_count": 32,
   "metadata": {},
   "outputs": [
    {
     "data": {
      "text/plain": [
       "281580"
      ]
     },
     "execution_count": 32,
     "metadata": {},
     "output_type": "execute_result"
    }
   ],
   "source": [
    "len(exp.n_clicks.values)"
   ]
  },
  {
   "cell_type": "code",
   "execution_count": 81,
   "metadata": {},
   "outputs": [],
   "source": [
    "np.random.seed(0)\n",
    "\n",
    "n_boot_samples = 500\n",
    "\n",
    "samples = getbootstrap_samples(control.n_clicks.values, n_boot_samples)"
   ]
  },
  {
   "cell_type": "code",
   "execution_count": 82,
   "metadata": {},
   "outputs": [],
   "source": [
    "means = samples.mean(axis=1)"
   ]
  },
  {
   "cell_type": "code",
   "execution_count": 83,
   "metadata": {},
   "outputs": [
    {
     "data": {
      "text/plain": [
       "11.238028634283827"
      ]
     },
     "execution_count": 83,
     "metadata": {},
     "output_type": "execute_result"
    }
   ],
   "source": [
    "means[0]"
   ]
  },
  {
   "cell_type": "code",
   "execution_count": 84,
   "metadata": {},
   "outputs": [
    {
     "data": {
      "text/plain": [
       "11.238028634283827"
      ]
     },
     "execution_count": 84,
     "metadata": {},
     "output_type": "execute_result"
    }
   ],
   "source": [
    "np.mean(samples[0])"
   ]
  },
  {
   "cell_type": "code",
   "execution_count": 85,
   "metadata": {},
   "outputs": [
    {
     "data": {
      "text/plain": [
       "array([[11.23802863],\n",
       "       [11.25842898],\n",
       "       [11.32580811],\n",
       "       [11.33194402],\n",
       "       [11.25147775],\n",
       "       [11.26541184],\n",
       "       [11.25684404],\n",
       "       [11.35563021],\n",
       "       [11.21341468],\n",
       "       [11.30774827],\n",
       "       [11.29961273],\n",
       "       [11.25458085],\n",
       "       [11.24482172],\n",
       "       [11.33701863],\n",
       "       [11.26035129],\n",
       "       [11.30115198],\n",
       "       [11.27396909],\n",
       "       [11.27860793],\n",
       "       [11.25201895],\n",
       "       [11.1824434 ],\n",
       "       [11.22815002],\n",
       "       [11.28696838],\n",
       "       [11.2932765 ],\n",
       "       [11.27846033],\n",
       "       [11.36725542],\n",
       "       [11.23852766],\n",
       "       [11.24281859],\n",
       "       [11.2894846 ],\n",
       "       [11.33491358],\n",
       "       [11.27291481],\n",
       "       [11.32949809],\n",
       "       [11.26614281],\n",
       "       [11.344128  ],\n",
       "       [11.27089762],\n",
       "       [11.3177042 ],\n",
       "       [11.29831596],\n",
       "       [11.34617682],\n",
       "       [11.25305566],\n",
       "       [11.33731383],\n",
       "       [11.28314134],\n",
       "       [11.24708843],\n",
       "       [11.3690477 ],\n",
       "       [11.32429697],\n",
       "       [11.22771776],\n",
       "       [11.28469816],\n",
       "       [11.29106602],\n",
       "       [11.26864848],\n",
       "       [11.267791  ],\n",
       "       [11.24545078],\n",
       "       [11.34170316],\n",
       "       [11.26097331],\n",
       "       [11.31073891],\n",
       "       [11.26227359],\n",
       "       [11.26064649],\n",
       "       [11.30909775],\n",
       "       [11.28203434],\n",
       "       [11.24649803],\n",
       "       [11.29722302],\n",
       "       [11.29926833],\n",
       "       [11.29675211],\n",
       "       [11.25384637],\n",
       "       [11.30783261],\n",
       "       [11.26053403],\n",
       "       [11.2742924 ],\n",
       "       [11.28253688],\n",
       "       [11.30621253],\n",
       "       [11.2492497 ],\n",
       "       [11.33971408],\n",
       "       [11.25248986],\n",
       "       [11.29711759],\n",
       "       [11.2709679 ],\n",
       "       [11.2850285 ],\n",
       "       [11.24534183],\n",
       "       [11.34042045],\n",
       "       [11.27571217],\n",
       "       [11.35623818],\n",
       "       [11.30769907],\n",
       "       [11.2701069 ],\n",
       "       [11.26546455],\n",
       "       [11.31091814],\n",
       "       [11.26504284],\n",
       "       [11.26725683],\n",
       "       [11.27606359],\n",
       "       [11.30638121],\n",
       "       [11.32761444],\n",
       "       [11.32596625],\n",
       "       [11.23865417],\n",
       "       [11.20325492],\n",
       "       [11.32217786],\n",
       "       [11.25621147],\n",
       "       [11.27682971],\n",
       "       [11.29428158],\n",
       "       [11.3168432 ],\n",
       "       [11.26454381],\n",
       "       [11.30407234],\n",
       "       [11.31378578],\n",
       "       [11.35491682],\n",
       "       [11.28858143],\n",
       "       [11.29018042],\n",
       "       [11.2283187 ],\n",
       "       [11.21138343],\n",
       "       [11.31023988],\n",
       "       [11.33431967],\n",
       "       [11.28592464],\n",
       "       [11.30762527],\n",
       "       [11.24446327],\n",
       "       [11.27455597],\n",
       "       [11.24735551],\n",
       "       [11.31313213],\n",
       "       [11.25188541],\n",
       "       [11.33487844],\n",
       "       [11.22731011],\n",
       "       [11.32796236],\n",
       "       [11.22713439],\n",
       "       [11.32484168],\n",
       "       [11.27770827],\n",
       "       [11.34978598],\n",
       "       [11.30980763],\n",
       "       [11.22885287],\n",
       "       [11.34072267],\n",
       "       [11.2142827 ],\n",
       "       [11.25707247],\n",
       "       [11.3066237 ],\n",
       "       [11.29560294],\n",
       "       [11.25008259],\n",
       "       [11.2812612 ],\n",
       "       [11.27733927],\n",
       "       [11.26321893],\n",
       "       [11.29010311],\n",
       "       [11.19382261],\n",
       "       [11.27256338],\n",
       "       [11.26483901],\n",
       "       [11.25328409],\n",
       "       [11.26318028],\n",
       "       [11.26338762],\n",
       "       [11.24141639],\n",
       "       [11.30758309],\n",
       "       [11.31993224],\n",
       "       [11.25299943],\n",
       "       [11.29294967],\n",
       "       [11.21948031],\n",
       "       [11.2575223 ],\n",
       "       [11.28484927],\n",
       "       [11.30107466],\n",
       "       [11.28446973],\n",
       "       [11.27042319],\n",
       "       [11.29792939],\n",
       "       [11.34401203],\n",
       "       [11.29621091],\n",
       "       [11.2780597 ],\n",
       "       [11.31662532],\n",
       "       [11.30406531],\n",
       "       [11.32259958],\n",
       "       [11.22997744],\n",
       "       [11.28947405],\n",
       "       [11.30138743],\n",
       "       [11.23465845],\n",
       "       [11.31362061],\n",
       "       [11.26322947],\n",
       "       [11.36806371],\n",
       "       [11.25865741],\n",
       "       [11.27039156],\n",
       "       [11.22957681],\n",
       "       [11.20505423],\n",
       "       [11.29098871],\n",
       "       [11.30102546],\n",
       "       [11.28806483],\n",
       "       [11.30723167],\n",
       "       [11.30965652],\n",
       "       [11.26732009],\n",
       "       [11.28058646],\n",
       "       [11.24748202],\n",
       "       [11.26218222],\n",
       "       [11.23664401],\n",
       "       [11.32042424],\n",
       "       [11.2605024 ],\n",
       "       [11.25488659],\n",
       "       [11.33695186],\n",
       "       [11.25088735],\n",
       "       [11.2472782 ],\n",
       "       [11.29829136],\n",
       "       [11.27308701],\n",
       "       [11.29674157],\n",
       "       [11.2863077 ],\n",
       "       [11.37353191],\n",
       "       [11.22327924],\n",
       "       [11.25525559],\n",
       "       [11.25508691],\n",
       "       [11.27671373],\n",
       "       [11.29864279],\n",
       "       [11.33308616],\n",
       "       [11.24396424],\n",
       "       [11.27065162],\n",
       "       [11.27182538],\n",
       "       [11.27146341],\n",
       "       [11.26068163],\n",
       "       [11.28398828],\n",
       "       [11.2987939 ],\n",
       "       [11.26359496],\n",
       "       [11.27836544],\n",
       "       [11.24844845],\n",
       "       [11.32091624],\n",
       "       [11.2981543 ],\n",
       "       [11.25985577],\n",
       "       [11.29521989],\n",
       "       [11.27552942],\n",
       "       [11.37896849],\n",
       "       [11.2644419 ],\n",
       "       [11.25686513],\n",
       "       [11.37088215],\n",
       "       [11.27607765],\n",
       "       [11.30047021],\n",
       "       [11.31153665],\n",
       "       [11.23704112],\n",
       "       [11.34221624],\n",
       "       [11.30417074],\n",
       "       [11.27575082],\n",
       "       [11.3064023 ],\n",
       "       [11.30697513],\n",
       "       [11.2613634 ],\n",
       "       [11.30224492],\n",
       "       [11.29763068],\n",
       "       [11.28474033],\n",
       "       [11.27336815],\n",
       "       [11.28416399],\n",
       "       [11.25065541],\n",
       "       [11.29273178],\n",
       "       [11.30807158],\n",
       "       [11.28151072],\n",
       "       [11.29825973],\n",
       "       [11.2769773 ],\n",
       "       [11.30206217],\n",
       "       [11.32616305],\n",
       "       [11.30812781],\n",
       "       [11.18473822],\n",
       "       [11.31905368],\n",
       "       [11.29080245],\n",
       "       [11.25222981],\n",
       "       [11.24811811],\n",
       "       [11.30444134],\n",
       "       [11.32161558],\n",
       "       [11.31313213],\n",
       "       [11.26634312],\n",
       "       [11.25060621],\n",
       "       [11.26457544],\n",
       "       [11.27223655],\n",
       "       [11.30052292],\n",
       "       [11.31961947],\n",
       "       [11.31448864],\n",
       "       [11.24470224],\n",
       "       [11.31013094],\n",
       "       [11.27503743],\n",
       "       [11.29964787],\n",
       "       [11.20355363],\n",
       "       [11.3303134 ],\n",
       "       [11.24278344],\n",
       "       [11.25947623],\n",
       "       [11.33536341],\n",
       "       [11.24918996],\n",
       "       [11.29567323],\n",
       "       [11.29509689],\n",
       "       [11.29963381],\n",
       "       [11.21906563],\n",
       "       [11.34911476],\n",
       "       [11.29742685],\n",
       "       [11.29996415],\n",
       "       [11.30777638],\n",
       "       [11.26825137],\n",
       "       [11.24809351],\n",
       "       [11.24163779],\n",
       "       [11.35998088],\n",
       "       [11.29833353],\n",
       "       [11.29331515],\n",
       "       [11.26938648],\n",
       "       [11.25577219],\n",
       "       [11.27140016],\n",
       "       [11.27694568],\n",
       "       [11.29890284],\n",
       "       [11.23916726],\n",
       "       [11.21573761],\n",
       "       [11.25977846],\n",
       "       [11.32158395],\n",
       "       [11.23742769],\n",
       "       [11.28229088],\n",
       "       [11.29593329],\n",
       "       [11.29416209],\n",
       "       [11.30509851],\n",
       "       [11.27087302],\n",
       "       [11.24791779],\n",
       "       [11.29811565],\n",
       "       [11.30995171],\n",
       "       [11.29344518],\n",
       "       [11.30085678],\n",
       "       [11.30862683],\n",
       "       [11.2565875 ],\n",
       "       [11.32216029],\n",
       "       [11.22034833],\n",
       "       [11.24425592],\n",
       "       [11.26083977],\n",
       "       [11.25398343],\n",
       "       [11.36816211],\n",
       "       [11.31774285],\n",
       "       [11.24438244],\n",
       "       [11.25859415],\n",
       "       [11.23992283],\n",
       "       [11.26180619],\n",
       "       [11.2779121 ],\n",
       "       [11.25800024],\n",
       "       [11.26838843],\n",
       "       [11.28606521],\n",
       "       [11.28556267],\n",
       "       [11.33376442],\n",
       "       [11.25970466],\n",
       "       [11.27530451],\n",
       "       [11.23640153],\n",
       "       [11.32822593],\n",
       "       [11.25590925],\n",
       "       [11.25844304],\n",
       "       [11.3056151 ],\n",
       "       [11.31350113],\n",
       "       [11.3211517 ],\n",
       "       [11.28184106],\n",
       "       [11.24158508],\n",
       "       [11.35456188],\n",
       "       [11.27720573],\n",
       "       [11.30849329],\n",
       "       [11.30805401],\n",
       "       [11.28686295],\n",
       "       [11.26989956],\n",
       "       [11.23189623],\n",
       "       [11.25017747],\n",
       "       [11.26677186],\n",
       "       [11.21287699],\n",
       "       [11.31211651],\n",
       "       [11.26709869],\n",
       "       [11.22245338],\n",
       "       [11.37050261],\n",
       "       [11.28678915],\n",
       "       [11.31745117],\n",
       "       [11.3522776 ],\n",
       "       [11.27653802],\n",
       "       [11.24492715],\n",
       "       [11.28624444],\n",
       "       [11.3776155 ],\n",
       "       [11.28822649],\n",
       "       [11.3121903 ],\n",
       "       [11.24460384],\n",
       "       [11.24353901],\n",
       "       [11.27000499],\n",
       "       [11.24169753],\n",
       "       [11.3067467 ],\n",
       "       [11.29547994],\n",
       "       [11.31226762],\n",
       "       [11.31675183],\n",
       "       [11.2769527 ],\n",
       "       [11.25487605],\n",
       "       [11.31813997],\n",
       "       [11.28238577],\n",
       "       [11.2511193 ],\n",
       "       [11.2476472 ],\n",
       "       [11.26644152],\n",
       "       [11.37085404],\n",
       "       [11.30154558],\n",
       "       [11.26772071],\n",
       "       [11.24585492],\n",
       "       [11.28699298],\n",
       "       [11.31789045],\n",
       "       [11.29266853],\n",
       "       [11.37428748],\n",
       "       [11.23081032],\n",
       "       [11.28664507],\n",
       "       [11.33039775],\n",
       "       [11.26955165],\n",
       "       [11.28801563],\n",
       "       [11.24329653],\n",
       "       [11.26982225],\n",
       "       [11.23698138],\n",
       "       [11.2647617 ],\n",
       "       [11.28083246],\n",
       "       [11.3215207 ],\n",
       "       [11.27274261],\n",
       "       [11.33050669],\n",
       "       [11.30533396],\n",
       "       [11.23157292],\n",
       "       [11.30696458],\n",
       "       [11.21979308],\n",
       "       [11.28752363],\n",
       "       [11.20625611],\n",
       "       [11.32588893],\n",
       "       [11.23902669],\n",
       "       [11.2914315 ],\n",
       "       [11.27322758],\n",
       "       [11.29560294],\n",
       "       [11.3130759 ],\n",
       "       [11.26743254],\n",
       "       [11.23309108],\n",
       "       [11.28252634],\n",
       "       [11.25895964],\n",
       "       [11.35499413],\n",
       "       [11.33637552],\n",
       "       [11.27000499],\n",
       "       [11.28580515],\n",
       "       [11.28626904],\n",
       "       [11.23991228],\n",
       "       [11.28720735],\n",
       "       [11.2882546 ],\n",
       "       [11.30205866],\n",
       "       [11.2544684 ],\n",
       "       [11.28117334],\n",
       "       [11.30702433],\n",
       "       [11.20258369],\n",
       "       [11.25189244],\n",
       "       [11.27727602],\n",
       "       [11.31005011],\n",
       "       [11.25171321],\n",
       "       [11.29150179],\n",
       "       [11.31240116],\n",
       "       [11.21674621],\n",
       "       [11.24160968],\n",
       "       [11.37443508],\n",
       "       [11.28710895],\n",
       "       [11.28947405],\n",
       "       [11.28801915],\n",
       "       [11.25891746],\n",
       "       [11.24586195],\n",
       "       [11.25702679],\n",
       "       [11.30089544],\n",
       "       [11.27471411],\n",
       "       [11.25505528],\n",
       "       [11.25881555],\n",
       "       [11.36001603],\n",
       "       [11.28766772],\n",
       "       [11.26368633],\n",
       "       [11.23483065],\n",
       "       [11.34325646],\n",
       "       [11.24473035],\n",
       "       [11.37471271],\n",
       "       [11.23608524],\n",
       "       [11.29983413],\n",
       "       [11.27994686],\n",
       "       [11.28711949],\n",
       "       [11.3129529 ],\n",
       "       [11.323443  ],\n",
       "       [11.30304968],\n",
       "       [11.2612896 ],\n",
       "       [11.28278991],\n",
       "       [11.39341215],\n",
       "       [11.22662131],\n",
       "       [11.29433781],\n",
       "       [11.34640174],\n",
       "       [11.3497649 ],\n",
       "       [11.2860125 ],\n",
       "       [11.20609094],\n",
       "       [11.23755772],\n",
       "       [11.26281479],\n",
       "       [11.31076702],\n",
       "       [11.38956402],\n",
       "       [11.29076379],\n",
       "       [11.24231605],\n",
       "       [11.27725142],\n",
       "       [11.23154129],\n",
       "       [11.30537613],\n",
       "       [11.28936863],\n",
       "       [11.27635879],\n",
       "       [11.32129227],\n",
       "       [11.32591002],\n",
       "       [11.23038158],\n",
       "       [11.33224977],\n",
       "       [11.27838301],\n",
       "       [11.26611821],\n",
       "       [11.31022583],\n",
       "       [11.3145765 ],\n",
       "       [11.22213007],\n",
       "       [11.21579735],\n",
       "       [11.3461698 ],\n",
       "       [11.3173352 ],\n",
       "       [11.2493727 ],\n",
       "       [11.29016637],\n",
       "       [11.28272314],\n",
       "       [11.26144071],\n",
       "       [11.29394069],\n",
       "       [11.32656719],\n",
       "       [11.2574977 ],\n",
       "       [11.33593272],\n",
       "       [11.337971  ],\n",
       "       [11.29210976],\n",
       "       [11.27467546],\n",
       "       [11.18830521],\n",
       "       [11.28250877],\n",
       "       [11.29922616],\n",
       "       [11.28905937],\n",
       "       [11.2079043 ],\n",
       "       [11.2718535 ],\n",
       "       [11.25810215],\n",
       "       [11.30794155],\n",
       "       [11.35071023],\n",
       "       [11.22822382],\n",
       "       [11.30423399],\n",
       "       [11.21644749],\n",
       "       [11.29605277]])"
      ]
     },
     "execution_count": 85,
     "metadata": {},
     "output_type": "execute_result"
    }
   ],
   "source": [
    "means[:, np.newaxis]"
   ]
  },
  {
   "cell_type": "code",
   "execution_count": 86,
   "metadata": {},
   "outputs": [],
   "source": [
    "delta = samples - means[:, np.newaxis]"
   ]
  },
  {
   "cell_type": "code",
   "execution_count": 87,
   "metadata": {},
   "outputs": [],
   "source": [
    "control_boot_chi_squared = np.sum(delta**2, axis=1)"
   ]
  },
  {
   "cell_type": "code",
   "execution_count": 88,
   "metadata": {},
   "outputs": [
    {
     "data": {
      "image/png": "[encoded data removed]",
      "text/plain": [
       "<Figure size 432x288 with 1 Axes>"
      ]
     },
     "metadata": {},
     "output_type": "display_data"
    }
   ],
   "source": [
    "probplot(means, dist='norm', plot = plt, rvalue= True)\n",
    "plt.show()"
   ]
  },
  {
   "cell_type": "code",
   "execution_count": 129,
   "metadata": {},
   "outputs": [
    {
     "data": {
      "image/png": "[encoded data removed]",
      "text/plain": [
       "<Figure size 432x288 with 1 Axes>"
      ]
     },
     "metadata": {},
     "output_type": "display_data"
    }
   ],
   "source": [
    "probplot(control_boot_chi_squared, dist = 'chi2', \n",
    "         sparams=n_boot_samples, plot=plt, rvalue = True)\n",
    "plt.show()"
   ]
  },
  {
   "cell_type": "code",
   "execution_count": 92,
   "metadata": {},
   "outputs": [
    {
     "data": {
      "text/plain": [
       "MannwhitneyuResult(statistic=38940590204.0, pvalue=3.1236179006848145e-75)"
      ]
     },
     "execution_count": 92,
     "metadata": {},
     "output_type": "execute_result"
    }
   ],
   "source": [
    "stats.mannwhitneyu(exp.n_clicks.values, control.n_clicks.values)"
   ]
  },
  {
   "cell_type": "code",
   "execution_count": 124,
   "metadata": {},
   "outputs": [],
   "source": [
    "#data['nevermar'] = data['agefm'].\n",
    "#apply(lambda x : 1 if str(x) == 'nan' else 0)"
   ]
  },
  {
   "cell_type": "markdown",
   "metadata": {},
   "source": [
    "Проверьте, для какого из браузеров наиболее сильно выражено отличие между количеством кликов в контрольной и экспериментальной группах.\n",
    "\n",
    "Для этого примените для каждого из срезов (по каждому из уникальных значений столбца browser) критерий Манна-Уитни между control и exp группами и сделайте поправку Холма-Бонферрони на множественную проверку с \\alpha=0.05 α=0.05.\n",
    "\n",
    "Какое заключение можно сделать исходя из полученных результатов ?\n",
    "\n",
    "В качестве ответа введите количество незначимых изменений с точки зрения результатов, полученных после введения коррекции."
   ]
  },
  {
   "cell_type": "code",
   "execution_count": 132,
   "metadata": {},
   "outputs": [
    {
     "name": "stdout",
     "output_type": "stream",
     "text": [
      "['Browser #2' 'Browser #4' 'Browser #14' 'Browser #17' 'Browser #20'\n",
      " 'Browser #22']\n"
     ]
    }
   ],
   "source": [
    "print(exp.browser.unique())"
   ]
  },
  {
   "cell_type": "code",
   "execution_count": 133,
   "metadata": {},
   "outputs": [
    {
     "name": "stdout",
     "output_type": "stream",
     "text": [
      "['Browser #4' 'Browser #14' 'Browser #2' 'Browser #20' 'Browser #22'\n",
      " 'Browser #17']\n"
     ]
    }
   ],
   "source": [
    "print(control.browser.unique())"
   ]
  },
  {
   "cell_type": "code",
   "execution_count": 134,
   "metadata": {},
   "outputs": [],
   "source": [
    "exp2 = exp[exp.browser == 'Browser #2']\n",
    "cntrl2 = control[control.browser == 'Browser #2']\n",
    "\n",
    "exp4 = exp[exp.browser == 'Browser #4']\n",
    "cntrl4 = control[control.browser == 'Browser #4']\n",
    "\n",
    "exp14 = exp[exp.browser == 'Browser #14']\n",
    "cntrl14 = control[control.browser == 'Browser #14']\n",
    "\n",
    "exp17 = exp[exp.browser == 'Browser #17']\n",
    "cntrl17 = control[control.browser == 'Browser #17']\n",
    "\n",
    "exp20 = exp[exp.browser == 'Browser #20']\n",
    "cntrl20 = control[control.browser == 'Browser #20']\n",
    "\n",
    "exp22 = exp[exp.browser == 'Browser #22']\n",
    "cntrl22 = control[control.browser == 'Browser #22']"
   ]
  },
  {
   "cell_type": "code",
   "execution_count": 136,
   "metadata": {},
   "outputs": [
    {
     "data": {
      "text/html": [
       "<div>\n",
       "<style scoped>\n",
       "    .dataframe tbody tr th:only-of-type {\n",
       "        vertical-align: middle;\n",
       "    }\n",
       "\n",
       "    .dataframe tbody tr th {\n",
       "        vertical-align: top;\n",
       "    }\n",
       "\n",
       "    .dataframe thead th {\n",
       "        text-align: right;\n",
       "    }\n",
       "</style>\n",
       "<table border=\"1\" class=\"dataframe\">\n",
       "  <thead>\n",
       "    <tr style=\"text-align: right;\">\n",
       "      <th></th>\n",
       "      <th>userID</th>\n",
       "      <th>browser</th>\n",
       "      <th>slot</th>\n",
       "      <th>n_clicks</th>\n",
       "      <th>n_queries</th>\n",
       "      <th>n_nonclk_queries</th>\n",
       "    </tr>\n",
       "  </thead>\n",
       "  <tbody>\n",
       "    <tr>\n",
       "      <th>0</th>\n",
       "      <td>1</td>\n",
       "      <td>Browser #2</td>\n",
       "      <td>exp</td>\n",
       "      <td>23</td>\n",
       "      <td>32</td>\n",
       "      <td>19</td>\n",
       "    </tr>\n",
       "    <tr>\n",
       "      <th>21</th>\n",
       "      <td>31</td>\n",
       "      <td>Browser #2</td>\n",
       "      <td>exp</td>\n",
       "      <td>7</td>\n",
       "      <td>12</td>\n",
       "      <td>6</td>\n",
       "    </tr>\n",
       "    <tr>\n",
       "      <th>28</th>\n",
       "      <td>38</td>\n",
       "      <td>Browser #2</td>\n",
       "      <td>exp</td>\n",
       "      <td>39</td>\n",
       "      <td>23</td>\n",
       "      <td>8</td>\n",
       "    </tr>\n",
       "    <tr>\n",
       "      <th>31</th>\n",
       "      <td>41</td>\n",
       "      <td>Browser #2</td>\n",
       "      <td>exp</td>\n",
       "      <td>32</td>\n",
       "      <td>32</td>\n",
       "      <td>9</td>\n",
       "    </tr>\n",
       "    <tr>\n",
       "      <th>36</th>\n",
       "      <td>46</td>\n",
       "      <td>Browser #2</td>\n",
       "      <td>exp</td>\n",
       "      <td>4</td>\n",
       "      <td>6</td>\n",
       "      <td>3</td>\n",
       "    </tr>\n",
       "  </tbody>\n",
       "</table>\n",
       "</div>"
      ],
      "text/plain": [
       "    userID     browser slot  n_clicks  n_queries  n_nonclk_queries\n",
       "0        1  Browser #2  exp        23         32                19\n",
       "21      31  Browser #2  exp         7         12                 6\n",
       "28      38  Browser #2  exp        39         23                 8\n",
       "31      41  Browser #2  exp        32         32                 9\n",
       "36      46  Browser #2  exp         4          6                 3"
      ]
     },
     "execution_count": 136,
     "metadata": {},
     "output_type": "execute_result"
    }
   ],
   "source": [
    "exp2.head()"
   ]
  },
  {
   "cell_type": "code",
   "execution_count": 137,
   "metadata": {},
   "outputs": [
    {
     "data": {
      "text/html": [
       "<div>\n",
       "<style scoped>\n",
       "    .dataframe tbody tr th:only-of-type {\n",
       "        vertical-align: middle;\n",
       "    }\n",
       "\n",
       "    .dataframe tbody tr th {\n",
       "        vertical-align: top;\n",
       "    }\n",
       "\n",
       "    .dataframe thead th {\n",
       "        text-align: right;\n",
       "    }\n",
       "</style>\n",
       "<table border=\"1\" class=\"dataframe\">\n",
       "  <thead>\n",
       "    <tr style=\"text-align: right;\">\n",
       "      <th></th>\n",
       "      <th>userID</th>\n",
       "      <th>browser</th>\n",
       "      <th>slot</th>\n",
       "      <th>n_clicks</th>\n",
       "      <th>n_queries</th>\n",
       "      <th>n_nonclk_queries</th>\n",
       "    </tr>\n",
       "  </thead>\n",
       "  <tbody>\n",
       "    <tr>\n",
       "      <th>19</th>\n",
       "      <td>29</td>\n",
       "      <td>Browser #2</td>\n",
       "      <td>control</td>\n",
       "      <td>9</td>\n",
       "      <td>9</td>\n",
       "      <td>3</td>\n",
       "    </tr>\n",
       "    <tr>\n",
       "      <th>22</th>\n",
       "      <td>32</td>\n",
       "      <td>Browser #2</td>\n",
       "      <td>control</td>\n",
       "      <td>3</td>\n",
       "      <td>5</td>\n",
       "      <td>3</td>\n",
       "    </tr>\n",
       "    <tr>\n",
       "      <th>50</th>\n",
       "      <td>60</td>\n",
       "      <td>Browser #2</td>\n",
       "      <td>control</td>\n",
       "      <td>5</td>\n",
       "      <td>9</td>\n",
       "      <td>5</td>\n",
       "    </tr>\n",
       "    <tr>\n",
       "      <th>60</th>\n",
       "      <td>70</td>\n",
       "      <td>Browser #2</td>\n",
       "      <td>control</td>\n",
       "      <td>5</td>\n",
       "      <td>15</td>\n",
       "      <td>11</td>\n",
       "    </tr>\n",
       "    <tr>\n",
       "      <th>63</th>\n",
       "      <td>73</td>\n",
       "      <td>Browser #2</td>\n",
       "      <td>control</td>\n",
       "      <td>13</td>\n",
       "      <td>13</td>\n",
       "      <td>7</td>\n",
       "    </tr>\n",
       "  </tbody>\n",
       "</table>\n",
       "</div>"
      ],
      "text/plain": [
       "    userID     browser     slot  n_clicks  n_queries  n_nonclk_queries\n",
       "19      29  Browser #2  control         9          9                 3\n",
       "22      32  Browser #2  control         3          5                 3\n",
       "50      60  Browser #2  control         5          9                 5\n",
       "60      70  Browser #2  control         5         15                11\n",
       "63      73  Browser #2  control        13         13                 7"
      ]
     },
     "execution_count": 137,
     "metadata": {},
     "output_type": "execute_result"
    }
   ],
   "source": [
    "cntrl2.head()"
   ]
  },
  {
   "cell_type": "code",
   "execution_count": null,
   "metadata": {},
   "outputs": [],
   "source": [
    "#stats.mannwhitneyu()"
   ]
  },
  {
   "cell_type": "code",
   "execution_count": 140,
   "metadata": {},
   "outputs": [],
   "source": [
    "sales_correlation = []\n",
    "\n",
    "for i in np.arange(0,6,1):\n",
    "    if i == 0:\n",
    "        stat, p = stats.mannwhitneyu(exp2.n_clicks.values, cntrl2.n_clicks.values)\n",
    "        sales_correlation.append(p)\n",
    "    if i == 1:\n",
    "        stat, p = stats.mannwhitneyu(exp4.n_clicks.values, cntrl4.n_clicks.values)\n",
    "        sales_correlation.append(p)\n",
    "    if i == 2:\n",
    "        stat, p = stats.mannwhitneyu(exp14.n_clicks.values, cntrl14.n_clicks.values)\n",
    "        sales_correlation.append(p)\n",
    "    if i == 3:\n",
    "        stat, p = stats.mannwhitneyu(exp17.n_clicks.values, cntrl17.n_clicks.values)\n",
    "        sales_correlation.append(p)\n",
    "    if i == 4:\n",
    "        stat, p = stats.mannwhitneyu(exp20.n_clicks.values, cntrl20.n_clicks.values)\n",
    "        sales_correlation.append(p)\n",
    "    if i == 5:\n",
    "        stat, p = stats.mannwhitneyu(exp22.n_clicks.values, cntrl22.n_clicks.values)\n",
    "        sales_correlation.append(p)"
   ]
  },
  {
   "cell_type": "code",
   "execution_count": 141,
   "metadata": {},
   "outputs": [
    {
     "data": {
      "text/plain": [
       "[0.0272438604197241,\n",
       " 0.40760617658454984,\n",
       " 0.0,\n",
       " 0.03740060143010802,\n",
       " 0.45366656388735377,\n",
       " 0.2574055152210032]"
      ]
     },
     "execution_count": 141,
     "metadata": {},
     "output_type": "execute_result"
    }
   ],
   "source": [
    "sales_correlation"
   ]
  },
  {
   "cell_type": "code",
   "execution_count": 146,
   "metadata": {},
   "outputs": [],
   "source": [
    "reject, p_corrected, a1, a2 = multipletests(sales_correlation, \n",
    "                                            alpha = 0.05, \n",
    "                                            method = 'holm') "
   ]
  },
  {
   "cell_type": "code",
   "execution_count": 147,
   "metadata": {},
   "outputs": [
    {
     "data": {
      "text/plain": [
       "array([0.1362193 , 0.81521235, 0.        , 0.14960241, 0.81521235,\n",
       "       0.77221655])"
      ]
     },
     "execution_count": 147,
     "metadata": {},
     "output_type": "execute_result"
    }
   ],
   "source": [
    "p_corrected"
   ]
  },
  {
   "cell_type": "markdown",
   "metadata": {},
   "source": [
    "Для каждого браузера в каждой из двух групп (control и exp) посчитайте долю запросов, в которых пользователь не кликнул ни разу. Это можно сделать, поделив сумму значений n_nonclk_queries на сумму значений n_queries. Умножив это значение на 100, получим процент некликнутых запросов, который можно легче проинтерпретировать.\n",
    "\n",
    "Сходятся ли результаты проведенного Вами анализа с показателем процента некликнутых запросов ? Отметьте все верные утверждения."
   ]
  },
  {
   "cell_type": "code",
   "execution_count": 168,
   "metadata": {},
   "outputs": [
    {
     "name": "stdout",
     "output_type": "stream",
     "text": [
      "44.982746948554706\n",
      "45.96274717919465\n"
     ]
    }
   ],
   "source": [
    "print((exp2.n_nonclk_queries.sum() / exp2.n_queries.sum()) * 100)\n",
    "print((cntrl2.n_nonclk_queries.sum() / cntrl2.n_queries.sum()) * 100)"
   ]
  },
  {
   "cell_type": "code",
   "execution_count": 169,
   "metadata": {},
   "outputs": [
    {
     "name": "stdout",
     "output_type": "stream",
     "text": [
      "45.14294190358467\n",
      "46.97092963514274\n"
     ]
    }
   ],
   "source": [
    "print((exp4.n_nonclk_queries.sum() / exp4.n_queries.sum()) * 100)\n",
    "print((cntrl4.n_nonclk_queries.sum() / cntrl4.n_queries.sum()) * 100)"
   ]
  },
  {
   "cell_type": "code",
   "execution_count": 170,
   "metadata": {},
   "outputs": [
    {
     "name": "stdout",
     "output_type": "stream",
     "text": [
      "43.755617361273295\n",
      "57.59041136008114\n"
     ]
    }
   ],
   "source": [
    "print((exp14.n_nonclk_queries.sum() / exp14.n_queries.sum()) * 100)\n",
    "print((cntrl14.n_nonclk_queries.sum() / cntrl14.n_queries.sum()) * 100)"
   ]
  },
  {
   "cell_type": "code",
   "execution_count": 171,
   "metadata": {},
   "outputs": [
    {
     "name": "stdout",
     "output_type": "stream",
     "text": [
      "36.93741284866483\n",
      "36.29936674628208\n"
     ]
    }
   ],
   "source": [
    "print((exp17.n_nonclk_queries.sum() / exp17.n_queries.sum()) * 100)\n",
    "print((cntrl17.n_nonclk_queries.sum() / cntrl17.n_queries.sum()) * 100)"
   ]
  },
  {
   "cell_type": "code",
   "execution_count": 172,
   "metadata": {},
   "outputs": [
    {
     "name": "stdout",
     "output_type": "stream",
     "text": [
      "38.97737648371716\n",
      "40.540484743383296\n"
     ]
    }
   ],
   "source": [
    "print((exp20.n_nonclk_queries.sum() / exp20.n_queries.sum()) * 100)\n",
    "print((cntrl20.n_nonclk_queries.sum() / cntrl20.n_queries.sum()) * 100)"
   ]
  },
  {
   "cell_type": "code",
   "execution_count": 173,
   "metadata": {},
   "outputs": [
    {
     "name": "stdout",
     "output_type": "stream",
     "text": [
      "39.85394721969546\n",
      "40.593976593513354\n"
     ]
    }
   ],
   "source": [
    "print((exp22.n_nonclk_queries.sum() / exp22.n_queries.sum()) * 100)\n",
    "print((cntrl22.n_nonclk_queries.sum() / cntrl22.n_queries.sum()) * 100)"
   ]
  },
  {
   "cell_type": "code",
   "execution_count": null,
   "metadata": {},
   "outputs": [],
   "source": []
  }
 ],
 "metadata": {
  "kernelspec": {
   "display_name": "Python 3",
   "language": "python",
   "name": "python3"
  },
  "language_info": {
   "codemirror_mode": {
    "name": "ipython",
    "version": 3
   },
   "file_extension": ".py",
   "mimetype": "text/x-python",
   "name": "python",
   "nbconvert_exporter": "python",
   "pygments_lexer": "ipython3",
   "version": "3.6.5"
  }
 },
 "nbformat": 4,
 "nbformat_minor": 2
}
