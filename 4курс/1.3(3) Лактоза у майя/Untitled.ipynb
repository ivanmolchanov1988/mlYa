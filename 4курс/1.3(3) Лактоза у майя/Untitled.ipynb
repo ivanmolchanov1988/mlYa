{
 "cells": [
  {
   "cell_type": "code",
   "execution_count": 3,
   "metadata": {},
   "outputs": [],
   "source": [
    "import numpy as np\n",
    "from statsmodels.stats.proportion import proportion_confint\n",
    "from statsmodels.stats.proportion import samplesize_confint_proportion"
   ]
  },
  {
   "cell_type": "code",
   "execution_count": 6,
   "metadata": {},
   "outputs": [],
   "source": [
    "sample = [1]"
   ]
  },
  {
   "cell_type": "code",
   "execution_count": 7,
   "metadata": {},
   "outputs": [
    {
     "data": {
      "text/plain": [
       "[1]"
      ]
     },
     "execution_count": 7,
     "metadata": {},
     "output_type": "execute_result"
    }
   ],
   "source": [
    "sample"
   ]
  },
  {
   "cell_type": "code",
   "execution_count": 9,
   "metadata": {},
   "outputs": [],
   "source": [
    "for i in np.arange(0, 49, 1):\n",
    "    sample.append(0)"
   ]
  },
  {
   "cell_type": "code",
   "execution_count": 11,
   "metadata": {},
   "outputs": [
    {
     "data": {
      "text/plain": [
       "50"
      ]
     },
     "execution_count": 11,
     "metadata": {},
     "output_type": "execute_result"
    }
   ],
   "source": [
    "len(sample)"
   ]
  },
  {
   "cell_type": "code",
   "execution_count": 12,
   "metadata": {},
   "outputs": [
    {
     "data": {
      "text/plain": [
       "0.02"
      ]
     },
     "execution_count": 12,
     "metadata": {},
     "output_type": "execute_result"
    }
   ],
   "source": [
    "np.mean(sample)"
   ]
  },
  {
   "cell_type": "code",
   "execution_count": 14,
   "metadata": {},
   "outputs": [],
   "source": [
    "NormalInterval = proportion_confint(sum(sample), len(sample), method='normal')"
   ]
  },
  {
   "cell_type": "code",
   "execution_count": 15,
   "metadata": {},
   "outputs": [
    {
     "data": {
      "text/plain": [
       "(0.0, 0.05880530708179099)"
      ]
     },
     "execution_count": 15,
     "metadata": {},
     "output_type": "execute_result"
    }
   ],
   "source": [
    "NormalInterval"
   ]
  },
  {
   "cell_type": "code",
   "execution_count": 18,
   "metadata": {},
   "outputs": [
    {
     "data": {
      "text/plain": [
       "0.03880530708179099"
      ]
     },
     "execution_count": 18,
     "metadata": {},
     "output_type": "execute_result"
    }
   ],
   "source": [
    "# Т.к. центр итервала = 0,02, то верхняя граница интервала будет:\n",
    "NormalInterval[1]-np.mean(sample)"
   ]
  },
  {
   "cell_type": "code",
   "execution_count": 22,
   "metadata": {},
   "outputs": [
    {
     "data": {
      "text/plain": [
       "-0.018805307081790987"
      ]
     },
     "execution_count": 22,
     "metadata": {},
     "output_type": "execute_result"
    }
   ],
   "source": [
    "# Соответственно, нижняя граница будет равна = Центр(0,02) - Верхняя(выше):\n",
    "np.mean(sample) - (NormalInterval[1]-np.mean(sample))"
   ]
  },
  {
   "cell_type": "code",
   "execution_count": 23,
   "metadata": {},
   "outputs": [],
   "source": [
    "#для вилсона\n",
    "NormalIntervalWilson = proportion_confint(sum(sample), len(sample), method='wilson')"
   ]
  },
  {
   "cell_type": "code",
   "execution_count": 25,
   "metadata": {},
   "outputs": [
    {
     "data": {
      "text/plain": [
       "(0.003539259271646236, 0.10495443589637815)"
      ]
     },
     "execution_count": 25,
     "metadata": {},
     "output_type": "execute_result"
    }
   ],
   "source": [
    "NormalIntervalWilson"
   ]
  },
  {
   "cell_type": "markdown",
   "metadata": {},
   "source": [
    "Пусть в популяции майя действительно 2% носителей варианта 13910T, как в выборке, которую мы исследовали. Какой объём выборки нужен, чтобы с помощью нормального интервала оценить долю носителей гена 13910T с точностью ±0.01 на уровне доверия 95%?"
   ]
  },
  {
   "cell_type": "code",
   "execution_count": 26,
   "metadata": {},
   "outputs": [],
   "source": [
    "n_samples = int(np.ceil(samplesize_confint_proportion(np.mean(sample), 0.01)))"
   ]
  },
  {
   "cell_type": "code",
   "execution_count": 27,
   "metadata": {},
   "outputs": [
    {
     "data": {
      "text/plain": [
       "753"
      ]
     },
     "execution_count": 27,
     "metadata": {},
     "output_type": "execute_result"
    }
   ],
   "source": [
    "n_samples"
   ]
  },
  {
   "cell_type": "markdown",
   "metadata": {},
   "source": [
    "Постройте график зависимости объёма выборки, необходимого для оценки для доли носителей гена 13910T с точностью ±0.01 на уровне доверия 95%, от неизвестного параметра p. Посмотрите, при каком значении p нужно больше всего испытуемых. Как вы думаете, насколько вероятно, что выборка, которую мы анализируем, взята из случайной величины с этим значением параметра?\n",
    "\n",
    "Как бы вы не ответили на последний вопрос, рассмотреть объём выборки, необходимый при таком p, всё равно полезно — это даёт максимально пессимистичную оценку необходимого объёма выборки.\n",
    "\n",
    "Какой объём выборки нужен в худшем случае, чтобы с помощью нормального интервала оценить долю носителей гена 13910T с точностью ±0.01 на уровне доверия 95%?"
   ]
  },
  {
   "cell_type": "code",
   "execution_count": 28,
   "metadata": {},
   "outputs": [],
   "source": [
    "x = np.linspace(0, 1, 200)"
   ]
  },
  {
   "cell_type": "code",
   "execution_count": 34,
   "metadata": {},
   "outputs": [],
   "source": [
    "import matplotlib.pyplot as plt"
   ]
  },
  {
   "cell_type": "code",
   "execution_count": 45,
   "metadata": {},
   "outputs": [
    {
     "name": "stdout",
     "output_type": "stream",
     "text": [
      "9604\n",
      "0.5025125628140703\n"
     ]
    }
   ],
   "source": [
    "n = []\n",
    "ii = 0.\n",
    "p_nMax = 0.\n",
    "last = 0.\n",
    "for i in x:\n",
    "    if last > p_nMax:\n",
    "        p_nMax = last\n",
    "        ii = i\n",
    "    n.append(int(np.ceil(samplesize_confint_proportion(i, 0.01))))\n",
    "    last = int(np.ceil(samplesize_confint_proportion(i, 0.01)))\n",
    "print p_nMax\n",
    "print ii"
   ]
  },
  {
   "cell_type": "code",
   "execution_count": 41,
   "metadata": {},
   "outputs": [
    {
     "data": {
      "text/plain": [
       "[<matplotlib.lines.Line2D at 0xb699550>]"
      ]
     },
     "execution_count": 41,
     "metadata": {},
     "output_type": "execute_result"
    },
    {
     "data": {
      "image/png": "[encoded data removed]",
      "text/plain": [
       "<Figure size 432x288 with 1 Axes>"
      ]
     },
     "metadata": {},
     "output_type": "display_data"
    }
   ],
   "source": [
    "plt.plot(n, x)"
   ]
  },
  {
   "cell_type": "code",
   "execution_count": 39,
   "metadata": {},
   "outputs": [
    {
     "data": {
      "text/plain": [
       "[0,\n",
       " 193,\n",
       " 383,\n",
       " 571,\n",
       " 757,\n",
       " 941,\n",
       " 1124,\n",
       " 1304,\n",
       " 1483,\n",
       " 1659,\n",
       " 1834,\n",
       " 2007,\n",
       " 2177,\n",
       " 2346,\n",
       " 2513,\n",
       " 2678,\n",
       " 2841,\n",
       " 3002,\n",
       " 3161,\n",
       " 3318,\n",
       " 3473,\n",
       " 3627,\n",
       " 3778,\n",
       " 3927,\n",
       " 4075,\n",
       " 4220,\n",
       " 4364,\n",
       " 4505,\n",
       " 4645,\n",
       " 4783,\n",
       " 4919,\n",
       " 5052,\n",
       " 5184,\n",
       " 5314,\n",
       " 5442,\n",
       " 5569,\n",
       " 5693,\n",
       " 5815,\n",
       " 5935,\n",
       " 6054,\n",
       " 6170,\n",
       " 6284,\n",
       " 6397,\n",
       " 6508,\n",
       " 6616,\n",
       " 6723,\n",
       " 6828,\n",
       " 6930,\n",
       " 7031,\n",
       " 7130,\n",
       " 7227,\n",
       " 7322,\n",
       " 7415,\n",
       " 7507,\n",
       " 7596,\n",
       " 7683,\n",
       " 7769,\n",
       " 7852,\n",
       " 7933,\n",
       " 8013,\n",
       " 8091,\n",
       " 8166,\n",
       " 8240,\n",
       " 8312,\n",
       " 8382,\n",
       " 8450,\n",
       " 8516,\n",
       " 8580,\n",
       " 8642,\n",
       " 8702,\n",
       " 8760,\n",
       " 8816,\n",
       " 8871,\n",
       " 8923,\n",
       " 8973,\n",
       " 9022,\n",
       " 9068,\n",
       " 9113,\n",
       " 9156,\n",
       " 9196,\n",
       " 9235,\n",
       " 9272,\n",
       " 9307,\n",
       " 9340,\n",
       " 9371,\n",
       " 9400,\n",
       " 9427,\n",
       " 9453,\n",
       " 9476,\n",
       " 9497,\n",
       " 9517,\n",
       " 9534,\n",
       " 9550,\n",
       " 9563,\n",
       " 9575,\n",
       " 9585,\n",
       " 9592,\n",
       " 9598,\n",
       " 9602,\n",
       " 9604,\n",
       " 9604,\n",
       " 9602,\n",
       " 9598,\n",
       " 9592,\n",
       " 9585,\n",
       " 9575,\n",
       " 9563,\n",
       " 9550,\n",
       " 9534,\n",
       " 9517,\n",
       " 9497,\n",
       " 9476,\n",
       " 9453,\n",
       " 9427,\n",
       " 9400,\n",
       " 9371,\n",
       " 9340,\n",
       " 9307,\n",
       " 9272,\n",
       " 9235,\n",
       " 9196,\n",
       " 9156,\n",
       " 9113,\n",
       " 9068,\n",
       " 9022,\n",
       " 8973,\n",
       " 8923,\n",
       " 8871,\n",
       " 8816,\n",
       " 8760,\n",
       " 8702,\n",
       " 8642,\n",
       " 8580,\n",
       " 8516,\n",
       " 8450,\n",
       " 8382,\n",
       " 8312,\n",
       " 8240,\n",
       " 8166,\n",
       " 8091,\n",
       " 8013,\n",
       " 7933,\n",
       " 7852,\n",
       " 7769,\n",
       " 7683,\n",
       " 7596,\n",
       " 7507,\n",
       " 7415,\n",
       " 7322,\n",
       " 7227,\n",
       " 7130,\n",
       " 7031,\n",
       " 6930,\n",
       " 6828,\n",
       " 6723,\n",
       " 6616,\n",
       " 6508,\n",
       " 6397,\n",
       " 6284,\n",
       " 6170,\n",
       " 6054,\n",
       " 5935,\n",
       " 5815,\n",
       " 5693,\n",
       " 5569,\n",
       " 5442,\n",
       " 5314,\n",
       " 5184,\n",
       " 5052,\n",
       " 4919,\n",
       " 4783,\n",
       " 4645,\n",
       " 4505,\n",
       " 4364,\n",
       " 4220,\n",
       " 4075,\n",
       " 3927,\n",
       " 3778,\n",
       " 3627,\n",
       " 3473,\n",
       " 3318,\n",
       " 3161,\n",
       " 3002,\n",
       " 2841,\n",
       " 2678,\n",
       " 2513,\n",
       " 2346,\n",
       " 2177,\n",
       " 2007,\n",
       " 1834,\n",
       " 1659,\n",
       " 1483,\n",
       " 1304,\n",
       " 1124,\n",
       " 941,\n",
       " 757,\n",
       " 571,\n",
       " 383,\n",
       " 193,\n",
       " 0]"
      ]
     },
     "execution_count": 39,
     "metadata": {},
     "output_type": "execute_result"
    }
   ],
   "source": [
    "n"
   ]
  },
  {
   "cell_type": "code",
   "execution_count": 42,
   "metadata": {},
   "outputs": [
    {
     "data": {
      "text/plain": [
       "array([0.        , 0.00502513, 0.01005025, 0.01507538, 0.0201005 ,\n",
       "       0.02512563, 0.03015075, 0.03517588, 0.04020101, 0.04522613,\n",
       "       0.05025126, 0.05527638, 0.06030151, 0.06532663, 0.07035176,\n",
       "       0.07537688, 0.08040201, 0.08542714, 0.09045226, 0.09547739,\n",
       "       0.10050251, 0.10552764, 0.11055276, 0.11557789, 0.12060302,\n",
       "       0.12562814, 0.13065327, 0.13567839, 0.14070352, 0.14572864,\n",
       "       0.15075377, 0.15577889, 0.16080402, 0.16582915, 0.17085427,\n",
       "       0.1758794 , 0.18090452, 0.18592965, 0.19095477, 0.1959799 ,\n",
       "       0.20100503, 0.20603015, 0.21105528, 0.2160804 , 0.22110553,\n",
       "       0.22613065, 0.23115578, 0.2361809 , 0.24120603, 0.24623116,\n",
       "       0.25125628, 0.25628141, 0.26130653, 0.26633166, 0.27135678,\n",
       "       0.27638191, 0.28140704, 0.28643216, 0.29145729, 0.29648241,\n",
       "       0.30150754, 0.30653266, 0.31155779, 0.31658291, 0.32160804,\n",
       "       0.32663317, 0.33165829, 0.33668342, 0.34170854, 0.34673367,\n",
       "       0.35175879, 0.35678392, 0.36180905, 0.36683417, 0.3718593 ,\n",
       "       0.37688442, 0.38190955, 0.38693467, 0.3919598 , 0.39698492,\n",
       "       0.40201005, 0.40703518, 0.4120603 , 0.41708543, 0.42211055,\n",
       "       0.42713568, 0.4321608 , 0.43718593, 0.44221106, 0.44723618,\n",
       "       0.45226131, 0.45728643, 0.46231156, 0.46733668, 0.47236181,\n",
       "       0.47738693, 0.48241206, 0.48743719, 0.49246231, 0.49748744,\n",
       "       0.50251256, 0.50753769, 0.51256281, 0.51758794, 0.52261307,\n",
       "       0.52763819, 0.53266332, 0.53768844, 0.54271357, 0.54773869,\n",
       "       0.55276382, 0.55778894, 0.56281407, 0.5678392 , 0.57286432,\n",
       "       0.57788945, 0.58291457, 0.5879397 , 0.59296482, 0.59798995,\n",
       "       0.60301508, 0.6080402 , 0.61306533, 0.61809045, 0.62311558,\n",
       "       0.6281407 , 0.63316583, 0.63819095, 0.64321608, 0.64824121,\n",
       "       0.65326633, 0.65829146, 0.66331658, 0.66834171, 0.67336683,\n",
       "       0.67839196, 0.68341709, 0.68844221, 0.69346734, 0.69849246,\n",
       "       0.70351759, 0.70854271, 0.71356784, 0.71859296, 0.72361809,\n",
       "       0.72864322, 0.73366834, 0.73869347, 0.74371859, 0.74874372,\n",
       "       0.75376884, 0.75879397, 0.7638191 , 0.76884422, 0.77386935,\n",
       "       0.77889447, 0.7839196 , 0.78894472, 0.79396985, 0.79899497,\n",
       "       0.8040201 , 0.80904523, 0.81407035, 0.81909548, 0.8241206 ,\n",
       "       0.82914573, 0.83417085, 0.83919598, 0.84422111, 0.84924623,\n",
       "       0.85427136, 0.85929648, 0.86432161, 0.86934673, 0.87437186,\n",
       "       0.87939698, 0.88442211, 0.88944724, 0.89447236, 0.89949749,\n",
       "       0.90452261, 0.90954774, 0.91457286, 0.91959799, 0.92462312,\n",
       "       0.92964824, 0.93467337, 0.93969849, 0.94472362, 0.94974874,\n",
       "       0.95477387, 0.95979899, 0.96482412, 0.96984925, 0.97487437,\n",
       "       0.9798995 , 0.98492462, 0.98994975, 0.99497487, 1.        ])"
      ]
     },
     "execution_count": 42,
     "metadata": {},
     "output_type": "execute_result"
    }
   ],
   "source": [
    "x"
   ]
  },
  {
   "cell_type": "code",
   "execution_count": null,
   "metadata": {},
   "outputs": [],
   "source": []
  }
 ],
 "metadata": {
  "kernelspec": {
   "display_name": "Python 2",
   "language": "python",
   "name": "python2"
  },
  "language_info": {
   "codemirror_mode": {
    "name": "ipython",
    "version": 2
   },
   "file_extension": ".py",
   "mimetype": "text/x-python",
   "name": "python",
   "nbconvert_exporter": "python",
   "pygments_lexer": "ipython2",
   "version": "2.7.15"
  }
 },
 "nbformat": 4,
 "nbformat_minor": 2
}
