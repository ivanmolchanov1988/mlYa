{
 "cells": [
  {
   "cell_type": "code",
   "execution_count": 1,
   "metadata": {},
   "outputs": [],
   "source": [
    "#coding=utf-8"
   ]
  },
  {
   "cell_type": "code",
   "execution_count": 2,
   "metadata": {},
   "outputs": [],
   "source": [
    "import numpy as np\n",
    "import pandas as pd\n",
    "from scipy.stats.mstats import normaltest\n",
    "from scipy.stats import ttest_ind\n",
    "import statsmodels.stats.multitest as smm"
   ]
  },
  {
   "cell_type": "code",
   "execution_count": 3,
   "metadata": {},
   "outputs": [],
   "source": [
    "def _load():\n",
    "    filename = 'gene_high_throughput_sequencing.csv'\n",
    " \n",
    "    return pd.read_csv(filename, sep=',')"
   ]
  },
  {
   "cell_type": "code",
   "execution_count": 9,
   "metadata": {},
   "outputs": [],
   "source": [
    "def norm_stat(data, pvalue = 0.05):\n",
    "    not_normal_cols = []\n",
    " \n",
    "    max_len = len(data.columns)\n",
    " \n",
    "    for i, col in enumerate(data.columns):\n",
    "        print (int(100 * float(i) / max_len), '%')\n",
    " \n",
    "        res = normaltest(data[col]).pvalue\n",
    " \n",
    "        if res < pvalue:\n",
    "            not_normal_cols.append([col, res])\n",
    " \n",
    "    return float(len(not_normal_cols)) / data.shape[1]"
   ]
  },
  {
   "cell_type": "code",
   "execution_count": 6,
   "metadata": {},
   "outputs": [],
   "source": [
    "def stud_test(data1, data2):\n",
    "    return ttest_ind(data1, data2, equal_var = False).pvalue"
   ]
  },
  {
   "cell_type": "code",
   "execution_count": 13,
   "metadata": {},
   "outputs": [
    {
     "name": "stdout",
     "output_type": "stream",
     "text": [
      "# cnt_normal_neoplasia= [1575, 14173]\n",
      "# cnt_neoplasia_cancer= [3490, 12258]\n"
     ]
    }
   ],
   "source": [
    "if __name__ == '__main__':\n",
    "    class Diagnosis:\n",
    "        NORMAL = 'normal'\n",
    "        NEOPLASIA = 'early neoplasia'\n",
    "        CANCER = 'cancer'\n",
    " \n",
    "    P_VALUE = 0.05\n",
    "    F_COEFF = 1.5\n",
    " \n",
    "    data = _load()\n",
    " \n",
    "    # 1\n",
    " \n",
    "    # выявим те гены, уровень экспрессии которых имеет нормально распределение\n",
    " \n",
    "    new_data = data.drop(['Diagnosis', 'Patient_id'], axis=1)\n",
    " \n",
    "    normal = data[data.Diagnosis==Diagnosis.NORMAL]\n",
    "    neoplasia = data[data.Diagnosis==Diagnosis.NEOPLASIA]\n",
    "    cancer = data[data.Diagnosis==Diagnosis.CANCER]\n",
    " \n",
    "    for o in (normal, neoplasia, cancer):\n",
    "        del o['Diagnosis']\n",
    "        del o['Patient_id']\n",
    " \n",
    "    cnt_normal_neoplasia = [0, 0]\n",
    "    cnt_neoplasia_cancer = [0, 0]\n",
    " \n",
    "    normal_neoplasia_pvalues = []\n",
    "    neoplasia_cancer_pvalues = []\n",
    " \n",
    "    for col in new_data.columns:\n",
    "        normal_col = normal[col]\n",
    "        neoplasia_col = neoplasia[col]\n",
    "        cancer_col = cancer[col]\n",
    " \n",
    "        normal_neoplasia_pvalue = stud_test(normal_col, neoplasia_col)\n",
    "        normal_neoplasia_pvalues.append(normal_neoplasia_pvalue)\n",
    " \n",
    "        if normal_neoplasia_pvalue < P_VALUE:\n",
    "            cnt_normal_neoplasia[0] += 1\n",
    "        else:\n",
    "            cnt_normal_neoplasia[1] += 1\n",
    " \n",
    "        neoplasia_cancer_pvalue = stud_test(neoplasia_col, cancer_col)\n",
    "        neoplasia_cancer_pvalues.append(neoplasia_cancer_pvalue)\n",
    " \n",
    "        if neoplasia_cancer_pvalue < P_VALUE:\n",
    "            cnt_neoplasia_cancer[0] += 1\n",
    "        else:\n",
    "            cnt_neoplasia_cancer[1] += 1\n",
    " \n",
    "    print (\"# cnt_normal_neoplasia=\", cnt_normal_neoplasia)\n",
    "    print (\"# cnt_neoplasia_cancer=\", cnt_neoplasia_cancer)"
   ]
  },
  {
   "cell_type": "code",
   "execution_count": 24,
   "metadata": {},
   "outputs": [
    {
     "name": "stdout",
     "output_type": "stream",
     "text": [
      "normal_neoplasia_pvalues= 15748\n",
      "changes_normal_neoplasia= 2\n",
      "changes_neoplasia_cancer= 77\n",
      "changes_normal_neoplasia= 4\n",
      "changes_neoplasia_cancer= 524\n"
     ]
    }
   ],
   "source": [
    "# 2\n",
    " \n",
    "def f_coeff(control, treatment):\n",
    "    #import pdb; pdb.set_trace()\n",
    "    return abs(max(control / treatment, treatment / control))\n",
    "\n",
    "def calc_practical_changes(pvalues, control, treatment, method):\n",
    "    rejected, p_corrected, a1, a2 = smm.multipletests(pvalues, alpha=P_VALUE / 2., method=method)\n",
    "    rejected_cols = new_data.columns[[i for i, val in enumerate(rejected) if val]]\n",
    "\n",
    "    changes = 0\n",
    "\n",
    "    for col in rejected_cols:\n",
    "        control_mean = control[col].mean()\n",
    "        treatment_mean = treatment[col].mean()\n",
    "\n",
    "        if f_coeff(control_mean, treatment_mean) > F_COEFF:\n",
    "            changes += 1\n",
    "\n",
    "    return changes\n",
    "\n",
    "print ('normal_neoplasia_pvalues=', len(normal_neoplasia_pvalues))\n",
    "\n",
    "print (\"changes_normal_neoplasia=\", calc_practical_changes(normal_neoplasia_pvalues, \n",
    "                                                           normal, neoplasia, 'holm'))\n",
    "print (\"changes_neoplasia_cancer=\", calc_practical_changes(neoplasia_cancer_pvalues, \n",
    "                                                           neoplasia, cancer, 'holm'))\n",
    "\n",
    "# 3\n",
    "print (\"changes_normal_neoplasia=\", calc_practical_changes(normal_neoplasia_pvalues, normal, neoplasia, 'fdr_bh'))\n",
    "print (\"changes_neoplasia_cancer=\", calc_practical_changes(neoplasia_cancer_pvalues, neoplasia, cancer, 'fdr_bh'))"
   ]
  },
  {
   "cell_type": "code",
   "execution_count": 26,
   "metadata": {},
   "outputs": [],
   "source": [
    "rejected, p_corrected, a1, a2 = smm.multipletests(normal_neoplasia_pvalues, \n",
    "                                                  alpha=P_VALUE / 2., method='holm')"
   ]
  },
  {
   "cell_type": "code",
   "execution_count": 28,
   "metadata": {},
   "outputs": [
    {
     "data": {
      "text/plain": [
       "15748"
      ]
     },
     "execution_count": 28,
     "metadata": {},
     "output_type": "execute_result"
    }
   ],
   "source": [
    "len(rejected)"
   ]
  },
  {
   "cell_type": "code",
   "execution_count": 29,
   "metadata": {},
   "outputs": [],
   "source": [
    "rejected_cols = new_data.columns[[i for i, val in enumerate(rejected) if val]]"
   ]
  },
  {
   "cell_type": "code",
   "execution_count": 30,
   "metadata": {},
   "outputs": [
    {
     "data": {
      "text/plain": [
       "2"
      ]
     },
     "execution_count": 30,
     "metadata": {},
     "output_type": "execute_result"
    }
   ],
   "source": [
    "len(rejected_cols)"
   ]
  },
  {
   "cell_type": "code",
   "execution_count": 34,
   "metadata": {},
   "outputs": [
    {
     "name": "stdout",
     "output_type": "stream",
     "text": [
      "(7244, True)\n",
      "(9820, True)\n"
     ]
    }
   ],
   "source": [
    "for i in enumerate(rejected):\n",
    "    if i[1] != False:\n",
    "        print(i)"
   ]
  },
  {
   "cell_type": "code",
   "execution_count": null,
   "metadata": {},
   "outputs": [],
   "source": []
  },
  {
   "cell_type": "code",
   "execution_count": null,
   "metadata": {},
   "outputs": [],
   "source": []
  },
  {
   "cell_type": "code",
   "execution_count": null,
   "metadata": {},
   "outputs": [],
   "source": []
  }
 ],
 "metadata": {
  "kernelspec": {
   "display_name": "Python 3",
   "language": "python",
   "name": "python3"
  },
  "language_info": {
   "codemirror_mode": {
    "name": "ipython",
    "version": 3
   },
   "file_extension": ".py",
   "mimetype": "text/x-python",
   "name": "python",
   "nbconvert_exporter": "python",
   "pygments_lexer": "ipython3",
   "version": "3.6.5"
  }
 },
 "nbformat": 4,
 "nbformat_minor": 2
}
