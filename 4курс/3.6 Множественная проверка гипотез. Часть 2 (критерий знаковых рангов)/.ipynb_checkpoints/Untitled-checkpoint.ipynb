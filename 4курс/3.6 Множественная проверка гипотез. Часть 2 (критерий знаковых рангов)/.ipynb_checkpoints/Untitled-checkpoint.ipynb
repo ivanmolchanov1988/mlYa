{
 "cells": [
  {
   "cell_type": "code",
   "execution_count": 23,
   "metadata": {},
   "outputs": [],
   "source": [
    "import numpy as np\n",
    "import pandas as pd\n",
    "\n",
    "from scipy.stats import wilcoxon"
   ]
  },
  {
   "cell_type": "code",
   "execution_count": 39,
   "metadata": {},
   "outputs": [],
   "source": [
    "data = pd.read_csv('AUCs.txt', sep='\\t', header=0)\n",
    "data.columns = ['name','c45','c45m','c45cf','c45mcf']"
   ]
  },
  {
   "cell_type": "code",
   "execution_count": 35,
   "metadata": {},
   "outputs": [
    {
     "data": {
      "text/html": [
       "<div>\n",
       "<style scoped>\n",
       "    .dataframe tbody tr th:only-of-type {\n",
       "        vertical-align: middle;\n",
       "    }\n",
       "\n",
       "    .dataframe tbody tr th {\n",
       "        vertical-align: top;\n",
       "    }\n",
       "\n",
       "    .dataframe thead th {\n",
       "        text-align: right;\n",
       "    }\n",
       "</style>\n",
       "<table border=\"1\" class=\"dataframe\">\n",
       "  <thead>\n",
       "    <tr style=\"text-align: right;\">\n",
       "      <th></th>\n",
       "      <th>name</th>\n",
       "      <th>c45</th>\n",
       "      <th>c46m</th>\n",
       "      <th>c45cf</th>\n",
       "      <th>c45mcf</th>\n",
       "    </tr>\n",
       "  </thead>\n",
       "  <tbody>\n",
       "    <tr>\n",
       "      <th>0</th>\n",
       "      <td>adult (sample)</td>\n",
       "      <td>0.763</td>\n",
       "      <td>0.768</td>\n",
       "      <td>0.771</td>\n",
       "      <td>0.798</td>\n",
       "    </tr>\n",
       "    <tr>\n",
       "      <th>1</th>\n",
       "      <td>breast cancer</td>\n",
       "      <td>0.599</td>\n",
       "      <td>0.591</td>\n",
       "      <td>0.590</td>\n",
       "      <td>0.569</td>\n",
       "    </tr>\n",
       "    <tr>\n",
       "      <th>2</th>\n",
       "      <td>breast cancer wisconsin</td>\n",
       "      <td>0.954</td>\n",
       "      <td>0.971</td>\n",
       "      <td>0.968</td>\n",
       "      <td>0.967</td>\n",
       "    </tr>\n",
       "    <tr>\n",
       "      <th>3</th>\n",
       "      <td>cmc</td>\n",
       "      <td>0.628</td>\n",
       "      <td>0.661</td>\n",
       "      <td>0.654</td>\n",
       "      <td>0.657</td>\n",
       "    </tr>\n",
       "    <tr>\n",
       "      <th>4</th>\n",
       "      <td>ionosphere</td>\n",
       "      <td>0.882</td>\n",
       "      <td>0.888</td>\n",
       "      <td>0.886</td>\n",
       "      <td>0.898</td>\n",
       "    </tr>\n",
       "    <tr>\n",
       "      <th>5</th>\n",
       "      <td>iris</td>\n",
       "      <td>0.936</td>\n",
       "      <td>0.931</td>\n",
       "      <td>0.916</td>\n",
       "      <td>0.931</td>\n",
       "    </tr>\n",
       "    <tr>\n",
       "      <th>6</th>\n",
       "      <td>liver disorders</td>\n",
       "      <td>0.661</td>\n",
       "      <td>0.668</td>\n",
       "      <td>0.609</td>\n",
       "      <td>0.685</td>\n",
       "    </tr>\n",
       "    <tr>\n",
       "      <th>7</th>\n",
       "      <td>lung cancer</td>\n",
       "      <td>0.583</td>\n",
       "      <td>0.583</td>\n",
       "      <td>0.563</td>\n",
       "      <td>0.625</td>\n",
       "    </tr>\n",
       "    <tr>\n",
       "      <th>8</th>\n",
       "      <td>lymphography</td>\n",
       "      <td>0.775</td>\n",
       "      <td>0.838</td>\n",
       "      <td>0.866</td>\n",
       "      <td>0.875</td>\n",
       "    </tr>\n",
       "    <tr>\n",
       "      <th>9</th>\n",
       "      <td>mushroom</td>\n",
       "      <td>1.000</td>\n",
       "      <td>1.000</td>\n",
       "      <td>1.000</td>\n",
       "      <td>1.000</td>\n",
       "    </tr>\n",
       "    <tr>\n",
       "      <th>10</th>\n",
       "      <td>primary tumor</td>\n",
       "      <td>0.940</td>\n",
       "      <td>0.962</td>\n",
       "      <td>0.965</td>\n",
       "      <td>0.962</td>\n",
       "    </tr>\n",
       "    <tr>\n",
       "      <th>11</th>\n",
       "      <td>rheum</td>\n",
       "      <td>0.619</td>\n",
       "      <td>0.666</td>\n",
       "      <td>0.614</td>\n",
       "      <td>0.669</td>\n",
       "    </tr>\n",
       "    <tr>\n",
       "      <th>12</th>\n",
       "      <td>voting</td>\n",
       "      <td>0.972</td>\n",
       "      <td>0.981</td>\n",
       "      <td>0.975</td>\n",
       "      <td>0.975</td>\n",
       "    </tr>\n",
       "    <tr>\n",
       "      <th>13</th>\n",
       "      <td>wine</td>\n",
       "      <td>0.957</td>\n",
       "      <td>0.978</td>\n",
       "      <td>0.946</td>\n",
       "      <td>0.970</td>\n",
       "    </tr>\n",
       "  </tbody>\n",
       "</table>\n",
       "</div>"
      ],
      "text/plain": [
       "                       name    c45   c46m  c45cf  c45mcf\n",
       "0            adult (sample)  0.763  0.768  0.771   0.798\n",
       "1             breast cancer  0.599  0.591  0.590   0.569\n",
       "2   breast cancer wisconsin  0.954  0.971  0.968   0.967\n",
       "3                       cmc  0.628  0.661  0.654   0.657\n",
       "4                ionosphere  0.882  0.888  0.886   0.898\n",
       "5                      iris  0.936  0.931  0.916   0.931\n",
       "6           liver disorders  0.661  0.668  0.609   0.685\n",
       "7               lung cancer  0.583  0.583  0.563   0.625\n",
       "8              lymphography  0.775  0.838  0.866   0.875\n",
       "9                  mushroom  1.000  1.000  1.000   1.000\n",
       "10            primary tumor  0.940  0.962  0.965   0.962\n",
       "11                    rheum  0.619  0.666  0.614   0.669\n",
       "12                   voting  0.972  0.981  0.975   0.975\n",
       "13                     wine  0.957  0.978  0.946   0.970"
      ]
     },
     "execution_count": 35,
     "metadata": {},
     "output_type": "execute_result"
    }
   ],
   "source": [
    "data"
   ]
  },
  {
   "cell_type": "markdown",
   "metadata": {},
   "source": [
    "Классификатор C4.5 и три его модификации: с оптимизацией гиперпараметра m, гиперпараметра cf и с одновременной оптимизацией обоих гиперпараметров. Эти четыре классификатора сравнивались на 14 наборах данных. На каждом датасете был посчитан AUC каждого классификатора. Данные записаны в файле:\n",
    "\n",
    "AUCs.txt\n",
    "\n",
    "Используя критерий знаковых рангов, проведите попарное сравнение каждого классификатора с каждым. Выберите два классификатора, различие между которыми наиболее статистически значимо."
   ]
  },
  {
   "cell_type": "code",
   "execution_count": 22,
   "metadata": {},
   "outputs": [],
   "source": [
    "#scipy.stats.wilcoxon(x, y=None, zero_method='wilcox', correction=False)[source]¶"
   ]
  },
  {
   "cell_type": "code",
   "execution_count": 40,
   "metadata": {},
   "outputs": [
    {
     "data": {
      "text/plain": [
       "0     0.763\n",
       "1     0.599\n",
       "2     0.954\n",
       "3     0.628\n",
       "4     0.882\n",
       "5     0.936\n",
       "6     0.661\n",
       "7     0.583\n",
       "8     0.775\n",
       "9     1.000\n",
       "10    0.940\n",
       "11    0.619\n",
       "12    0.972\n",
       "13    0.957\n",
       "Name: c45, dtype: float64"
      ]
     },
     "execution_count": 40,
     "metadata": {},
     "output_type": "execute_result"
    }
   ],
   "source": [
    "data.c45"
   ]
  },
  {
   "cell_type": "code",
   "execution_count": 205,
   "metadata": {},
   "outputs": [
    {
     "data": {
      "text/plain": [
       "WilcoxonResult(statistic=6.5, pvalue=0.01075713311978963)"
      ]
     },
     "execution_count": 205,
     "metadata": {},
     "output_type": "execute_result"
    }
   ],
   "source": [
    "wilcoxon(data.c45,data.c45m)"
   ]
  },
  {
   "cell_type": "code",
   "execution_count": 196,
   "metadata": {},
   "outputs": [
    {
     "name": "stdout",
     "output_type": "stream",
     "text": [
      "c45  ++  c45m    stat= 6.5 --- p= 0.01075713311978963\n",
      "c45  ++  c45cf    stat= 43.0 --- p= 0.861262330095348\n",
      "c45  ++  c45mcf    stat= 11.0 --- p= 0.015906444101703374\n",
      "c45m  ++  c45    stat= 6.5 --- p= 0.01075713311978963\n",
      "c45m  ++  c45cf    stat= 17.0 --- p= 0.046332729793395394\n",
      "c45m  ++  c45mcf    stat= 22.0 --- p= 0.3278256758446406\n",
      "c45cf  ++  c45    stat= 43.0 --- p= 0.861262330095348\n",
      "c45cf  ++  c45m    stat= 17.0 --- p= 0.046332729793395394\n",
      "c45cf  ++  c45mcf    stat= 10.0 --- p= 0.022909099354356588\n",
      "c45mcf  ++  c45    stat= 11.0 --- p= 0.015906444101703374\n",
      "c45mcf  ++  c45m    stat= 22.0 --- p= 0.3278256758446406\n",
      "c45mcf  ++  c45cf    stat= 10.0 --- p= 0.022909099354356588\n"
     ]
    }
   ],
   "source": [
    "res = []\n",
    "odata = data.drop(['name'],axis=1)\n",
    "for i in odata.columns:\n",
    "    for ii in odata.columns.drop(i):\n",
    "        w,p = wilcoxon(odata[i],odata[ii])\n",
    "        print i,' ++ ',ii, '  ','stat=',w,'---','p=',p\n",
    "        res.append([[p][0],[w][0],[i][0],[ii][0]])"
   ]
  },
  {
   "cell_type": "code",
   "execution_count": 197,
   "metadata": {},
   "outputs": [
    {
     "data": {
      "text/plain": [
       "Index([u'c45', u'c45m', u'c45cf'], dtype='object')"
      ]
     },
     "execution_count": 197,
     "metadata": {},
     "output_type": "execute_result"
    }
   ],
   "source": [
    "odata.columns.drop(i)"
   ]
  },
  {
   "cell_type": "code",
   "execution_count": 198,
   "metadata": {},
   "outputs": [
    {
     "data": {
      "text/plain": [
       "[[0.01075713311978963, 6.5, 'c45', 'c45m'],\n",
       " [0.01075713311978963, 6.5, 'c45m', 'c45'],\n",
       " [0.015906444101703374, 11.0, 'c45', 'c45mcf'],\n",
       " [0.015906444101703374, 11.0, 'c45mcf', 'c45'],\n",
       " [0.022909099354356588, 10.0, 'c45cf', 'c45mcf'],\n",
       " [0.022909099354356588, 10.0, 'c45mcf', 'c45cf'],\n",
       " [0.046332729793395394, 17.0, 'c45cf', 'c45m'],\n",
       " [0.046332729793395394, 17.0, 'c45m', 'c45cf'],\n",
       " [0.3278256758446406, 22.0, 'c45m', 'c45mcf'],\n",
       " [0.3278256758446406, 22.0, 'c45mcf', 'c45m'],\n",
       " [0.861262330095348, 43.0, 'c45', 'c45cf'],\n",
       " [0.861262330095348, 43.0, 'c45cf', 'c45']]"
      ]
     },
     "execution_count": 198,
     "metadata": {},
     "output_type": "execute_result"
    }
   ],
   "source": [
    "sorted(res)"
   ]
  },
  {
   "cell_type": "code",
   "execution_count": 199,
   "metadata": {},
   "outputs": [
    {
     "name": "stdout",
     "output_type": "stream",
     "text": [
      "MAX  [0.861262330095348, 43.0, 'c45cf', 'c45'] \n",
      " MIN  [0.01075713311978963, 6.5, 'c45', 'c45m']"
     ]
    },
    {
     "data": {
      "text/plain": [
       "[[0.01075713311978963, 6.5, 'c45', 'c45m'],\n",
       " [0.01075713311978963, 6.5, 'c45m', 'c45'],\n",
       " [0.015906444101703374, 11.0, 'c45', 'c45mcf'],\n",
       " [0.015906444101703374, 11.0, 'c45mcf', 'c45'],\n",
       " [0.022909099354356588, 10.0, 'c45cf', 'c45mcf'],\n",
       " [0.022909099354356588, 10.0, 'c45mcf', 'c45cf'],\n",
       " [0.046332729793395394, 17.0, 'c45cf', 'c45m'],\n",
       " [0.046332729793395394, 17.0, 'c45m', 'c45cf'],\n",
       " [0.3278256758446406, 22.0, 'c45m', 'c45mcf'],\n",
       " [0.3278256758446406, 22.0, 'c45mcf', 'c45m'],\n",
       " [0.861262330095348, 43.0, 'c45', 'c45cf'],\n",
       " [0.861262330095348, 43.0, 'c45cf', 'c45']]"
      ]
     },
     "execution_count": 199,
     "metadata": {},
     "output_type": "execute_result"
    },
    {
     "name": "stdout",
     "output_type": "stream",
     "text": [
      "\n"
     ]
    }
   ],
   "source": [
    "print 'MAX ', max(res),'\\n MIN ' ,min(res),\n",
    "sorted(res)"
   ]
  },
  {
   "cell_type": "code",
   "execution_count": 200,
   "metadata": {},
   "outputs": [
    {
     "data": {
      "text/html": [
       "<div>\n",
       "<style scoped>\n",
       "    .dataframe tbody tr th:only-of-type {\n",
       "        vertical-align: middle;\n",
       "    }\n",
       "\n",
       "    .dataframe tbody tr th {\n",
       "        vertical-align: top;\n",
       "    }\n",
       "\n",
       "    .dataframe thead th {\n",
       "        text-align: right;\n",
       "    }\n",
       "</style>\n",
       "<table border=\"1\" class=\"dataframe\">\n",
       "  <thead>\n",
       "    <tr style=\"text-align: right;\">\n",
       "      <th></th>\n",
       "      <th>p</th>\n",
       "      <th>s</th>\n",
       "      <th>one</th>\n",
       "      <th>two</th>\n",
       "    </tr>\n",
       "  </thead>\n",
       "  <tbody>\n",
       "    <tr>\n",
       "      <th>0</th>\n",
       "      <td>0.010757</td>\n",
       "      <td>6.5</td>\n",
       "      <td>c45</td>\n",
       "      <td>c45m</td>\n",
       "    </tr>\n",
       "    <tr>\n",
       "      <th>1</th>\n",
       "      <td>0.861262</td>\n",
       "      <td>43.0</td>\n",
       "      <td>c45</td>\n",
       "      <td>c45cf</td>\n",
       "    </tr>\n",
       "    <tr>\n",
       "      <th>2</th>\n",
       "      <td>0.015906</td>\n",
       "      <td>11.0</td>\n",
       "      <td>c45</td>\n",
       "      <td>c45mcf</td>\n",
       "    </tr>\n",
       "    <tr>\n",
       "      <th>3</th>\n",
       "      <td>0.010757</td>\n",
       "      <td>6.5</td>\n",
       "      <td>c45m</td>\n",
       "      <td>c45</td>\n",
       "    </tr>\n",
       "    <tr>\n",
       "      <th>4</th>\n",
       "      <td>0.046333</td>\n",
       "      <td>17.0</td>\n",
       "      <td>c45m</td>\n",
       "      <td>c45cf</td>\n",
       "    </tr>\n",
       "    <tr>\n",
       "      <th>5</th>\n",
       "      <td>0.327826</td>\n",
       "      <td>22.0</td>\n",
       "      <td>c45m</td>\n",
       "      <td>c45mcf</td>\n",
       "    </tr>\n",
       "    <tr>\n",
       "      <th>6</th>\n",
       "      <td>0.861262</td>\n",
       "      <td>43.0</td>\n",
       "      <td>c45cf</td>\n",
       "      <td>c45</td>\n",
       "    </tr>\n",
       "    <tr>\n",
       "      <th>7</th>\n",
       "      <td>0.046333</td>\n",
       "      <td>17.0</td>\n",
       "      <td>c45cf</td>\n",
       "      <td>c45m</td>\n",
       "    </tr>\n",
       "    <tr>\n",
       "      <th>8</th>\n",
       "      <td>0.022909</td>\n",
       "      <td>10.0</td>\n",
       "      <td>c45cf</td>\n",
       "      <td>c45mcf</td>\n",
       "    </tr>\n",
       "    <tr>\n",
       "      <th>9</th>\n",
       "      <td>0.015906</td>\n",
       "      <td>11.0</td>\n",
       "      <td>c45mcf</td>\n",
       "      <td>c45</td>\n",
       "    </tr>\n",
       "    <tr>\n",
       "      <th>10</th>\n",
       "      <td>0.327826</td>\n",
       "      <td>22.0</td>\n",
       "      <td>c45mcf</td>\n",
       "      <td>c45m</td>\n",
       "    </tr>\n",
       "    <tr>\n",
       "      <th>11</th>\n",
       "      <td>0.022909</td>\n",
       "      <td>10.0</td>\n",
       "      <td>c45mcf</td>\n",
       "      <td>c45cf</td>\n",
       "    </tr>\n",
       "  </tbody>\n",
       "</table>\n",
       "</div>"
      ],
      "text/plain": [
       "           p     s     one     two\n",
       "0   0.010757   6.5     c45    c45m\n",
       "1   0.861262  43.0     c45   c45cf\n",
       "2   0.015906  11.0     c45  c45mcf\n",
       "3   0.010757   6.5    c45m     c45\n",
       "4   0.046333  17.0    c45m   c45cf\n",
       "5   0.327826  22.0    c45m  c45mcf\n",
       "6   0.861262  43.0   c45cf     c45\n",
       "7   0.046333  17.0   c45cf    c45m\n",
       "8   0.022909  10.0   c45cf  c45mcf\n",
       "9   0.015906  11.0  c45mcf     c45\n",
       "10  0.327826  22.0  c45mcf    c45m\n",
       "11  0.022909  10.0  c45mcf   c45cf"
      ]
     },
     "execution_count": 200,
     "metadata": {},
     "output_type": "execute_result"
    }
   ],
   "source": [
    "pdres = pd.DataFrame.from_records(res)\n",
    "pdres.columns = ['p','s','one','two']\n",
    "pdres"
   ]
  },
  {
   "cell_type": "markdown",
   "metadata": {},
   "source": [
    "Сравнивая 4 классификатора между собой, мы проверили 6 гипотез. Давайте сделаем поправку на множественную проверку. Начнём с метода Холма. Сколько гипотез можно отвергнуть на уровне значимости 0.05 после поправки этим методом?"
   ]
  },
  {
   "cell_type": "code",
   "execution_count": 201,
   "metadata": {},
   "outputs": [],
   "source": [
    "from statsmodels.stats.multitest import multipletests"
   ]
  },
  {
   "cell_type": "code",
   "execution_count": 160,
   "metadata": {},
   "outputs": [],
   "source": [
    "#multipletests(pvals, alpha=0.05, method='hs', is_sorted=False, returnsorted=False)[source]¶"
   ]
  },
  {
   "cell_type": "markdown",
   "metadata": {},
   "source": [
    "methodstring\n",
    "Method used for testing and adjustment of pvalues. Can be either the full name or initial letters. Available methods are:\n",
    "\n",
    "bonferroni : one-step correction\n",
    "\n",
    "sidak : one-step correction\n",
    "\n",
    "holm-sidak : step down method using Sidak adjustments\n",
    "\n",
    "holm : step-down method using Bonferroni adjustments\n",
    "\n",
    "simes-hochberg : step-up method (independent)\n",
    "\n",
    "hommel : closed method based on Simes tests (non-negative)\n",
    "\n",
    "fdr_bh : Benjamini/Hochberg (non-negative)\n",
    "\n",
    "fdr_by : Benjamini/Yekutieli (negative)\n",
    "\n",
    "fdr_tsbh : two stage fdr correction (non-negative)\n",
    "\n",
    "fdr_tsbky : two stage fdr correction (non-negative)"
   ]
  },
  {
   "cell_type": "code",
   "execution_count": 208,
   "metadata": {},
   "outputs": [
    {
     "data": {
      "text/plain": [
       "(array([ True, False,  True, False, False,  True]),\n",
       " array([0.0458182 , 0.86126233, 0.0458182 , 0.06949909, 0.39339081,\n",
       "        0.0458182 ]),\n",
       " 0.008512444610847103,\n",
       " 0.008333333333333333)"
      ]
     },
     "execution_count": 208,
     "metadata": {},
     "output_type": "execute_result"
    }
   ],
   "source": [
    "multipletests(pd.unique(pdres.p), alpha=0.05,method='fdr_bh')"
   ]
  },
  {
   "cell_type": "code",
   "execution_count": 207,
   "metadata": {},
   "outputs": [
    {
     "data": {
      "text/plain": [
       "array([0.01075713, 0.86126233, 0.01590644, 0.04633273, 0.32782568,\n",
       "       0.0229091 ])"
      ]
     },
     "execution_count": 207,
     "metadata": {},
     "output_type": "execute_result"
    }
   ],
   "source": [
    "pd.unique(pdres.p)"
   ]
  },
  {
   "cell_type": "markdown",
   "metadata": {},
   "source": [
    "Насколько корректно, на ваш взгляд, применение метода Бенджамини-Хохберга в этой задаче?"
   ]
  },
  {
   "cell_type": "code",
   "execution_count": 210,
   "metadata": {},
   "outputs": [],
   "source": [
    "#Некорректно: статистики, соответствующие разным гипотезам, зависимы, \n",
    "#так что предположения метода Бенджамини-Хохберга не выполняются"
   ]
  },
  {
   "cell_type": "code",
   "execution_count": null,
   "metadata": {},
   "outputs": [],
   "source": []
  }
 ],
 "metadata": {
  "kernelspec": {
   "display_name": "Python 2",
   "language": "python",
   "name": "python2"
  },
  "language_info": {
   "codemirror_mode": {
    "name": "ipython",
    "version": 2
   },
   "file_extension": ".py",
   "mimetype": "text/x-python",
   "name": "python",
   "nbconvert_exporter": "python",
   "pygments_lexer": "ipython2",
   "version": "2.7.15"
  }
 },
 "nbformat": 4,
 "nbformat_minor": 2
}
