{
 "cells": [
  {
   "cell_type": "code",
   "execution_count": 1,
   "metadata": {},
   "outputs": [],
   "source": [
    "import numpy as np\n",
    "import pandas as pd\n",
    "import itertools\n",
    "\n",
    "from scipy import stats"
   ]
  },
  {
   "cell_type": "code",
   "execution_count": 12,
   "metadata": {},
   "outputs": [],
   "source": [
    "a = np.array([22,22,15,13,19,19,18,20,21,13,13,15])\n",
    "#a = np.array([2,1,2,1,2,1,2,1,2,1,2,1])"
   ]
  },
  {
   "cell_type": "code",
   "execution_count": 13,
   "metadata": {},
   "outputs": [],
   "source": [
    "b = np.array([17,18,18,15,12,4,14,15,10])\n",
    "#b = np.array([2,1,2,1,2,2,1,2,2])"
   ]
  },
  {
   "cell_type": "code",
   "execution_count": 14,
   "metadata": {},
   "outputs": [
    {
     "data": {
      "text/plain": [
       "MannwhitneyuResult(statistic=27.0, pvalue=0.02900499272087373)"
      ]
     },
     "execution_count": 14,
     "metadata": {},
     "output_type": "execute_result"
    }
   ],
   "source": [
    "stats.mannwhitneyu(a, b)"
   ]
  },
  {
   "cell_type": "code",
   "execution_count": null,
   "metadata": {},
   "outputs": [],
   "source": []
  },
  {
   "cell_type": "code",
   "execution_count": 47,
   "metadata": {},
   "outputs": [
    {
     "data": {
      "text/plain": [
       "20"
      ]
     },
     "execution_count": 47,
     "metadata": {},
     "output_type": "execute_result"
    }
   ],
   "source": [
    "#открытие карточки без нагрузки\n",
    "non = np.array([3315,3786,3600,3080,2610,\n",
    "                #3626,3467,3571,3459,3551,\n",
    "                #3624,3868,3399,3718,3054,\n",
    "                #3013,3719,3086,3063,10132,\n",
    "               #3569,3955,3603,3661,3738,\n",
    "               #3714,3625,3800,3654,5858,\n",
    "               #3979,3744,3668,3891,3260,\n",
    "               3686,3899,3207,3218,4362,\n",
    "               3230,3262,3491,3822,3823,\n",
    "               3456,3748,3804,3961,3306])\n",
    "len(non)"
   ]
  },
  {
   "cell_type": "code",
   "execution_count": 46,
   "metadata": {},
   "outputs": [
    {
     "data": {
      "text/plain": [
       "20"
      ]
     },
     "execution_count": 46,
     "metadata": {},
     "output_type": "execute_result"
    }
   ],
   "source": [
    "#открытие карточки с нагрузкой\n",
    "pro = np.array([3306,3285,3831,4309,3327,\n",
    "               #3871,3893,3860,3611,3327,\n",
    "               #3989,4010,3673,3865,4200,\n",
    "               #3804,2936,3962,3056,3551,\n",
    "               #3561,3549,3579,3928,3774,\n",
    "               #3674,3641,4229,3637,3671,\n",
    "               #3161,4073,3661,3448,8091,\n",
    "               #3404,3412,3394,3507,2892,\n",
    "               2971,3641,3394,3507,2892,\n",
    "               2971,3641,3394,3659,3475,\n",
    "               3486,3478,3673,3770,3104])\n",
    "               #3605,3499,3696,3673,3965])\n",
    "len(pro)"
   ]
  },
  {
   "cell_type": "code",
   "execution_count": 45,
   "metadata": {},
   "outputs": [
    {
     "data": {
      "text/plain": [
       "0.47519221576880316"
      ]
     },
     "execution_count": 45,
     "metadata": {},
     "output_type": "execute_result"
    }
   ],
   "source": [
    "_,pval = stats.mannwhitneyu(non, pro)\n",
    "pval"
   ]
  },
  {
   "cell_type": "code",
   "execution_count": null,
   "metadata": {},
   "outputs": [],
   "source": [
    "#не можем сказать, что выборки в среднем разные"
   ]
  },
  {
   "cell_type": "code",
   "execution_count": null,
   "metadata": {},
   "outputs": [],
   "source": []
  },
  {
   "cell_type": "code",
   "execution_count": null,
   "metadata": {},
   "outputs": [],
   "source": []
  }
 ],
 "metadata": {
  "kernelspec": {
   "display_name": "Python 3",
   "language": "python",
   "name": "python3"
  },
  "language_info": {
   "codemirror_mode": {
    "name": "ipython",
    "version": 3
   },
   "file_extension": ".py",
   "mimetype": "text/x-python",
   "name": "python",
   "nbconvert_exporter": "python",
   "pygments_lexer": "ipython3",
   "version": "3.6.5"
  }
 },
 "nbformat": 4,
 "nbformat_minor": 2
}
