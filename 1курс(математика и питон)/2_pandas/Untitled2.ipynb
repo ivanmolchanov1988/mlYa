{
 "cells": [
  {
   "cell_type": "code",
   "execution_count": 2,
   "metadata": {},
   "outputs": [],
   "source": [
    "import pandas as pd"
   ]
  },
  {
   "cell_type": "code",
   "execution_count": 4,
   "metadata": {},
   "outputs": [
    {
     "name": "stdout",
     "output_type": "stream",
     "text": [
      "Name    Birth   City    Position\n",
      "Р�РІР°РЅРѕРІ Рђ.Рђ.    22.03.1980      РњРѕСЃРєРІР°    \n",
      "РЎРѕСЂРѕРєРёРЅ Р�.Р’.  07.08.1965      Р’РѕР»РіРѕРіСЂР°Рґ      РёРЅР¶РµРЅРµСЂ\n",
      "Р‘РµР»РѕРІ Рњ.Рњ.        13.02.1980      Р РѕСЃС‚РѕРІ    РјРµРЅРµРґР¶РµСЂ\n",
      "РњРµР»СЊРЅРёРєРѕРІР° Р”.РЎ.    15.04.1985      Р РѕСЃС‚РѕРІ    \n",
      "Р С‹Р±РёРЅР° Р•.Рџ.    19.11.1985      РњРѕСЃРєРІР°    РёРЅР¶РµРЅРµСЂ\n",
      "РљРѕСЃС‚СЂРѕРІ РЎ.Рћ.    31.05.1985      РњРѕСЃРєРІР°    СЃС‚Р°Р¶РµСЂ\n"
     ]
    }
   ],
   "source": [
    "!more dataset.tsv"
   ]
  },
  {
   "cell_type": "code",
   "execution_count": 16,
   "metadata": {},
   "outputs": [],
   "source": [
    "import codecs as cds"
   ]
  },
  {
   "cell_type": "code",
   "execution_count": 21,
   "metadata": {},
   "outputs": [
    {
     "data": {
      "text/plain": [
       "'Name\\tBirth\\tCity\\tPosition\\rИванов А.А.\\t22.03.1980\\tМосква\\t\\rСорокин И.В.\\t07.08.1965\\tВолгоград\\tинженер\\rБелов М.М.\\t13.02.1980\\tРостов\\tменеджер\\rМельникова Д.С.\\t15.04.1985\\tРостов\\t\\rРыбина Е.П.\\t19.11.1985\\tМосква\\tинженер\\rКостров С.О.\\t31.05.1985\\tМосква\\tстажер'"
      ]
     },
     "execution_count": 21,
     "metadata": {},
     "output_type": "execute_result"
    }
   ],
   "source": [
    "f = cds.open('dataset.tsv', 'r', 'utf-8')\n",
    "u = f.read()\n",
    "u"
   ]
  },
  {
   "cell_type": "code",
   "execution_count": 42,
   "metadata": {},
   "outputs": [
    {
     "data": {
      "text/html": [
       "<div>\n",
       "<style scoped>\n",
       "    .dataframe tbody tr th:only-of-type {\n",
       "        vertical-align: middle;\n",
       "    }\n",
       "\n",
       "    .dataframe tbody tr th {\n",
       "        vertical-align: top;\n",
       "    }\n",
       "\n",
       "    .dataframe thead th {\n",
       "        text-align: right;\n",
       "    }\n",
       "</style>\n",
       "<table border=\"1\" class=\"dataframe\">\n",
       "  <thead>\n",
       "    <tr style=\"text-align: right;\">\n",
       "      <th></th>\n",
       "      <th>numbers</th>\n",
       "      <th>chars</th>\n",
       "    </tr>\n",
       "  </thead>\n",
       "  <tbody>\n",
       "    <tr>\n",
       "      <th>0</th>\n",
       "      <td>0</td>\n",
       "      <td>a</td>\n",
       "    </tr>\n",
       "    <tr>\n",
       "      <th>1</th>\n",
       "      <td>1</td>\n",
       "      <td>a</td>\n",
       "    </tr>\n",
       "    <tr>\n",
       "      <th>2</th>\n",
       "      <td>2</td>\n",
       "      <td>a</td>\n",
       "    </tr>\n",
       "    <tr>\n",
       "      <th>3</th>\n",
       "      <td>3</td>\n",
       "      <td>a</td>\n",
       "    </tr>\n",
       "    <tr>\n",
       "      <th>4</th>\n",
       "      <td>4</td>\n",
       "      <td>a</td>\n",
       "    </tr>\n",
       "    <tr>\n",
       "      <th>5</th>\n",
       "      <td>5</td>\n",
       "      <td>a</td>\n",
       "    </tr>\n",
       "    <tr>\n",
       "      <th>6</th>\n",
       "      <td>6</td>\n",
       "      <td>a</td>\n",
       "    </tr>\n",
       "    <tr>\n",
       "      <th>7</th>\n",
       "      <td>7</td>\n",
       "      <td>a</td>\n",
       "    </tr>\n",
       "    <tr>\n",
       "      <th>8</th>\n",
       "      <td>8</td>\n",
       "      <td>a</td>\n",
       "    </tr>\n",
       "    <tr>\n",
       "      <th>9</th>\n",
       "      <td>9</td>\n",
       "      <td>a</td>\n",
       "    </tr>\n",
       "    <tr>\n",
       "      <th>10</th>\n",
       "      <td>10</td>\n",
       "      <td>a</td>\n",
       "    </tr>\n",
       "  </tbody>\n",
       "</table>\n",
       "</div>"
      ],
      "text/plain": [
       "    numbers chars\n",
       "0         0     a\n",
       "1         1     a\n",
       "2         2     a\n",
       "3         3     a\n",
       "4         4     a\n",
       "5         5     a\n",
       "6         6     a\n",
       "7         7     a\n",
       "8         8     a\n",
       "9         9     a\n",
       "10       10     a"
      ]
     },
     "execution_count": 42,
     "metadata": {},
     "output_type": "execute_result"
    }
   ],
   "source": [
    "frame = pd.DataFrame({'numbers':range(11), 'chars':['a']*11})\n",
    "frame"
   ]
  },
  {
   "cell_type": "code",
   "execution_count": 50,
   "metadata": {},
   "outputs": [
    {
     "name": "stdout",
     "output_type": "stream",
     "text": [
      "<class 'pandas.core.frame.DataFrame'>\n",
      "RangeIndex: 11 entries, 0 to 10\n",
      "Data columns (total 2 columns):\n",
      "numbers    11 non-null int64\n",
      "chars      11 non-null object\n",
      "dtypes: int64(1), object(1)\n",
      "memory usage: 256.0+ bytes\n"
     ]
    }
   ],
   "source": [
    "pd.__version__\n",
    "frame.info()"
   ]
  }
 ],
 "metadata": {
  "kernelspec": {
   "display_name": "Python 2",
   "language": "python",
   "name": "python2"
  },
  "language_info": {
   "codemirror_mode": {
    "name": "ipython",
    "version": 2
   },
   "file_extension": ".py",
   "mimetype": "text/x-python",
   "name": "python",
   "nbconvert_exporter": "python",
   "pygments_lexer": "ipython2",
   "version": "2.7.15"
  }
 },
 "nbformat": 4,
 "nbformat_minor": 2
}
