{
 "cells": [
  {
   "cell_type": "code",
   "execution_count": 22,
   "metadata": {},
   "outputs": [],
   "source": [
    "import numpy as np"
   ]
  },
  {
   "cell_type": "code",
   "execution_count": 252,
   "metadata": {},
   "outputs": [
    {
     "name": "stdout",
     "output_type": "stream",
     "text": [
      "22 \n",
      " [ 1  2  3  4  5  6  7  8  9 10 11 12 13 14 15 16 17 18 19 20 21 22]\n"
     ]
    }
   ],
   "source": [
    "f = open('cat.txt')\n",
    "oStrs = sum(1 for l in f)\n",
    "oArr = np.arange(1,oStrs+1,1)\n",
    "print(oStrs,'\\n', oArr)\n",
    "f.close()"
   ]
  },
  {
   "cell_type": "code",
   "execution_count": 253,
   "metadata": {},
   "outputs": [
    {
     "name": "stdout",
     "output_type": "stream",
     "text": [
      "in comparison to dogs, cats have not undergone major changes during the domestication process cats. \n",
      "\n",
      "as cat simply catenates streams of bytes, it can be also used to concatenate binary files, where it will just concatenate sequence of bytes. \n",
      "\n",
      "a common interactive use of cat for a single file is to output the content of a file to standard output. \n",
      "\n",
      "cats can hear sounds too faint or too high in frequency for human ears, such as those made by mice and other small animals. \n",
      "\n",
      "in one, people deliberately tamed cats in a process of artificial selection, as they were useful predators of vermin. \n",
      "\n",
      "the domesticated cat and its closest wild ancestor are both diploid organisms that possess 38 chromosomes and roughly 20,000 genes. \n",
      "\n",
      "domestic cats are similar in size to the other members of the genus felis, typically weighing between 4 and 5 kg (8.8 and 11.0 lb). \n",
      "\n",
      "however, if the output is piped or redirected, cat is unnecessary. \n",
      "\n",
      "cat with one named file is safer where human error is a concern - one wrong use of the default redirection symbol \">\" instead of \"<\" (often adjacent on keyboards) may permanently delete the file you were just needing to read. \n",
      "\n",
      "in terms of legibility, a sequence of commands starting with cat and connected by pipes has a clear left-to-right flow of information. \n",
      "\n",
      "cat command is one of the basic commands that you learned when you started in the unix / linux world. \n",
      "\n",
      "using cat command, the lines received from stdin can be redirected to a new file using redirection symbols. \n",
      "\n",
      "when you type simply cat command without any arguments, it just receives the stdin content and displays it in the stdout. \n",
      "\n",
      "leopard was released on october 26, 2007 as the successor of tiger (version 10.4), and is available in two editions. \n",
      "\n",
      "according to apple, leopard contains over 300 changes and enhancements over its predecessor, mac os x tiger. \n",
      "\n",
      "as of mid 2010, some apple computers have firmware factory installed which will no longer allow installation of mac os x leopard. \n",
      "\n",
      "since apple moved to using intel processors in their computers, the osx86 community has developed and now also allows mac os x tiger and later releases to be installed on non-apple x86-based computers. \n",
      "\n",
      "os x mountain lion was released on july 25, 2012 for purchase and download through apple's mac app store, as part of a switch to releasing os x versions online and every year. \n",
      "\n",
      "apple has released a small patch for the three most recent versions of safari running on os x yosemite, mavericks, and mountain lion. \n",
      "\n",
      "the mountain lion release marks the second time apple has offered an incremental upgrade, rather than releasing a new cat entirely. \n",
      "\n",
      "mac os x mountain lion installs in place, so you won't need to create a separate disk or run the installation off an external drive. \n",
      "\n",
      "the fifth major update to mac os x, leopard, contains such a mountain of features - more than 300 by apple's count. \n",
      "\n"
     ]
    }
   ],
   "source": [
    "with open(\"cat.txt\") as file:\n",
    "    oArr = [row.strip() for row in file]\n",
    "    oArr = [s.lower() for s in oArr]\n",
    "for i in oArr:\n",
    "    print(i, '\\n')"
   ]
  },
  {
   "cell_type": "code",
   "execution_count": 254,
   "metadata": {},
   "outputs": [
    {
     "name": "stdout",
     "output_type": "stream",
     "text": [
      "['in', 'comparison', 'to', 'dogs', 'cats', 'have', 'not', 'undergone', 'major', 'changes', 'during', 'the', 'domestication', 'process', 'cats']\n"
     ]
    }
   ],
   "source": [
    "#re.split('[^a-z]', t)\n",
    "import re\n",
    "oSplit = re.split('[^a-z]', oArr[0])\n",
    "#print(oSplit)\n",
    "print([oNotNull for oNotNull in oSplit if oNotNull !=''])"
   ]
  },
  {
   "cell_type": "code",
   "execution_count": 255,
   "metadata": {},
   "outputs": [
    {
     "name": "stdout",
     "output_type": "stream",
     "text": [
      "['in', 'comparison', 'to', 'dogs', 'cats', 'have', 'not', 'undergone', 'major', 'changes', 'during', 'the', 'domestication', 'process', 'cats']\n",
      "['as', 'cat', 'simply', 'catenates', 'streams', 'of', 'bytes', 'it', 'can', 'be', 'also', 'used', 'to', 'concatenate', 'binary', 'files', 'where', 'it', 'will', 'just', 'concatenate', 'sequence', 'of', 'bytes']\n",
      "['a', 'common', 'interactive', 'use', 'of', 'cat', 'for', 'a', 'single', 'file', 'is', 'to', 'output', 'the', 'content', 'of', 'a', 'file', 'to', 'standard', 'output']\n",
      "['cats', 'can', 'hear', 'sounds', 'too', 'faint', 'or', 'too', 'high', 'in', 'frequency', 'for', 'human', 'ears', 'such', 'as', 'those', 'made', 'by', 'mice', 'and', 'other', 'small', 'animals']\n",
      "['in', 'one', 'people', 'deliberately', 'tamed', 'cats', 'in', 'a', 'process', 'of', 'artificial', 'selection', 'as', 'they', 'were', 'useful', 'predators', 'of', 'vermin']\n",
      "['the', 'domesticated', 'cat', 'and', 'its', 'closest', 'wild', 'ancestor', 'are', 'both', 'diploid', 'organisms', 'that', 'possess', 'chromosomes', 'and', 'roughly', 'genes']\n",
      "['domestic', 'cats', 'are', 'similar', 'in', 'size', 'to', 'the', 'other', 'members', 'of', 'the', 'genus', 'felis', 'typically', 'weighing', 'between', 'and', 'kg', 'and', 'lb']\n",
      "['however', 'if', 'the', 'output', 'is', 'piped', 'or', 'redirected', 'cat', 'is', 'unnecessary']\n",
      "['cat', 'with', 'one', 'named', 'file', 'is', 'safer', 'where', 'human', 'error', 'is', 'a', 'concern', 'one', 'wrong', 'use', 'of', 'the', 'default', 'redirection', 'symbol', 'instead', 'of', 'often', 'adjacent', 'on', 'keyboards', 'may', 'permanently', 'delete', 'the', 'file', 'you', 'were', 'just', 'needing', 'to', 'read']\n",
      "['in', 'terms', 'of', 'legibility', 'a', 'sequence', 'of', 'commands', 'starting', 'with', 'cat', 'and', 'connected', 'by', 'pipes', 'has', 'a', 'clear', 'left', 'to', 'right', 'flow', 'of', 'information']\n",
      "['cat', 'command', 'is', 'one', 'of', 'the', 'basic', 'commands', 'that', 'you', 'learned', 'when', 'you', 'started', 'in', 'the', 'unix', 'linux', 'world']\n",
      "['using', 'cat', 'command', 'the', 'lines', 'received', 'from', 'stdin', 'can', 'be', 'redirected', 'to', 'a', 'new', 'file', 'using', 'redirection', 'symbols']\n",
      "['when', 'you', 'type', 'simply', 'cat', 'command', 'without', 'any', 'arguments', 'it', 'just', 'receives', 'the', 'stdin', 'content', 'and', 'displays', 'it', 'in', 'the', 'stdout']\n",
      "['leopard', 'was', 'released', 'on', 'october', 'as', 'the', 'successor', 'of', 'tiger', 'version', 'and', 'is', 'available', 'in', 'two', 'editions']\n",
      "['according', 'to', 'apple', 'leopard', 'contains', 'over', 'changes', 'and', 'enhancements', 'over', 'its', 'predecessor', 'mac', 'os', 'x', 'tiger']\n",
      "['as', 'of', 'mid', 'some', 'apple', 'computers', 'have', 'firmware', 'factory', 'installed', 'which', 'will', 'no', 'longer', 'allow', 'installation', 'of', 'mac', 'os', 'x', 'leopard']\n",
      "['since', 'apple', 'moved', 'to', 'using', 'intel', 'processors', 'in', 'their', 'computers', 'the', 'osx', 'community', 'has', 'developed', 'and', 'now', 'also', 'allows', 'mac', 'os', 'x', 'tiger', 'and', 'later', 'releases', 'to', 'be', 'installed', 'on', 'non', 'apple', 'x', 'based', 'computers']\n",
      "['os', 'x', 'mountain', 'lion', 'was', 'released', 'on', 'july', 'for', 'purchase', 'and', 'download', 'through', 'apple', 's', 'mac', 'app', 'store', 'as', 'part', 'of', 'a', 'switch', 'to', 'releasing', 'os', 'x', 'versions', 'online', 'and', 'every', 'year']\n",
      "['apple', 'has', 'released', 'a', 'small', 'patch', 'for', 'the', 'three', 'most', 'recent', 'versions', 'of', 'safari', 'running', 'on', 'os', 'x', 'yosemite', 'mavericks', 'and', 'mountain', 'lion']\n",
      "['the', 'mountain', 'lion', 'release', 'marks', 'the', 'second', 'time', 'apple', 'has', 'offered', 'an', 'incremental', 'upgrade', 'rather', 'than', 'releasing', 'a', 'new', 'cat', 'entirely']\n",
      "['mac', 'os', 'x', 'mountain', 'lion', 'installs', 'in', 'place', 'so', 'you', 'won', 't', 'need', 'to', 'create', 'a', 'separate', 'disk', 'or', 'run', 'the', 'installation', 'off', 'an', 'external', 'drive']\n",
      "['the', 'fifth', 'major', 'update', 'to', 'mac', 'os', 'x', 'leopard', 'contains', 'such', 'a', 'mountain', 'of', 'features', 'more', 'than', 'by', 'apple', 's', 'count']\n"
     ]
    }
   ],
   "source": [
    "oArr = [[oNotNull for oNotNull in re.split('[^a-z]',oString) if oNotNull !=''] for oString in oArr]\n",
    "for o in oArr:\n",
    "    print(o)"
   ]
  },
  {
   "cell_type": "code",
   "execution_count": 278,
   "metadata": {},
   "outputs": [],
   "source": [
    "oWords = []"
   ]
  },
  {
   "cell_type": "code",
   "execution_count": 279,
   "metadata": {},
   "outputs": [],
   "source": [
    "def word(string):\n",
    "    for w in string:\n",
    "       oWords.append(w)"
   ]
  },
  {
   "cell_type": "code",
   "execution_count": 288,
   "metadata": {},
   "outputs": [
    {
     "name": "stdout",
     "output_type": "stream",
     "text": [
      "{'they', 'place', 'keyboards', 'enhancements', 'started', 'os', 'computers', 'or', 'to', 'october', 'a', 'sounds', 'the', 'leopard', 'entirely', 'right', 'x', 'run', 'chromosomes', 'not', 'lb', 'catenates', 'domestication', 'default', 'delete', 'made', 'clear', 'releasing', 'roughly', 'those', 'closest', 'can', 'you', 'new', 'diploid', 'from', 'standard', 'lines', 'may', 'kg', 'moved', 'stdin', 'domestic', 'people', 'separate', 'content', 'mac', 'were', 'factory', 'lion', 'every', 'incremental', 'predators', 'when', 'named', 'interactive', 'longer', 'upgrade', 'so', 'fifth', 't', 'one', 'year', 'artificial', 'redirected', 'genus', 'use', 'that', 'legibility', 'tiger', 'instead', 'high', 'selection', 'genes', 'also', 'used', 'bytes', 'felis', 'any', 'mice', 'learned', 'type', 'read', 'mid', 'comparison', 'later', 'during', 'concern', 'redirection', 'frequency', 'editions', 'it', 'similar', 'starting', 'mountain', 'installation', 'piped', 'single', 'allow', 'according', 'flow', 'ancestor', 'july', 'running', 'create', 'process', 'update', 'using', 'is', 'patch', 'wrong', 'rather', 'three', 'osx', 'store', 'files', 'terms', 'error', 'download', 'commands', 'successor', 'of', 'and', 'features', 'organisms', 'hear', 'was', 'community', 'be', 'size', 'external', 'installed', 'developed', 'file', 'release', 'displays', 'safari', 'deliberately', 'for', 'app', 'binary', 'contains', 'recent', 'basic', 'need', 'cats', 'intel', 'through', 'ears', 'information', 'two', 'marks', 'major', 'domesticated', 'installs', 'common', 'based', 'small', 'however', 'off', 'have', 'purchase', 'online', 'often', 'predecessor', 'most', 'more', 's', 'unix', 'arguments', 'permanently', 'human', 'simply', 'their', 'has', 'safer', 'yosemite', 'world', 'such', 'received', 'versions', 'cat', 'output', 'an', 'won', 'other', 'now', 'sequence', 'than', 'on', 'with', 'both', 'vermin', 'needing', 'no', 'count', 'unnecessary', 'drive', 'adjacent', 'version', 'in', 'allows', 'possess', 'available', 'wild', 'firmware', 'mavericks', 'released', 'typically', 'some', 'changes', 'apple', 'second', 'by', 'undergone', 'receives', 'as', 'left', 'members', 'switch', 'will', 'offered', 'non', 'faint', 'command', 'its', 'time', 'too', 'concatenate', 'pipes', 'part', 'symbols', 'streams', 'since', 'releases', 'tamed', 'useful', 'stdout', 'animals', 'processors', 'between', 'connected', 'weighing', 'where', 'linux', 'are', 'symbol', 'just', 'without', 'which', 'disk', 'if', 'over', 'dogs'}\n"
     ]
    }
   ],
   "source": [
    "#for oString in oArr:\n",
    "for oStr in oArr:\n",
    "    word(oStr)\n",
    "    \n",
    "print(set(oWords))\n",
    "oWordSet = set(oWords)\n"
   ]
  },
  {
   "cell_type": "code",
   "execution_count": 291,
   "metadata": {},
   "outputs": [
    {
     "name": "stdout",
     "output_type": "stream",
     "text": [
      "{0: 'they', 1: 'place', 2: 'keyboards', 3: 'enhancements', 4: 'started', 5: 'os', 6: 'computers', 7: 'or', 8: 'to', 9: 'october', 10: 'a', 11: 'sounds', 12: 'the', 13: 'leopard', 14: 'entirely', 15: 'right', 16: 'x', 17: 'run', 18: 'chromosomes', 19: 'not', 20: 'lb', 21: 'catenates', 22: 'domestication', 23: 'default', 24: 'delete', 25: 'made', 26: 'clear', 27: 'releasing', 28: 'roughly', 29: 'those', 30: 'closest', 31: 'can', 32: 'you', 33: 'new', 34: 'diploid', 35: 'from', 36: 'standard', 37: 'lines', 38: 'may', 39: 'kg', 40: 'moved', 41: 'stdin', 42: 'domestic', 43: 'people', 44: 'separate', 45: 'content', 46: 'mac', 47: 'were', 48: 'factory', 49: 'lion', 50: 'every', 51: 'incremental', 52: 'predators', 53: 'when', 54: 'named', 55: 'interactive', 56: 'longer', 57: 'upgrade', 58: 'so', 59: 'fifth', 60: 't', 61: 'one', 62: 'year', 63: 'artificial', 64: 'redirected', 65: 'genus', 66: 'use', 67: 'that', 68: 'legibility', 69: 'tiger', 70: 'instead', 71: 'high', 72: 'selection', 73: 'genes', 74: 'also', 75: 'used', 76: 'bytes', 77: 'felis', 78: 'any', 79: 'mice', 80: 'learned', 81: 'type', 82: 'read', 83: 'mid', 84: 'comparison', 85: 'later', 86: 'during', 87: 'concern', 88: 'redirection', 89: 'frequency', 90: 'editions', 91: 'it', 92: 'similar', 93: 'starting', 94: 'mountain', 95: 'installation', 96: 'piped', 97: 'single', 98: 'allow', 99: 'according', 100: 'flow', 101: 'ancestor', 102: 'july', 103: 'running', 104: 'create', 105: 'process', 106: 'update', 107: 'using', 108: 'is', 109: 'patch', 110: 'wrong', 111: 'rather', 112: 'three', 113: 'osx', 114: 'store', 115: 'files', 116: 'terms', 117: 'error', 118: 'download', 119: 'commands', 120: 'successor', 121: 'of', 122: 'and', 123: 'features', 124: 'organisms', 125: 'hear', 126: 'was', 127: 'community', 128: 'be', 129: 'size', 130: 'external', 131: 'installed', 132: 'developed', 133: 'file', 134: 'release', 135: 'displays', 136: 'safari', 137: 'deliberately', 138: 'for', 139: 'app', 140: 'binary', 141: 'contains', 142: 'recent', 143: 'basic', 144: 'need', 145: 'cats', 146: 'intel', 147: 'through', 148: 'ears', 149: 'information', 150: 'two', 151: 'marks', 152: 'major', 153: 'domesticated', 154: 'installs', 155: 'common', 156: 'based', 157: 'small', 158: 'however', 159: 'off', 160: 'have', 161: 'purchase', 162: 'online', 163: 'often', 164: 'predecessor', 165: 'most', 166: 'more', 167: 's', 168: 'unix', 169: 'arguments', 170: 'permanently', 171: 'human', 172: 'simply', 173: 'their', 174: 'has', 175: 'safer', 176: 'yosemite', 177: 'world', 178: 'such', 179: 'received', 180: 'versions', 181: 'cat', 182: 'output', 183: 'an', 184: 'won', 185: 'other', 186: 'now', 187: 'sequence', 188: 'than', 189: 'on', 190: 'with', 191: 'both', 192: 'vermin', 193: 'needing', 194: 'no', 195: 'count', 196: 'unnecessary', 197: 'drive', 198: 'adjacent', 199: 'version', 200: 'in', 201: 'allows', 202: 'possess', 203: 'available', 204: 'wild', 205: 'firmware', 206: 'mavericks', 207: 'released', 208: 'typically', 209: 'some', 210: 'changes', 211: 'apple', 212: 'second', 213: 'by', 214: 'undergone', 215: 'receives', 216: 'as', 217: 'left', 218: 'members', 219: 'switch', 220: 'will', 221: 'offered', 222: 'non', 223: 'faint', 224: 'command', 225: 'its', 226: 'time', 227: 'too', 228: 'concatenate', 229: 'pipes', 230: 'part', 231: 'symbols', 232: 'streams', 233: 'since', 234: 'releases', 235: 'tamed', 236: 'useful', 237: 'stdout', 238: 'animals', 239: 'processors', 240: 'between', 241: 'connected', 242: 'weighing', 243: 'where', 244: 'linux', 245: 'are', 246: 'symbol', 247: 'just', 248: 'without', 249: 'which', 250: 'disk', 251: 'if', 252: 'over', 253: 'dogs'} \n",
      "\n",
      " {0: ['in', 'comparison', 'to', 'dogs', 'cats', 'have', 'not', 'undergone', 'major', 'changes', 'during', 'the', 'domestication', 'process', 'cats'], 1: ['as', 'cat', 'simply', 'catenates', 'streams', 'of', 'bytes', 'it', 'can', 'be', 'also', 'used', 'to', 'concatenate', 'binary', 'files', 'where', 'it', 'will', 'just', 'concatenate', 'sequence', 'of', 'bytes'], 2: ['a', 'common', 'interactive', 'use', 'of', 'cat', 'for', 'a', 'single', 'file', 'is', 'to', 'output', 'the', 'content', 'of', 'a', 'file', 'to', 'standard', 'output'], 3: ['cats', 'can', 'hear', 'sounds', 'too', 'faint', 'or', 'too', 'high', 'in', 'frequency', 'for', 'human', 'ears', 'such', 'as', 'those', 'made', 'by', 'mice', 'and', 'other', 'small', 'animals'], 4: ['in', 'one', 'people', 'deliberately', 'tamed', 'cats', 'in', 'a', 'process', 'of', 'artificial', 'selection', 'as', 'they', 'were', 'useful', 'predators', 'of', 'vermin'], 5: ['the', 'domesticated', 'cat', 'and', 'its', 'closest', 'wild', 'ancestor', 'are', 'both', 'diploid', 'organisms', 'that', 'possess', 'chromosomes', 'and', 'roughly', 'genes'], 6: ['domestic', 'cats', 'are', 'similar', 'in', 'size', 'to', 'the', 'other', 'members', 'of', 'the', 'genus', 'felis', 'typically', 'weighing', 'between', 'and', 'kg', 'and', 'lb'], 7: ['however', 'if', 'the', 'output', 'is', 'piped', 'or', 'redirected', 'cat', 'is', 'unnecessary'], 8: ['cat', 'with', 'one', 'named', 'file', 'is', 'safer', 'where', 'human', 'error', 'is', 'a', 'concern', 'one', 'wrong', 'use', 'of', 'the', 'default', 'redirection', 'symbol', 'instead', 'of', 'often', 'adjacent', 'on', 'keyboards', 'may', 'permanently', 'delete', 'the', 'file', 'you', 'were', 'just', 'needing', 'to', 'read'], 9: ['in', 'terms', 'of', 'legibility', 'a', 'sequence', 'of', 'commands', 'starting', 'with', 'cat', 'and', 'connected', 'by', 'pipes', 'has', 'a', 'clear', 'left', 'to', 'right', 'flow', 'of', 'information'], 10: ['cat', 'command', 'is', 'one', 'of', 'the', 'basic', 'commands', 'that', 'you', 'learned', 'when', 'you', 'started', 'in', 'the', 'unix', 'linux', 'world'], 11: ['using', 'cat', 'command', 'the', 'lines', 'received', 'from', 'stdin', 'can', 'be', 'redirected', 'to', 'a', 'new', 'file', 'using', 'redirection', 'symbols'], 12: ['when', 'you', 'type', 'simply', 'cat', 'command', 'without', 'any', 'arguments', 'it', 'just', 'receives', 'the', 'stdin', 'content', 'and', 'displays', 'it', 'in', 'the', 'stdout'], 13: ['leopard', 'was', 'released', 'on', 'october', 'as', 'the', 'successor', 'of', 'tiger', 'version', 'and', 'is', 'available', 'in', 'two', 'editions'], 14: ['according', 'to', 'apple', 'leopard', 'contains', 'over', 'changes', 'and', 'enhancements', 'over', 'its', 'predecessor', 'mac', 'os', 'x', 'tiger'], 15: ['as', 'of', 'mid', 'some', 'apple', 'computers', 'have', 'firmware', 'factory', 'installed', 'which', 'will', 'no', 'longer', 'allow', 'installation', 'of', 'mac', 'os', 'x', 'leopard'], 16: ['since', 'apple', 'moved', 'to', 'using', 'intel', 'processors', 'in', 'their', 'computers', 'the', 'osx', 'community', 'has', 'developed', 'and', 'now', 'also', 'allows', 'mac', 'os', 'x', 'tiger', 'and', 'later', 'releases', 'to', 'be', 'installed', 'on', 'non', 'apple', 'x', 'based', 'computers'], 17: ['os', 'x', 'mountain', 'lion', 'was', 'released', 'on', 'july', 'for', 'purchase', 'and', 'download', 'through', 'apple', 's', 'mac', 'app', 'store', 'as', 'part', 'of', 'a', 'switch', 'to', 'releasing', 'os', 'x', 'versions', 'online', 'and', 'every', 'year'], 18: ['apple', 'has', 'released', 'a', 'small', 'patch', 'for', 'the', 'three', 'most', 'recent', 'versions', 'of', 'safari', 'running', 'on', 'os', 'x', 'yosemite', 'mavericks', 'and', 'mountain', 'lion'], 19: ['the', 'mountain', 'lion', 'release', 'marks', 'the', 'second', 'time', 'apple', 'has', 'offered', 'an', 'incremental', 'upgrade', 'rather', 'than', 'releasing', 'a', 'new', 'cat', 'entirely'], 20: ['mac', 'os', 'x', 'mountain', 'lion', 'installs', 'in', 'place', 'so', 'you', 'won', 't', 'need', 'to', 'create', 'a', 'separate', 'disk', 'or', 'run', 'the', 'installation', 'off', 'an', 'external', 'drive'], 21: ['the', 'fifth', 'major', 'update', 'to', 'mac', 'os', 'x', 'leopard', 'contains', 'such', 'a', 'mountain', 'of', 'features', 'more', 'than', 'by', 'apple', 's', 'count']}\n"
     ]
    }
   ],
   "source": [
    "oWordsDict = {x:y for x,y in enumerate(oWordSet)}\n",
    "oStringDict = {z:c for z,c in enumerate(oArr)}\n",
    "print(oWordsDict, '\\n\\n', oStringDict)"
   ]
  },
  {
   "cell_type": "code",
   "execution_count": 453,
   "metadata": {},
   "outputs": [],
   "source": [
    "def wordInString(oWord, oString, i):\n",
    "    for w in oArr[oString]:\n",
    "        if oWord == w:\n",
    "            i=i+1\n",
    "    return i"
   ]
  },
  {
   "cell_type": "code",
   "execution_count": 467,
   "metadata": {},
   "outputs": [
    {
     "name": "stdout",
     "output_type": "stream",
     "text": [
      "(22, 254)\n",
      "[0, 0, 0, 0, 0, 0, 0, 0, 2, 0, 3, 0, 1, 0, 0, 0, 0, 0, 0, 0, 0, 0, 0, 0, 0, 0, 0, 0, 0, 0, 0, 0, 0, 0, 0, 0, 1, 0, 0, 0, 0, 0, 0, 0, 0, 1, 0, 0, 0, 0, 0, 0, 0, 0, 0, 1, 0, 0, 0, 0, 0, 0, 0, 0, 0, 0, 1, 0, 0, 0, 0, 0, 0, 0, 0, 0, 0, 0, 0, 0, 0, 0, 0, 0, 0, 0, 0, 0, 0, 0, 0, 0, 0, 0, 0, 0, 0, 1, 0, 0, 0, 0, 0, 0, 0, 0, 0, 0, 1, 0, 0, 0, 0, 0, 0, 0, 0, 0, 0, 0, 0, 2, 0, 0, 0, 0, 0, 0, 0, 0, 0, 0, 0, 2, 0, 0, 0, 0, 1, 0, 0, 0, 0, 0, 0, 0, 0, 0, 0, 0, 0, 0, 0, 0, 0, 1, 0, 0, 0, 0, 0, 0, 0, 0, 0, 0, 0, 0, 0, 0, 0, 0, 0, 0, 0, 0, 0, 0, 0, 0, 0, 1, 2, 0, 0, 0, 0, 0, 0, 0, 0, 0, 0, 0, 0, 0, 0, 0, 0, 0, 0, 0, 0, 0, 0, 0, 0, 0, 0, 0, 0, 0, 0, 0, 0, 0, 0, 0, 0, 0, 0, 0, 0, 0, 0, 0, 0, 0, 0, 0, 0, 0, 0, 0, 0, 0, 0, 0, 0, 0, 0, 0, 0, 0, 0, 0, 0, 0, 0, 0, 0, 0, 0, 0]\n"
     ]
    }
   ],
   "source": [
    "matrix = []\n",
    "for s in range(len(oArr)): # s = 22 строк\n",
    "    matrix.append([]) # создаём пустую строку\n",
    "    for w in range(len(oWordSet)): # в каждой строке w = 254 элементов\n",
    "        matrix[s].append(wordInString(oWordsDict[w],s,0)) # добавляем очередной элемент в строку (def wordInSrting(a,b,c))\n",
    "\n",
    "print(np.shape(matrix))\n",
    "print(matrix[2])\n",
    "#for r in matrix:\n",
    "#   print(r)"
   ]
  },
  {
   "cell_type": "code",
   "execution_count": 488,
   "metadata": {},
   "outputs": [
    {
     "name": "stdout",
     "output_type": "stream",
     "text": [
      "[0.0, 0.7089572499564004, 0.7471391312879132, 0.8412231627925111, 0.8482834787727479, 0.8544786249782002, 0.8553796947875626, 0.8573045517536517, 0.8573045517536517, 0.8770119907463818, 0.8823529411764706, 0.8856676099049942, 0.8915347710906719, 0.8949789936978992, 0.8988556525151653, 0.9142507074287456, 0.9327327206003687, 0.9457673855453359, 0.9494278262575826, 0.9494278262575826, 0.9571253537143728, 0.9606555262317683]\n"
     ]
    }
   ],
   "source": [
    "from scipy.spatial import distance\n",
    "#k=1\n",
    "ap = []\n",
    "#pa = []\n",
    "#print(distance.cosine(matrix[0],matrix[5]))\n",
    "for m in matrix:\n",
    "    x = distance.cosine(m,matrix[0])\n",
    "    #print(k,x,'\\n' )\n",
    "    ap.append(x)\n",
    "    #k = k+1\n",
    "print(sorted(ap))"
   ]
  },
  {
   "cell_type": "code",
   "execution_count": 505,
   "metadata": {},
   "outputs": [],
   "source": [
    "def sort_by_value(dictionary):\n",
    "    sorted_list = [(k, dictionary[k]) for k in sorted(dictionary.keys(), key=dictionary.get, reverse=False)]\n",
    "    return sorted_list"
   ]
  },
  {
   "cell_type": "code",
   "execution_count": 507,
   "metadata": {},
   "outputs": [
    {
     "name": "stdout",
     "output_type": "stream",
     "text": [
      "(0, 0.0)\n",
      "(6, 0.7089572499564004)\n",
      "(4, 0.7471391312879132)\n",
      "(21, 0.8412231627925111)\n",
      "(10, 0.8482834787727479)\n",
      "(12, 0.8544786249782002)\n",
      "(16, 0.8553796947875626)\n",
      "(3, 0.8573045517536517)\n",
      "(20, 0.8573045517536517)\n",
      "(2, 0.8770119907463818)\n",
      "(13, 0.8823529411764706)\n",
      "(14, 0.8856676099049942)\n",
      "(11, 0.8915347710906719)\n",
      "(8, 0.8949789936978992)\n",
      "(19, 0.8988556525151653)\n",
      "(9, 0.9142507074287456)\n",
      "(7, 0.9327327206003687)\n",
      "(5, 0.9457673855453359)\n",
      "(15, 0.9494278262575826)\n",
      "(18, 0.9494278262575826)\n",
      "(1, 0.9571253537143728)\n",
      "(17, 0.9606555262317683)\n"
     ]
    }
   ],
   "source": [
    "oApDict = {x:y for x,y in enumerate(ap)}\n",
    "#print(sort_by_value(oApDict))\n",
    "oAx = sort_by_value(oApDict)\n",
    "for i in oAx:\n",
    "    print(i)"
   ]
  },
  {
   "cell_type": "code",
   "execution_count": null,
   "metadata": {},
   "outputs": [],
   "source": []
  }
 ],
 "metadata": {
  "kernelspec": {
   "display_name": "Python 3",
   "language": "python",
   "name": "python3"
  },
  "language_info": {
   "codemirror_mode": {
    "name": "ipython",
    "version": 3
   },
   "file_extension": ".py",
   "mimetype": "text/x-python",
   "name": "python",
   "nbconvert_exporter": "python",
   "pygments_lexer": "ipython3",
   "version": "3.6.5"
  }
 },
 "nbformat": 4,
 "nbformat_minor": 2
}
